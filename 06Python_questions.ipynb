{
  "cells": [
    {
      "cell_type": "markdown",
      "metadata": {
        "id": "view-in-github",
        "colab_type": "text"
      },
      "source": [
        "<a href=\"https://colab.research.google.com/github/Rohan-1103/Python_dsa/blob/master/06Python_questions.ipynb\" target=\"_parent\"><img src=\"https://colab.research.google.com/assets/colab-badge.svg\" alt=\"Open In Colab\"/></a>"
      ]
    },
    {
      "cell_type": "markdown",
      "id": "comfortable-review",
      "metadata": {
        "id": "comfortable-review"
      },
      "source": [
        "# Subarray with Given Sum\n",
        "\n",
        "The following question was asked during a coding interview for Amazon:\n",
        "\n",
        "> You are given an array of numbers (non-negative). Find a continuous subarray of the list which adds up to a given sum.\n",
        "\n",
        "\n",
        "![](https://i.imgur.com/tLEBF7x.png)"
      ]
    },
    {
      "cell_type": "code",
      "execution_count": 15,
      "id": "patient-adelaide",
      "metadata": {
        "id": "patient-adelaide",
        "colab": {
          "base_uri": "https://localhost:8080/"
        },
        "outputId": "0887de9a-56a3-4761-dab2-952f95f8d1e7"
      },
      "outputs": [
        {
          "output_type": "execute_result",
          "data": {
            "text/plain": [
              "[{'input': {'arr': [1, 7, 4, 2, 1, 3, 11, 5], 'target': 10}, 'output': (2, 6)},\n",
              " {'input': {'arr': [1, 7, 4, 2, 1, 3, 11, 5], 'target': 14}, 'output': (1, 5)},\n",
              " {'input': {'arr': [2, 4, 3, 1, 7, 8, 12], 'target': 28}, 'output': (3, 7)},\n",
              " {'input': {'arr': [1, 7, 4, 2, 1, 3, 11, 5], 'target': 12}, 'output': (0, 3)},\n",
              " {'input': {'arr': [8, 2, 9, 3, 1, 4, 3], 'target': 31},\n",
              "  'output': (None, None)},\n",
              " {'input': {'arr': [8, 4, 0, 0, 2, 8, 6], 'target': 6}, 'output': (1, 5)},\n",
              " {'input': {'arr': [8, 4, 0, 0, 2, 8, 6], 'target': 8}, 'output': (0, 1)},\n",
              " {'input': {'arr': [2], 'target': 2}, 'output': (0, 1)}]"
            ]
          },
          "metadata": {},
          "execution_count": 15
        }
      ],
      "source": [
        "# Solve the problem here\n",
        "arr0 = [1, 7, 4, 2, 1, 3, 11, 5]\n",
        "target0 = 10\n",
        "output0 = 2, 6\n",
        "\n",
        "# function defination: include structure of function\n",
        "def subarray_sum(arr, target):\n",
        "  pass\n",
        "\n",
        "# test cases\n",
        "tests = []\n",
        "\n",
        "tests.append({\n",
        "    'input': {\n",
        "        'arr': [1, 7, 4, 2, 1, 3, 11, 5],\n",
        "        'target': 10\n",
        "    },\n",
        "    'output': (2, 6)\n",
        "})\n",
        "\n",
        "# 1. Generic array with the subarray in the middle\n",
        "tests.append({\n",
        "    'input': {\n",
        "        'arr': [1, 7, 4, 2, 1, 3, 11, 5],\n",
        "        'target': 14\n",
        "    },\n",
        "    'output': (1, 5)\n",
        "})\n",
        "\n",
        "# 2. Subarray could be at the end\n",
        "tests.append({\n",
        "    'input': {\n",
        "        'arr': [2, 4, 3, 1, 7, 8, 12],\n",
        "        'target': 28\n",
        "    },\n",
        "    'output': (3, 7)\n",
        "})\n",
        "\n",
        "# 3. Subarray could be at the beginning\n",
        "tests.append({\n",
        "    'input': {\n",
        "        'arr': [1, 7, 4, 2, 1, 3, 11, 5],\n",
        "        'target': 12\n",
        "    },\n",
        "    'output': (0, 3)\n",
        "})\n",
        "\n",
        "# 4. There is no subarray that ends up to target\n",
        "tests.append({\n",
        "    'input': {\n",
        "        'arr': [8, 2, 9, 3, 1, 4, 3],\n",
        "        'target': 31\n",
        "    },\n",
        "    'output': (None, None)\n",
        "})\n",
        "\n",
        "# 5. You have a few zeros in the list(array)\n",
        "tests.append({\n",
        "    'input': {\n",
        "        'arr': [8, 4, 0, 0, 2, 8, 6],\n",
        "        'target': 6\n",
        "    },\n",
        "    'output': (1, 5)\n",
        "})\n",
        "\n",
        "# 6. There are multiple subarrays with the target sum\n",
        "tests.append({\n",
        "    'input': {\n",
        "        'arr': [8, 4, 0, 0, 2, 8, 6],\n",
        "        'target': 8\n",
        "    },\n",
        "    'output': (0, 1)\n",
        "})\n",
        "\n",
        "# 7. The subarray is a single element\n",
        "tests.append({\n",
        "    'input': {\n",
        "        'arr': [2],\n",
        "        'target': 2\n",
        "    },\n",
        "    'output':(0, 1)\n",
        "})\n",
        "\n",
        "tests"
      ]
    },
    {
      "cell_type": "code",
      "source": [
        "# intial solution:\n",
        "def subarray_sum1(arr, target):\n",
        "  n = len(arr)\n",
        "  # i goes from 0 to n-1\n",
        "  for i in range(n):\n",
        "    # j goes from 0 to n\n",
        "    for j in range(i, n+1):\n",
        "      # check if subarray sum equal target\n",
        "      if sum(arr[i:j]) == target:\n",
        "        # answer found\n",
        "        return i, j\n",
        "  # answer not found\n",
        "  return None, None"
      ],
      "metadata": {
        "id": "fvQkrHp851_O"
      },
      "id": "fvQkrHp851_O",
      "execution_count": 16,
      "outputs": []
    },
    {
      "cell_type": "code",
      "execution_count": 17,
      "id": "sought-norman",
      "metadata": {
        "id": "sought-norman",
        "colab": {
          "base_uri": "https://localhost:8080/"
        },
        "outputId": "e12f9a2e-2c1c-452d-fe4c-fd9d79fc3171"
      },
      "outputs": [
        {
          "output_type": "stream",
          "name": "stdout",
          "text": [
            "  Preparing metadata (setup.py) ... \u001b[?25l\u001b[?25hdone\n",
            "\u001b[?25l   \u001b[90m━━━━━━━━━━━━━━━━━━━━━━━━━━━━━━━━━━━━━━━━\u001b[0m \u001b[32m0.0/68.6 kB\u001b[0m \u001b[31m?\u001b[0m eta \u001b[36m-:--:--\u001b[0m\r\u001b[2K   \u001b[90m━━━━━━━━━━━━━━━━━━━━━━━━━━━━━━━━━━━━━━━━\u001b[0m \u001b[32m68.6/68.6 kB\u001b[0m \u001b[31m1.8 MB/s\u001b[0m eta \u001b[36m0:00:00\u001b[0m\n",
            "\u001b[?25h  Building wheel for uuid (setup.py) ... \u001b[?25l\u001b[?25hdone\n"
          ]
        }
      ],
      "source": [
        "# Test the solution here\n",
        "!pip install jovian --upgrade --quiet"
      ]
    },
    {
      "cell_type": "code",
      "execution_count": 18,
      "id": "married-january",
      "metadata": {
        "id": "married-january"
      },
      "outputs": [],
      "source": [
        "import jovian"
      ]
    },
    {
      "cell_type": "code",
      "execution_count": 19,
      "id": "unavailable-dairy",
      "metadata": {
        "id": "unavailable-dairy"
      },
      "outputs": [],
      "source": [
        "# import evaluate test cases from jovian\n",
        "from jovian.pythondsa import evaluate_test_cases"
      ]
    },
    {
      "cell_type": "code",
      "execution_count": 20,
      "id": "amino-relay",
      "metadata": {
        "id": "amino-relay",
        "outputId": "9db48ff5-6383-48e5-d963-7bbee5166546",
        "colab": {
          "base_uri": "https://localhost:8080/"
        }
      },
      "outputs": [
        {
          "output_type": "stream",
          "name": "stdout",
          "text": [
            "\n",
            "\u001b[1mTEST CASE #0\u001b[0m\n",
            "\n",
            "Input:\n",
            "{'arr': [1, 7, 4, 2, 1, 3, 11, 5], 'target': 10}\n",
            "\n",
            "Expected Output:\n",
            "(2, 6)\n",
            "\n",
            "\n",
            "Actual Output:\n",
            "(2, 6)\n",
            "\n",
            "Execution Time:\n",
            "0.021 ms\n",
            "\n",
            "Test Result:\n",
            "\u001b[92mPASSED\u001b[0m\n",
            "\n",
            "\n",
            "\u001b[1mTEST CASE #1\u001b[0m\n",
            "\n",
            "Input:\n",
            "{'arr': [1, 7, 4, 2, 1, 3, 11, 5], 'target': 14}\n",
            "\n",
            "Expected Output:\n",
            "(1, 5)\n",
            "\n",
            "\n",
            "Actual Output:\n",
            "(0, 4)\n",
            "\n",
            "Execution Time:\n",
            "0.009 ms\n",
            "\n",
            "Test Result:\n",
            "\u001b[91mFAILED\u001b[0m\n",
            "\n",
            "\n",
            "\u001b[1mTEST CASE #2\u001b[0m\n",
            "\n",
            "Input:\n",
            "{'arr': [2, 4, 3, 1, 7, 8, 12], 'target': 28}\n",
            "\n",
            "Expected Output:\n",
            "(3, 7)\n",
            "\n",
            "\n",
            "Actual Output:\n",
            "(3, 7)\n",
            "\n",
            "Execution Time:\n",
            "0.027 ms\n",
            "\n",
            "Test Result:\n",
            "\u001b[92mPASSED\u001b[0m\n",
            "\n",
            "\n",
            "\u001b[1mTEST CASE #3\u001b[0m\n",
            "\n",
            "Input:\n",
            "{'arr': [1, 7, 4, 2, 1, 3, 11, 5], 'target': 12}\n",
            "\n",
            "Expected Output:\n",
            "(0, 3)\n",
            "\n",
            "\n",
            "Actual Output:\n",
            "(0, 3)\n",
            "\n",
            "Execution Time:\n",
            "0.008 ms\n",
            "\n",
            "Test Result:\n",
            "\u001b[92mPASSED\u001b[0m\n",
            "\n",
            "\n",
            "\u001b[1mTEST CASE #4\u001b[0m\n",
            "\n",
            "Input:\n",
            "{'arr': [8, 2, 9, 3, 1, 4, 3], 'target': 31}\n",
            "\n",
            "Expected Output:\n",
            "(None, None)\n",
            "\n",
            "\n",
            "Actual Output:\n",
            "(None, None)\n",
            "\n",
            "Execution Time:\n",
            "0.025 ms\n",
            "\n",
            "Test Result:\n",
            "\u001b[92mPASSED\u001b[0m\n",
            "\n",
            "\n",
            "\u001b[1mTEST CASE #5\u001b[0m\n",
            "\n",
            "Input:\n",
            "{'arr': [8, 4, 0, 0, 2, 8, 6], 'target': 6}\n",
            "\n",
            "Expected Output:\n",
            "(1, 5)\n",
            "\n",
            "\n",
            "Actual Output:\n",
            "(1, 5)\n",
            "\n",
            "Execution Time:\n",
            "0.015 ms\n",
            "\n",
            "Test Result:\n",
            "\u001b[92mPASSED\u001b[0m\n",
            "\n",
            "\n",
            "\u001b[1mTEST CASE #6\u001b[0m\n",
            "\n",
            "Input:\n",
            "{'arr': [8, 4, 0, 0, 2, 8, 6], 'target': 8}\n",
            "\n",
            "Expected Output:\n",
            "(0, 1)\n",
            "\n",
            "\n",
            "Actual Output:\n",
            "(0, 1)\n",
            "\n",
            "Execution Time:\n",
            "0.011 ms\n",
            "\n",
            "Test Result:\n",
            "\u001b[92mPASSED\u001b[0m\n",
            "\n",
            "\n",
            "\u001b[1mTEST CASE #7\u001b[0m\n",
            "\n",
            "Input:\n",
            "{'arr': [2], 'target': 2}\n",
            "\n",
            "Expected Output:\n",
            "(0, 1)\n",
            "\n",
            "\n",
            "Actual Output:\n",
            "(0, 1)\n",
            "\n",
            "Execution Time:\n",
            "0.008 ms\n",
            "\n",
            "Test Result:\n",
            "\u001b[92mPASSED\u001b[0m\n",
            "\n",
            "\n",
            "\u001b[1mSUMMARY\u001b[0m\n",
            "\n",
            "TOTAL: 8, \u001b[92mPASSED\u001b[0m: 7, \u001b[91mFAILED\u001b[0m: 1\n"
          ]
        },
        {
          "output_type": "execute_result",
          "data": {
            "text/plain": [
              "[((2, 6), True, 0.021),\n",
              " ((0, 4), False, 0.009),\n",
              " ((3, 7), True, 0.027),\n",
              " ((0, 3), True, 0.008),\n",
              " ((None, None), True, 0.025),\n",
              " ((1, 5), True, 0.015),\n",
              " ((0, 1), True, 0.011),\n",
              " ((0, 1), True, 0.008)]"
            ]
          },
          "metadata": {},
          "execution_count": 20
        }
      ],
      "source": [
        "evaluate_test_cases(subarray_sum1, tests)"
      ]
    },
    {
      "cell_type": "markdown",
      "id": "later-organization",
      "metadata": {
        "id": "later-organization"
      },
      "source": [
        "Brute force $O(n^3)$:"
      ]
    },
    {
      "cell_type": "code",
      "execution_count": 21,
      "id": "patient-mounting",
      "metadata": {
        "id": "patient-mounting",
        "colab": {
          "base_uri": "https://localhost:8080/"
        },
        "outputId": "5ee178de-f723-45d6-f5fa-452e43103b3d"
      },
      "outputs": [
        {
          "output_type": "stream",
          "name": "stdout",
          "text": [
            "[jovian] Detected Colab notebook...\u001b[0m\n",
            "[jovian] jovian.commit() is no longer required on Google Colab. If you ran this notebook from Jovian, \n",
            "then just save this file in Colab using Ctrl+S/Cmd+S and it will be updated on Jovian. \n",
            "Also, you can also delete this cell, it's no longer necessary.\u001b[0m\n"
          ]
        }
      ],
      "source": [
        "jovian.commit()"
      ]
    },
    {
      "cell_type": "markdown",
      "id": "indoor-marshall",
      "metadata": {
        "id": "indoor-marshall"
      },
      "source": [
        "## Optimized Solution"
      ]
    },
    {
      "cell_type": "code",
      "execution_count": 22,
      "id": "becoming-brooks",
      "metadata": {
        "id": "becoming-brooks"
      },
      "outputs": [],
      "source": [
        "# maintain a running sum for inner loop\n",
        "# when sum exceeds target, break inner loop"
      ]
    },
    {
      "cell_type": "code",
      "execution_count": 23,
      "id": "pursuant-connection",
      "metadata": {
        "id": "pursuant-connection"
      },
      "outputs": [],
      "source": [
        "def subarray_sum2(arr, target):\n",
        "  n = len(arr)\n",
        "  for i in range(0, n):\n",
        "    s = 0\n",
        "    for j in range(i, n+1):\n",
        "      if s == target:\n",
        "        return i, j\n",
        "      elif s > target:\n",
        "        break\n",
        "      if j < n:\n",
        "        s += arr[j]\n",
        "  return None, None"
      ]
    },
    {
      "cell_type": "code",
      "source": [
        "arr0, target0"
      ],
      "metadata": {
        "colab": {
          "base_uri": "https://localhost:8080/"
        },
        "id": "YD1dP6jc8CI_",
        "outputId": "3c67a31d-2a33-4629-f340-269ba4dcb37a"
      },
      "id": "YD1dP6jc8CI_",
      "execution_count": 24,
      "outputs": [
        {
          "output_type": "execute_result",
          "data": {
            "text/plain": [
              "([1, 7, 4, 2, 1, 3, 11, 5], 10)"
            ]
          },
          "metadata": {},
          "execution_count": 24
        }
      ]
    },
    {
      "cell_type": "code",
      "execution_count": 25,
      "id": "oriental-exhibition",
      "metadata": {
        "id": "oriental-exhibition",
        "outputId": "559b601c-57da-4a88-b947-31e4ffc6a3a7",
        "colab": {
          "base_uri": "https://localhost:8080/"
        }
      },
      "outputs": [
        {
          "output_type": "execute_result",
          "data": {
            "text/plain": [
              "(2, 6, [4, 2, 1, 3])"
            ]
          },
          "metadata": {},
          "execution_count": 25
        }
      ],
      "source": [
        "i, j = subarray_sum2(arr0, target0)\n",
        "i, j, arr0[i:j]"
      ]
    },
    {
      "cell_type": "code",
      "source": [
        "evaluate_test_cases(subarray_sum2, tests)"
      ],
      "metadata": {
        "colab": {
          "base_uri": "https://localhost:8080/"
        },
        "id": "5g937j788nsf",
        "outputId": "4fcdcf9c-c406-47c6-d67c-98d65aac1b38"
      },
      "id": "5g937j788nsf",
      "execution_count": 26,
      "outputs": [
        {
          "output_type": "stream",
          "name": "stdout",
          "text": [
            "\n",
            "\u001b[1mTEST CASE #0\u001b[0m\n",
            "\n",
            "Input:\n",
            "{'arr': [1, 7, 4, 2, 1, 3, 11, 5], 'target': 10}\n",
            "\n",
            "Expected Output:\n",
            "(2, 6)\n",
            "\n",
            "\n",
            "Actual Output:\n",
            "(2, 6)\n",
            "\n",
            "Execution Time:\n",
            "0.014 ms\n",
            "\n",
            "Test Result:\n",
            "\u001b[92mPASSED\u001b[0m\n",
            "\n",
            "\n",
            "\u001b[1mTEST CASE #1\u001b[0m\n",
            "\n",
            "Input:\n",
            "{'arr': [1, 7, 4, 2, 1, 3, 11, 5], 'target': 14}\n",
            "\n",
            "Expected Output:\n",
            "(1, 5)\n",
            "\n",
            "\n",
            "Actual Output:\n",
            "(0, 4)\n",
            "\n",
            "Execution Time:\n",
            "0.007 ms\n",
            "\n",
            "Test Result:\n",
            "\u001b[91mFAILED\u001b[0m\n",
            "\n",
            "\n",
            "\u001b[1mTEST CASE #2\u001b[0m\n",
            "\n",
            "Input:\n",
            "{'arr': [2, 4, 3, 1, 7, 8, 12], 'target': 28}\n",
            "\n",
            "Expected Output:\n",
            "(3, 7)\n",
            "\n",
            "\n",
            "Actual Output:\n",
            "(3, 7)\n",
            "\n",
            "Execution Time:\n",
            "0.013 ms\n",
            "\n",
            "Test Result:\n",
            "\u001b[92mPASSED\u001b[0m\n",
            "\n",
            "\n",
            "\u001b[1mTEST CASE #3\u001b[0m\n",
            "\n",
            "Input:\n",
            "{'arr': [1, 7, 4, 2, 1, 3, 11, 5], 'target': 12}\n",
            "\n",
            "Expected Output:\n",
            "(0, 3)\n",
            "\n",
            "\n",
            "Actual Output:\n",
            "(0, 3)\n",
            "\n",
            "Execution Time:\n",
            "0.006 ms\n",
            "\n",
            "Test Result:\n",
            "\u001b[92mPASSED\u001b[0m\n",
            "\n",
            "\n",
            "\u001b[1mTEST CASE #4\u001b[0m\n",
            "\n",
            "Input:\n",
            "{'arr': [8, 2, 9, 3, 1, 4, 3], 'target': 31}\n",
            "\n",
            "Expected Output:\n",
            "(None, None)\n",
            "\n",
            "\n",
            "Actual Output:\n",
            "(None, None)\n",
            "\n",
            "Execution Time:\n",
            "0.013 ms\n",
            "\n",
            "Test Result:\n",
            "\u001b[92mPASSED\u001b[0m\n",
            "\n",
            "\n",
            "\u001b[1mTEST CASE #5\u001b[0m\n",
            "\n",
            "Input:\n",
            "{'arr': [8, 4, 0, 0, 2, 8, 6], 'target': 6}\n",
            "\n",
            "Expected Output:\n",
            "(1, 5)\n",
            "\n",
            "\n",
            "Actual Output:\n",
            "(1, 5)\n",
            "\n",
            "Execution Time:\n",
            "0.006 ms\n",
            "\n",
            "Test Result:\n",
            "\u001b[92mPASSED\u001b[0m\n",
            "\n",
            "\n",
            "\u001b[1mTEST CASE #6\u001b[0m\n",
            "\n",
            "Input:\n",
            "{'arr': [8, 4, 0, 0, 2, 8, 6], 'target': 8}\n",
            "\n",
            "Expected Output:\n",
            "(0, 1)\n",
            "\n",
            "\n",
            "Actual Output:\n",
            "(0, 1)\n",
            "\n",
            "Execution Time:\n",
            "0.005 ms\n",
            "\n",
            "Test Result:\n",
            "\u001b[92mPASSED\u001b[0m\n",
            "\n",
            "\n",
            "\u001b[1mTEST CASE #7\u001b[0m\n",
            "\n",
            "Input:\n",
            "{'arr': [2], 'target': 2}\n",
            "\n",
            "Expected Output:\n",
            "(0, 1)\n",
            "\n",
            "\n",
            "Actual Output:\n",
            "(0, 1)\n",
            "\n",
            "Execution Time:\n",
            "0.005 ms\n",
            "\n",
            "Test Result:\n",
            "\u001b[92mPASSED\u001b[0m\n",
            "\n",
            "\n",
            "\u001b[1mSUMMARY\u001b[0m\n",
            "\n",
            "TOTAL: 8, \u001b[92mPASSED\u001b[0m: 7, \u001b[91mFAILED\u001b[0m: 1\n"
          ]
        },
        {
          "output_type": "execute_result",
          "data": {
            "text/plain": [
              "[((2, 6), True, 0.014),\n",
              " ((0, 4), False, 0.007),\n",
              " ((3, 7), True, 0.013),\n",
              " ((0, 3), True, 0.006),\n",
              " ((None, None), True, 0.013),\n",
              " ((1, 5), True, 0.006),\n",
              " ((0, 1), True, 0.005),\n",
              " ((0, 1), True, 0.005)]"
            ]
          },
          "metadata": {},
          "execution_count": 26
        }
      ]
    },
    {
      "cell_type": "markdown",
      "id": "hundred-herald",
      "metadata": {
        "id": "hundred-herald"
      },
      "source": [
        "Better brute force $O(n^2)$:"
      ]
    },
    {
      "cell_type": "markdown",
      "source": [
        "### Even better"
      ],
      "metadata": {
        "id": "Z1AtMrZ4DT5V"
      },
      "id": "Z1AtMrZ4DT5V"
    },
    {
      "cell_type": "code",
      "execution_count": 27,
      "id": "round-least",
      "metadata": {
        "id": "round-least"
      },
      "outputs": [],
      "source": [
        "def subarray_sum3(arr, target):\n",
        "    n = len(arr)\n",
        "    i, j, s = 0, 0, 0\n",
        "    while i < n and j <= n:\n",
        "        if s == target:\n",
        "            return i, j\n",
        "        elif s < target:\n",
        "          if j < n:\n",
        "              s += arr[j]\n",
        "          j += 1\n",
        "        elif s > target:\n",
        "            s -= arr[i]\n",
        "            i += 1\n",
        "    return None, None\n"
      ]
    },
    {
      "cell_type": "code",
      "execution_count": 28,
      "id": "wrong-walnut",
      "metadata": {
        "id": "wrong-walnut",
        "outputId": "f493cf5f-60d7-441a-c0b9-278c669439e5",
        "colab": {
          "base_uri": "https://localhost:8080/"
        }
      },
      "outputs": [
        {
          "output_type": "execute_result",
          "data": {
            "text/plain": [
              "(2, 6, [4, 2, 1, 3])"
            ]
          },
          "metadata": {},
          "execution_count": 28
        }
      ],
      "source": [
        "i, j = subarray_sum3(arr0, target0)\n",
        "i, j, arr0[i:j]"
      ]
    },
    {
      "cell_type": "code",
      "execution_count": 29,
      "id": "administrative-blind",
      "metadata": {
        "id": "administrative-blind",
        "colab": {
          "base_uri": "https://localhost:8080/"
        },
        "outputId": "bf244ec7-adb4-456d-c875-29a8f6400664"
      },
      "outputs": [
        {
          "output_type": "stream",
          "name": "stdout",
          "text": [
            "\n",
            "\u001b[1mTEST CASE #0\u001b[0m\n",
            "\n",
            "Input:\n",
            "{'arr': [1, 7, 4, 2, 1, 3, 11, 5], 'target': 10}\n",
            "\n",
            "Expected Output:\n",
            "(2, 6)\n",
            "\n",
            "\n",
            "Actual Output:\n",
            "(2, 6)\n",
            "\n",
            "Execution Time:\n",
            "0.009 ms\n",
            "\n",
            "Test Result:\n",
            "\u001b[92mPASSED\u001b[0m\n",
            "\n",
            "\n",
            "\u001b[1mTEST CASE #1\u001b[0m\n",
            "\n",
            "Input:\n",
            "{'arr': [1, 7, 4, 2, 1, 3, 11, 5], 'target': 14}\n",
            "\n",
            "Expected Output:\n",
            "(1, 5)\n",
            "\n",
            "\n",
            "Actual Output:\n",
            "(0, 4)\n",
            "\n",
            "Execution Time:\n",
            "0.005 ms\n",
            "\n",
            "Test Result:\n",
            "\u001b[91mFAILED\u001b[0m\n",
            "\n",
            "\n",
            "\u001b[1mTEST CASE #2\u001b[0m\n",
            "\n",
            "Input:\n",
            "{'arr': [2, 4, 3, 1, 7, 8, 12], 'target': 28}\n",
            "\n",
            "Expected Output:\n",
            "(3, 7)\n",
            "\n",
            "\n",
            "Actual Output:\n",
            "(3, 7)\n",
            "\n",
            "Execution Time:\n",
            "0.009 ms\n",
            "\n",
            "Test Result:\n",
            "\u001b[92mPASSED\u001b[0m\n",
            "\n",
            "\n",
            "\u001b[1mTEST CASE #3\u001b[0m\n",
            "\n",
            "Input:\n",
            "{'arr': [1, 7, 4, 2, 1, 3, 11, 5], 'target': 12}\n",
            "\n",
            "Expected Output:\n",
            "(0, 3)\n",
            "\n",
            "\n",
            "Actual Output:\n",
            "(0, 3)\n",
            "\n",
            "Execution Time:\n",
            "0.005 ms\n",
            "\n",
            "Test Result:\n",
            "\u001b[92mPASSED\u001b[0m\n",
            "\n",
            "\n",
            "\u001b[1mTEST CASE #4\u001b[0m\n",
            "\n",
            "Input:\n",
            "{'arr': [8, 2, 9, 3, 1, 4, 3], 'target': 31}\n",
            "\n",
            "Expected Output:\n",
            "(None, None)\n",
            "\n",
            "\n",
            "Actual Output:\n",
            "(None, None)\n",
            "\n",
            "Execution Time:\n",
            "0.009 ms\n",
            "\n",
            "Test Result:\n",
            "\u001b[92mPASSED\u001b[0m\n",
            "\n",
            "\n",
            "\u001b[1mTEST CASE #5\u001b[0m\n",
            "\n",
            "Input:\n",
            "{'arr': [8, 4, 0, 0, 2, 8, 6], 'target': 6}\n",
            "\n",
            "Expected Output:\n",
            "(1, 5)\n",
            "\n",
            "\n",
            "Actual Output:\n",
            "(1, 5)\n",
            "\n",
            "Execution Time:\n",
            "0.006 ms\n",
            "\n",
            "Test Result:\n",
            "\u001b[92mPASSED\u001b[0m\n",
            "\n",
            "\n",
            "\u001b[1mTEST CASE #6\u001b[0m\n",
            "\n",
            "Input:\n",
            "{'arr': [8, 4, 0, 0, 2, 8, 6], 'target': 8}\n",
            "\n",
            "Expected Output:\n",
            "(0, 1)\n",
            "\n",
            "\n",
            "Actual Output:\n",
            "(0, 1)\n",
            "\n",
            "Execution Time:\n",
            "0.004 ms\n",
            "\n",
            "Test Result:\n",
            "\u001b[92mPASSED\u001b[0m\n",
            "\n",
            "\n",
            "\u001b[1mTEST CASE #7\u001b[0m\n",
            "\n",
            "Input:\n",
            "{'arr': [2], 'target': 2}\n",
            "\n",
            "Expected Output:\n",
            "(0, 1)\n",
            "\n",
            "\n",
            "Actual Output:\n",
            "(0, 1)\n",
            "\n",
            "Execution Time:\n",
            "0.003 ms\n",
            "\n",
            "Test Result:\n",
            "\u001b[92mPASSED\u001b[0m\n",
            "\n",
            "\n",
            "\u001b[1mSUMMARY\u001b[0m\n",
            "\n",
            "TOTAL: 8, \u001b[92mPASSED\u001b[0m: 7, \u001b[91mFAILED\u001b[0m: 1\n"
          ]
        },
        {
          "output_type": "execute_result",
          "data": {
            "text/plain": [
              "[((2, 6), True, 0.009),\n",
              " ((0, 4), False, 0.005),\n",
              " ((3, 7), True, 0.009),\n",
              " ((0, 3), True, 0.005),\n",
              " ((None, None), True, 0.009),\n",
              " ((1, 5), True, 0.006),\n",
              " ((0, 1), True, 0.004),\n",
              " ((0, 1), True, 0.003)]"
            ]
          },
          "metadata": {},
          "execution_count": 29
        }
      ],
      "source": [
        "evaluate_test_cases(subarray_sum3, tests)"
      ]
    },
    {
      "cell_type": "markdown",
      "id": "prime-photograph",
      "metadata": {
        "id": "prime-photograph"
      },
      "source": [
        "Greedy algorithm $O(n)$:"
      ]
    },
    {
      "cell_type": "markdown",
      "source": [
        "# Problem 2:\n",
        "## Minimum Edit Distance\n",
        "\n",
        "The following interview was asked during a coding interview at Google:\n",
        "\n",
        "> Given two strings A and B, find the minimum number of steps required to convert A to B. (each operation is counted as 1 step.) You have the following 3 operations permitted on a word:\n",
        ">\n",
        "> * Insert a character\n",
        "> * Delete a character\n",
        "> * Replace a character\n",
        "\n",
        "Here's a visual representation (source: iDeserve)\n",
        "\n",
        "![](https://www.ideserve.co.in/learn/img/editDistance_0.gif)"
      ],
      "metadata": {
        "id": "BleYjE4VSrDL"
      },
      "id": "BleYjE4VSrDL"
    },
    {
      "cell_type": "code",
      "source": [
        "# input\n",
        "str1 = \"intension\"\n",
        "str2 = \"execution\"\n",
        "# output\n",
        "output1 = 5\n",
        "\n",
        "# function signature\n",
        "def min_steps(str1, str2):\n",
        "  pass"
      ],
      "metadata": {
        "id": "CZRc8cQGTHLG"
      },
      "id": "CZRc8cQGTHLG",
      "execution_count": 30,
      "outputs": []
    },
    {
      "cell_type": "markdown",
      "source": [
        "## test cases\n",
        "> 1. General case (listed above)\n",
        "> 2. No change is required\n",
        "> 3. All the characters need to be changed\n",
        "> 4. Equal length of strings\n",
        "> 5. Unequal length of strings\n",
        "> 6. One of the string is empty\n",
        "> 7. Only deletion, only addition, only swap"
      ],
      "metadata": {
        "id": "ELEsjPYoXgUj"
      },
      "id": "ELEsjPYoXgUj"
    },
    {
      "cell_type": "markdown",
      "source": [
        "### Writing the idea behind solution in english.\n",
        "\n",
        "  ##### Recursive solution:\n",
        "  > 1. if characters are equal; move forward.\n",
        "  > 2. if not equal,\n",
        "      - either delete it:\n",
        "        - 1 + recursively solve after ignoring first character of str1\n",
        "      - or swap:\n",
        "        - 1 + recursively solve after ignoring the first character of each strs\n",
        "      - or add character before it:\n",
        "        - 1 + recursively solve after ignoring the first character of str2"
      ],
      "metadata": {
        "id": "hsAo4rbqX-HH"
      },
      "id": "hsAo4rbqX-HH"
    },
    {
      "cell_type": "code",
      "source": [
        "# brute force solution\n",
        "def min_steps(str1, str2, i1 = 0, i2 = 0):\n",
        "  if i1 == len(str1):\n",
        "    return len(str2) - i2\n",
        "  elif i2 == len(str2):\n",
        "    return len(str1) - i1\n",
        "  elif str1[i1] == str2[i2]:\n",
        "    return min_steps(str1, str2, i1+1, i2+1)\n",
        "  else:\n",
        "    return 1 + min(min_steps(str1, str2, i1+1, i2),       # Deleted the 1st ele of str1\n",
        "                    min_steps(str1, str2, i1, i2+1),      # inserted element before str1\n",
        "                    min_steps(str1, str2, i1+1, i2+1))    # swap"
      ],
      "metadata": {
        "id": "HV3sFXn2X9y8"
      },
      "id": "HV3sFXn2X9y8",
      "execution_count": 31,
      "outputs": []
    },
    {
      "cell_type": "markdown",
      "source": [
        "## test cases\n",
        "> 1. General case (listed above)\n",
        "> 2. No change is required\n",
        "> 3. All the characters need to be changed\n",
        "> 4. Equal length of strings\n",
        "> 5. Unequal length of strings\n",
        "> 6. One of the string is empty\n",
        "> 7. Only deletion, only addition, only swap"
      ],
      "metadata": {
        "id": "zCsuJLJwssw4"
      },
      "id": "zCsuJLJwssw4"
    },
    {
      "cell_type": "code",
      "source": [
        "print(min_steps('int', 'int'))\n",
        "print(min_steps('close', 'apria'))\n",
        "print(min_steps('kiran', 'rohan'))\n",
        "print(min_steps('sunday', 'saturday'))\n",
        "print(min_steps('pratham', ''))\n",
        "print(min_steps('Sun', 'Sunday'))\n",
        "print(min_steps('intention', 'tention'))\n",
        "print(min_steps('station', 'nations'))\n",
        "# handrun\n",
        "print(min_steps('intention', 'execution'))"
      ],
      "metadata": {
        "colab": {
          "base_uri": "https://localhost:8080/"
        },
        "id": "13XxBE_XWiZP",
        "outputId": "dba9b43c-28d1-4b02-eaad-5eed9367cca5"
      },
      "id": "13XxBE_XWiZP",
      "execution_count": 32,
      "outputs": [
        {
          "output_type": "stream",
          "name": "stdout",
          "text": [
            "0\n",
            "5\n",
            "3\n",
            "3\n",
            "7\n",
            "3\n",
            "2\n",
            "3\n",
            "5\n"
          ]
        }
      ]
    },
    {
      "cell_type": "markdown",
      "source": [
        "##### Complexity of recursive solution: O(3<sup>(n1 + n2)</sup>)"
      ],
      "metadata": {
        "id": "vlP1Ook0xXp8"
      },
      "id": "vlP1Ook0xXp8"
    },
    {
      "cell_type": "markdown",
      "source": [
        "### Better solution: Using memoization"
      ],
      "metadata": {
        "id": "LLQJoufz0tX0"
      },
      "id": "LLQJoufz0tX0"
    },
    {
      "cell_type": "code",
      "source": [
        "def min_count_memo(str1, str2):\n",
        "  memo = {}\n",
        "  def recurse(i1, i2):\n",
        "    key = (i1, i2)\n",
        "    if key in memo:\n",
        "      return memo[key]\n",
        "    elif i1 == len(str1):\n",
        "      memo[key] = len(str2) - i2\n",
        "    elif i2 == len(str2):\n",
        "      memo[key] = len(str1) - i1\n",
        "    elif str1[i1] == str2[i2]:\n",
        "      memo[key] = recurse(i1+1, i2+1)\n",
        "    else:\n",
        "      memo[key] = 1 + min(recurse(i1+1, i2), recurse(i1, i2+1), recurse(i1+1, i2+1))\n",
        "    return memo[key]\n",
        "  return recurse(0, 0)"
      ],
      "metadata": {
        "id": "uG4IoDKHtltJ"
      },
      "id": "uG4IoDKHtltJ",
      "execution_count": 33,
      "outputs": []
    },
    {
      "cell_type": "code",
      "source": [
        "print(min_count_memo('int', 'int'))\n",
        "print(min_count_memo('close', 'apria'))\n",
        "print(min_count_memo('kiran', 'rohan'))\n",
        "print(min_count_memo('sunday', 'saturday'))\n",
        "print(min_count_memo('pratham', ''))\n",
        "print(min_count_memo('Sun', 'Sunday'))\n",
        "print(min_count_memo('intention', 'tention'))\n",
        "print(min_count_memo('station', 'nations'))\n",
        "# handrun\n",
        "print(min_count_memo('intention', 'execution'))"
      ],
      "metadata": {
        "colab": {
          "base_uri": "https://localhost:8080/"
        },
        "id": "6fVl7lSM1g64",
        "outputId": "71b3db51-41d6-4b4b-c5cc-803289665e90"
      },
      "id": "6fVl7lSM1g64",
      "execution_count": 34,
      "outputs": [
        {
          "output_type": "stream",
          "name": "stdout",
          "text": [
            "0\n",
            "5\n",
            "3\n",
            "3\n",
            "7\n",
            "3\n",
            "2\n",
            "3\n",
            "5\n"
          ]
        }
      ]
    },
    {
      "cell_type": "markdown",
      "source": [
        "##### Complexity of memoized solution: O(n1 + n2)"
      ],
      "metadata": {
        "id": "PmYzRD_f2KCv"
      },
      "id": "PmYzRD_f2KCv"
    },
    {
      "cell_type": "code",
      "source": [],
      "metadata": {
        "id": "e2aNBxGY1uoS"
      },
      "id": "e2aNBxGY1uoS",
      "execution_count": null,
      "outputs": []
    }
  ],
  "metadata": {
    "kernelspec": {
      "display_name": "Python 3",
      "language": "python",
      "name": "python3"
    },
    "language_info": {
      "codemirror_mode": {
        "name": "ipython",
        "version": 3
      },
      "file_extension": ".py",
      "mimetype": "text/x-python",
      "name": "python",
      "nbconvert_exporter": "python",
      "pygments_lexer": "ipython3",
      "version": "3.6.12"
    },
    "colab": {
      "provenance": [],
      "include_colab_link": true
    }
  },
  "nbformat": 4,
  "nbformat_minor": 5
}