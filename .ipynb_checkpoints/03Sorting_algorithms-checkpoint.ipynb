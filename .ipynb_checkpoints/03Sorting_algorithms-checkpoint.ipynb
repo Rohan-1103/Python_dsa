{
 "cells": [
  {
   "cell_type": "markdown",
   "id": "6a1f03df",
   "metadata": {},
   "source": [
    "# Q1: Function to sort the list of numbers in increasing order\n",
    "**Input:**\n",
    "   1. nums: A list of numbers like [4, 2, 6, 3, 4, 6, 3, 1]\n",
    "**Output:**\n",
    "   1. sorted_nums: The sorted version of nums e.g. [1, 2, 2, 3, 4, 4, 6]"
   ]
  },
  {
   "cell_type": "markdown",
   "id": "e7dece7c",
   "metadata": {},
   "source": [
    "# S1: Understand the problem"
   ]
  },
  {
   "cell_type": "code",
   "execution_count": 1,
   "id": "249cb811",
   "metadata": {},
   "outputs": [],
   "source": [
    "def sort(nums):\n",
    "    pass"
   ]
  },
  {
   "cell_type": "markdown",
   "id": "ac592efd",
   "metadata": {},
   "source": [
    "# S2: Create test cases"
   ]
  },
  {
   "cell_type": "code",
   "execution_count": 2,
   "id": "323e292a",
   "metadata": {},
   "outputs": [],
   "source": [
    "# list of numbers in random order\n",
    "test0 = {\n",
    "    'input':\n",
    "    {\n",
    "        'nums': [4, 2, 6, 3, 4, 6, 2, 1]\n",
    "    },\n",
    "    'output': [1, 2, 2, 3, 4, 4, 6, 6]\n",
    "}"
   ]
  },
  {
   "cell_type": "code",
   "execution_count": 3,
   "id": "78909c58",
   "metadata": {},
   "outputs": [],
   "source": [
    "# already sorted list\n",
    "test1 = {\n",
    "    'input':\n",
    "    {\n",
    "        'nums': [2, 3, 4, 5, 7, 9]\n",
    "    },\n",
    "    'output': [2, 3, 4, 5, 7, 9]\n",
    "}"
   ]
  },
  {
   "cell_type": "code",
   "execution_count": 4,
   "id": "ccba670c",
   "metadata": {},
   "outputs": [],
   "source": [
    "# list sorted in descending order\n",
    "test2 = {\n",
    "    'input':\n",
    "    {\n",
    "        'nums': [9, 7, 6, 4, 3, 2, 1]\n",
    "    },\n",
    "    'output': [1, 2, 3, 4, 6, 7, 9]\n",
    "}"
   ]
  },
  {
   "cell_type": "code",
   "execution_count": 5,
   "id": "8ef0542e",
   "metadata": {},
   "outputs": [],
   "source": [
    "# list containing repeating numbers\n",
    "test3 = {\n",
    "    'input':\n",
    "    {\n",
    "        'nums':[1, 3, 6, 7, 8, 8, 9, 2, 4, 6, 7]\n",
    "    },\n",
    "    'output': [1, 2, 3, 4, 6, 6, 7, 7, 8, 8, 9]\n",
    "}"
   ]
  },
  {
   "cell_type": "code",
   "execution_count": 6,
   "id": "87b26332",
   "metadata": {},
   "outputs": [],
   "source": [
    "# empty list\n",
    "test4 = {\n",
    "    'input':\n",
    "    {\n",
    "        'nums':[]\n",
    "    },\n",
    "    'output': []\n",
    "}"
   ]
  },
  {
   "cell_type": "code",
   "execution_count": 7,
   "id": "0180dffb",
   "metadata": {},
   "outputs": [],
   "source": [
    "# list containing just one element\n",
    "test5 = {\n",
    "    'input':\n",
    "    {\n",
    "        'nums':[4]\n",
    "    },\n",
    "    'output': [4]\n",
    "}"
   ]
  },
  {
   "cell_type": "code",
   "execution_count": 8,
   "id": "bea8582f",
   "metadata": {},
   "outputs": [],
   "source": [
    "# list containing one number repeating multiple times\n",
    "test6 = {\n",
    "    'input':\n",
    "    {\n",
    "        'nums':[16, 16, 16, 16, 16, 16]\n",
    "    },\n",
    "    'output': [16, 16, 16, 16, 16, 16]\n",
    "}"
   ]
  },
  {
   "cell_type": "code",
   "execution_count": 9,
   "id": "4f974248",
   "metadata": {},
   "outputs": [],
   "source": [
    "# really long list\n",
    "test7 = {\n",
    "    'input':\n",
    "    {\n",
    "        'nums':[1, 1, 6, 7, 8, 8, 9, 2, 4, -6, 7, 11, 13, 1, 10, 6, 7, 88, 9, 21, 41, 69]\n",
    "    },\n",
    "    'output': [-6, 1, 1, 1, 2, 4, 6, 6, 7, 7, 7, 8, 8, 9, 9, 10, 11, 13, 21, 41, 69, 88]\n",
    "}"
   ]
  },
  {
   "cell_type": "code",
   "execution_count": 10,
   "id": "71d6b3cb",
   "metadata": {},
   "outputs": [],
   "source": [
    "import random\n",
    "\n",
    "in_list = list(range(10000))\n",
    "out_list = list(range(10000))\n",
    "random.shuffle(in_list)\n",
    "\n",
    "test8 = {\n",
    "    'input':\n",
    "    {\n",
    "        'nums': in_list\n",
    "    },\n",
    "    'output': out_list\n",
    "}"
   ]
  },
  {
   "cell_type": "code",
   "execution_count": 11,
   "id": "9708771d",
   "metadata": {},
   "outputs": [
    {
     "data": {
      "text/plain": [
       "[2873, 7471, 7119, 336, 9568, 5968, 2880, 5796, 6512, 9103, 1379]"
      ]
     },
     "execution_count": 11,
     "metadata": {},
     "output_type": "execute_result"
    }
   ],
   "source": [
    "in_list[:11]"
   ]
  },
  {
   "cell_type": "code",
   "execution_count": 12,
   "id": "4fd9f82e",
   "metadata": {},
   "outputs": [
    {
     "data": {
      "text/plain": [
       "[0,\n",
       " 1,\n",
       " 2,\n",
       " 3,\n",
       " 4,\n",
       " 5,\n",
       " 6,\n",
       " 7,\n",
       " 8,\n",
       " 9,\n",
       " 10,\n",
       " 11,\n",
       " 12,\n",
       " 13,\n",
       " 14,\n",
       " 15,\n",
       " 16,\n",
       " 17,\n",
       " 18,\n",
       " 19,\n",
       " 20,\n",
       " 21,\n",
       " 22,\n",
       " 23,\n",
       " 24,\n",
       " 25,\n",
       " 26,\n",
       " 27,\n",
       " 28,\n",
       " 29,\n",
       " 30,\n",
       " 31,\n",
       " 32,\n",
       " 33,\n",
       " 34,\n",
       " 35,\n",
       " 36,\n",
       " 37,\n",
       " 38,\n",
       " 39,\n",
       " 40,\n",
       " 41,\n",
       " 42,\n",
       " 43,\n",
       " 44,\n",
       " 45,\n",
       " 46,\n",
       " 47,\n",
       " 48,\n",
       " 49,\n",
       " 50,\n",
       " 51,\n",
       " 52,\n",
       " 53,\n",
       " 54,\n",
       " 55,\n",
       " 56,\n",
       " 57,\n",
       " 58,\n",
       " 59,\n",
       " 60,\n",
       " 61,\n",
       " 62,\n",
       " 63,\n",
       " 64,\n",
       " 65,\n",
       " 66,\n",
       " 67,\n",
       " 68,\n",
       " 69,\n",
       " 70,\n",
       " 71,\n",
       " 72,\n",
       " 73,\n",
       " 74,\n",
       " 75,\n",
       " 76,\n",
       " 77,\n",
       " 78,\n",
       " 79,\n",
       " 80,\n",
       " 81,\n",
       " 82,\n",
       " 83,\n",
       " 84,\n",
       " 85,\n",
       " 86,\n",
       " 87,\n",
       " 88,\n",
       " 89,\n",
       " 90,\n",
       " 91,\n",
       " 92,\n",
       " 93,\n",
       " 94,\n",
       " 95,\n",
       " 96,\n",
       " 97,\n",
       " 98,\n",
       " 99,\n",
       " 100,\n",
       " 101,\n",
       " 102,\n",
       " 103,\n",
       " 104,\n",
       " 105,\n",
       " 106,\n",
       " 107,\n",
       " 108,\n",
       " 109,\n",
       " 110]"
      ]
     },
     "execution_count": 12,
     "metadata": {},
     "output_type": "execute_result"
    }
   ],
   "source": [
    "out_list[:111]"
   ]
  },
  {
   "cell_type": "code",
   "execution_count": 13,
   "id": "edb88b6a",
   "metadata": {},
   "outputs": [],
   "source": [
    "tests = [test0, test1, test2, test3, test4, test5, test6, test7, test8]"
   ]
  },
  {
   "cell_type": "markdown",
   "id": "a58180b6",
   "metadata": {},
   "source": [
    "# S3: Come up with correct solution in simple english\n",
    "   1. Iterate over list from left\n",
    "   2. Compare each number with the number that follows\n",
    "   3. If the number is greater that the one that follows it, swap them. \n",
    "   4. Repeat until sorted"
   ]
  },
  {
   "cell_type": "markdown",
   "id": "fe1f7563",
   "metadata": {},
   "source": [
    "# S4: Implement the solution and test with example inputs?"
   ]
  },
  {
   "cell_type": "markdown",
   "id": "0855346f",
   "metadata": {},
   "source": [
    "# Using Bubble Sort"
   ]
  },
  {
   "cell_type": "code",
   "execution_count": 14,
   "id": "0f9e5822",
   "metadata": {},
   "outputs": [],
   "source": [
    "def bubble_sort(nums):\n",
    "    \n",
    "    # create copy of the list to avoid changing it\n",
    "    nums = list(nums)\n",
    "    \n",
    "    # repeat the process n - 1 times\n",
    "    for _ in range(len(nums) - 1):\n",
    "        \n",
    "        # iterate over the list (except for last number)\n",
    "        for i in range(len(nums) - 1):\n",
    "            \n",
    "            # compare numbers\n",
    "            if nums[i] > nums[i + 1]:\n",
    "                # swap if position incorrect\n",
    "                nums[i], nums[i + 1] = nums[i + 1], nums[i]\n",
    "    \n",
    "    return nums"
   ]
  },
  {
   "cell_type": "code",
   "execution_count": 15,
   "id": "5bf8575b",
   "metadata": {},
   "outputs": [
    {
     "name": "stdout",
     "output_type": "stream",
     "text": [
      "input :  [4, 2, 6, 3, 4, 6, 2, 1]\n",
      "Expected output :  [1, 2, 2, 3, 4, 4, 6, 6]\n",
      "actual output :  [1, 2, 2, 3, 4, 4, 6, 6]\n",
      "match :  True\n"
     ]
    }
   ],
   "source": [
    "nums0, output0 = test0['input']['nums'], test0['output']\n",
    "\n",
    "print('input : ', nums0)\n",
    "print('Expected output : ', output0)\n",
    "\n",
    "result0 = bubble_sort(nums0)\n",
    "\n",
    "print('actual output : ', result0)\n",
    "print('match : ', result0 == output0)"
   ]
  },
  {
   "cell_type": "code",
   "execution_count": 16,
   "id": "e8ed3e28",
   "metadata": {},
   "outputs": [],
   "source": [
    "from jovian.pythondsa import evaluate_test_cases"
   ]
  },
  {
   "cell_type": "code",
   "execution_count": 17,
   "id": "df861363",
   "metadata": {},
   "outputs": [
    {
     "name": "stdout",
     "output_type": "stream",
     "text": [
      "\n",
      "\u001b[1mTEST CASE #0\u001b[0m\n",
      "\n",
      "Input:\n",
      "{'nums': [4, 2, 6, 3, 4, 6, 2, 1]}\n",
      "\n",
      "Expected Output:\n",
      "[1, 2, 2, 3, 4, 4, 6, 6]\n",
      "\n",
      "\n",
      "Actual Output:\n",
      "[1, 2, 2, 3, 4, 4, 6, 6]\n",
      "\n",
      "Execution Time:\n",
      "0.014 ms\n",
      "\n",
      "Test Result:\n",
      "\u001b[92mPASSED\u001b[0m\n",
      "\n",
      "\n",
      "\u001b[1mTEST CASE #1\u001b[0m\n",
      "\n",
      "Input:\n",
      "{'nums': [2, 3, 4, 5, 7, 9]}\n",
      "\n",
      "Expected Output:\n",
      "[2, 3, 4, 5, 7, 9]\n",
      "\n",
      "\n",
      "Actual Output:\n",
      "[2, 3, 4, 5, 7, 9]\n",
      "\n",
      "Execution Time:\n",
      "0.006 ms\n",
      "\n",
      "Test Result:\n",
      "\u001b[92mPASSED\u001b[0m\n",
      "\n",
      "\n",
      "\u001b[1mTEST CASE #2\u001b[0m\n",
      "\n",
      "Input:\n",
      "{'nums': [9, 7, 6, 4, 3, 2, 1]}\n",
      "\n",
      "Expected Output:\n",
      "[1, 2, 3, 4, 6, 7, 9]\n",
      "\n",
      "\n",
      "Actual Output:\n",
      "[1, 2, 3, 4, 6, 7, 9]\n",
      "\n",
      "Execution Time:\n",
      "0.008 ms\n",
      "\n",
      "Test Result:\n",
      "\u001b[92mPASSED\u001b[0m\n",
      "\n",
      "\n",
      "\u001b[1mTEST CASE #3\u001b[0m\n",
      "\n",
      "Input:\n",
      "{'nums': [1, 3, 6, 7, 8, 8, 9, 2, 4, 6, 7]}\n",
      "\n",
      "Expected Output:\n",
      "[1, 2, 3, 4, 6, 6, 7, 7, 8, 8, 9]\n",
      "\n",
      "\n",
      "Actual Output:\n",
      "[1, 2, 3, 4, 6, 6, 7, 7, 8, 8, 9]\n",
      "\n",
      "Execution Time:\n",
      "0.013 ms\n",
      "\n",
      "Test Result:\n",
      "\u001b[92mPASSED\u001b[0m\n",
      "\n",
      "\n",
      "\u001b[1mTEST CASE #4\u001b[0m\n",
      "\n",
      "Input:\n",
      "{'nums': []}\n",
      "\n",
      "Expected Output:\n",
      "[]\n",
      "\n",
      "\n",
      "Actual Output:\n",
      "[]\n",
      "\n",
      "Execution Time:\n",
      "0.002 ms\n",
      "\n",
      "Test Result:\n",
      "\u001b[92mPASSED\u001b[0m\n",
      "\n",
      "\n",
      "\u001b[1mTEST CASE #5\u001b[0m\n",
      "\n",
      "Input:\n",
      "{'nums': [4]}\n",
      "\n",
      "Expected Output:\n",
      "[4]\n",
      "\n",
      "\n",
      "Actual Output:\n",
      "[4]\n",
      "\n",
      "Execution Time:\n",
      "0.001 ms\n",
      "\n",
      "Test Result:\n",
      "\u001b[92mPASSED\u001b[0m\n",
      "\n",
      "\n",
      "\u001b[1mTEST CASE #6\u001b[0m\n",
      "\n",
      "Input:\n",
      "{'nums': [16, 16, 16, 16, 16, 16]}\n",
      "\n",
      "Expected Output:\n",
      "[16, 16, 16, 16, 16, 16]\n",
      "\n",
      "\n",
      "Actual Output:\n",
      "[16, 16, 16, 16, 16, 16]\n",
      "\n",
      "Execution Time:\n",
      "0.005 ms\n",
      "\n",
      "Test Result:\n",
      "\u001b[92mPASSED\u001b[0m\n",
      "\n",
      "\n",
      "\u001b[1mTEST CASE #7\u001b[0m\n",
      "\n",
      "Input:\n",
      "{'nums': [1, 1, 6, 7, 8, 8, 9, 2, 4, -6, 7, 11, 13, 1, 10, 6, 7, 88, 9, 21, 41, 69]}\n",
      "\n",
      "Expected Output:\n",
      "[-6, 1, 1, 1, 2, 4, 6, 6, 7, 7, 7, 8, 8, 9, 9, 10, 11, 13, 21, 41, 69, 88]\n",
      "\n",
      "\n",
      "Actual Output:\n",
      "[-6, 1, 1, 1, 2, 4, 6, 6, 7, 7, 7, 8, 8, 9, 9, 10, 11, 13, 21, 41, 69, 88]\n",
      "\n",
      "Execution Time:\n",
      "0.04 ms\n",
      "\n",
      "Test Result:\n",
      "\u001b[92mPASSED\u001b[0m\n",
      "\n",
      "\n",
      "\u001b[1mTEST CASE #8\u001b[0m\n",
      "\n",
      "Input:\n",
      "{'nums': [2873, 7471, 7119, 336, 9568, 5968, 2880, 5796, 6512, 9103, 1379, 5893, 6224, 136, 3231, 96...\n",
      "\n",
      "Expected Output:\n",
      "[0, 1, 2, 3, 4, 5, 6, 7, 8, 9, 10, 11, 12, 13, 14, 15, 16, 17, 18, 19, 20, 21, 22, 23, 24, 25, 26, 2...\n",
      "\n",
      "\n",
      "Actual Output:\n",
      "[0, 1, 2, 3, 4, 5, 6, 7, 8, 9, 10, 11, 12, 13, 14, 15, 16, 17, 18, 19, 20, 21, 22, 23, 24, 25, 26, 2...\n",
      "\n",
      "Execution Time:\n",
      "9105.385 ms\n",
      "\n",
      "Test Result:\n",
      "\u001b[92mPASSED\u001b[0m\n",
      "\n",
      "\n",
      "\u001b[1mSUMMARY\u001b[0m\n",
      "\n",
      "TOTAL: 9, \u001b[92mPASSED\u001b[0m: 9, \u001b[91mFAILED\u001b[0m: 0\n"
     ]
    }
   ],
   "source": [
    "results = evaluate_test_cases(bubble_sort, tests)"
   ]
  },
  {
   "cell_type": "markdown",
   "id": "7c188ac6",
   "metadata": {},
   "source": [
    "# S5: Complexity analysis and identifing inefficiencies"
   ]
  },
  {
   "cell_type": "markdown",
   "id": "96609352",
   "metadata": {},
   "source": [
    "1. The space complexity of Bubble Sort algorithm is O(n), even tho it requires contant/zero ADDITIONAL space, but because the space required to store the inputs is also considered while calculating space complexity.\n",
    " 2. The time complexity of Bubble Sort algorithm is O(n^2)"
   ]
  },
  {
   "cell_type": "markdown",
   "id": "f45bb896",
   "metadata": {},
   "source": [
    "# Using Insertion sort"
   ]
  },
  {
   "cell_type": "markdown",
   "id": "58482c95",
   "metadata": {},
   "source": [
    "# Algorithm of Insertion Sort\n",
    "**Algorithm:**\n",
    "   1. Initialize cur variable with 2nd element of the list\n",
    "   2. Initialize j variable with element before i\n",
    "   3. Compare element at j with cur element.\n",
    "   4. Decreament j until its position is more than of equal to 0 or j is less than cur element\n",
    "   5. When any of these conditions becomes false, insert cur at j+1 position\n",
    "   6. Loops steps until the last element of list"
   ]
  },
  {
   "cell_type": "code",
   "execution_count": 18,
   "id": "e0fb18b5",
   "metadata": {},
   "outputs": [],
   "source": [
    "def insertion_sort(nums):\n",
    "    \n",
    "    # creating copy of link\n",
    "    nums = list(nums)\n",
    "    \n",
    "    # iterate over the list\n",
    "    for i in range(len(nums)):\n",
    "        cur = nums.pop(i)                # initialize cur with 2nd element of list\n",
    "        \n",
    "        j = i - 1                        # initialize j with the element before i\n",
    "        while j >= 0 and nums[j] > cur:  # while j is at index 0 or more and element @j is larger than cur\n",
    "            j -= 1                       # decreament j\n",
    "        nums.insert(j+1, cur)            # when any of the condition becomes untrue, insert cur at position after j \n",
    "    return nums"
   ]
  },
  {
   "cell_type": "code",
   "execution_count": 19,
   "id": "61857b5d",
   "metadata": {},
   "outputs": [
    {
     "name": "stdout",
     "output_type": "stream",
     "text": [
      "input: [4, 2, 6, 3, 4, 6, 2, 1]\n",
      "expected output: [1, 2, 2, 3, 4, 4, 6, 6]\n",
      "actual output: [1, 2, 2, 3, 4, 4, 6, 6]\n",
      "match: True\n"
     ]
    }
   ],
   "source": [
    "nums0, output0 = test0['input']['nums'], test0['output']\n",
    "\n",
    "print('input:', nums0)\n",
    "print('expected output:', output0)\n",
    "result0 = insertion_sort(nums0)\n",
    "print('actual output:', result0)\n",
    "print('match:', result0 == output0)"
   ]
  },
  {
   "cell_type": "markdown",
   "id": "c79ba102",
   "metadata": {},
   "source": [
    "# Complexities of Insertion Sort\n",
    "   1. Time Complexity: O(n^2)\n",
    "   2. Space Complexity: O(n)"
   ]
  },
  {
   "cell_type": "markdown",
   "id": "25479e8e",
   "metadata": {},
   "source": [
    "# S6. Coming up with better and quicker solutions"
   ]
  },
  {
   "cell_type": "markdown",
   "id": "24af168a",
   "metadata": {},
   "source": [
    "# Merge Sort"
   ]
  },
  {
   "cell_type": "code",
   "execution_count": 20,
   "id": "4c07b643",
   "metadata": {},
   "outputs": [],
   "source": [
    "def merge_sort(nums):\n",
    "    # Base case: If the list has 1 or no elements, it's already sorted\n",
    "    if len(nums) <= 1:\n",
    "        return nums\n",
    "    \n",
    "    # Find the middle index to divide the list into two halves\n",
    "    mid = len(nums) // 2\n",
    "    # Split the list into left and right halves\n",
    "    left = nums[:mid]\n",
    "    right = nums[mid:]\n",
    "    \n",
    "    # Recursively apply merge_sort on both halves\n",
    "    left_sorted, right_sorted = merge_sort(left), merge_sort(right)\n",
    "    \n",
    "    # Merge the two sorted halves into a single sorted list\n",
    "    sorted_nums = merge(left_sorted, right_sorted)\n",
    "    \n",
    "    return sorted_nums"
   ]
  },
  {
   "cell_type": "code",
   "execution_count": 21,
   "id": "c1c05817",
   "metadata": {},
   "outputs": [],
   "source": [
    "def merge(nums1, nums2):\n",
    "    # initialize list to store merged and sorted output\n",
    "    merged = []\n",
    "    i, j = 0, 0\n",
    "    \n",
    "    # iterate throught both the lists with i and j\n",
    "    while i < len(nums1) and j < len(nums2):\n",
    "        # compare: if i-element is less than or equal to j-element; append i element in output list\n",
    "        if nums1[i] <= nums2[j]:\n",
    "            merged.append(nums1[i])\n",
    "            # increament i in nums1\n",
    "            i += 1\n",
    "        # if j-element is less than or equal to i-element; append j element in output list\n",
    "        else:\n",
    "            merged.append(nums2[j])\n",
    "            # increament j in nums2\n",
    "            j += 1\n",
    "    \n",
    "    # get the remaining parts\n",
    "    nums1_tail = nums1[i:]\n",
    "    nums2_tail = nums2[j:]\n",
    "    \n",
    "    # return merged list along with remaining elements\n",
    "    return merged + nums1_tail + nums2_tail"
   ]
  },
  {
   "cell_type": "markdown",
   "id": "1d7eb43d",
   "metadata": {},
   "source": [
    "lets test the merge operation before we test merge sort"
   ]
  },
  {
   "cell_type": "code",
   "execution_count": 22,
   "id": "e18c5c1a",
   "metadata": {},
   "outputs": [
    {
     "data": {
      "text/plain": [
       "[-1, 0, 1, 2, 3, 4, 7, 8, 9, 11, 12]"
      ]
     },
     "execution_count": 22,
     "metadata": {},
     "output_type": "execute_result"
    }
   ],
   "source": [
    "merge([1, 4, 7, 9, 11], [-1, 0, 2, 3, 8, 12])"
   ]
  },
  {
   "cell_type": "markdown",
   "id": "aec19f87",
   "metadata": {},
   "source": [
    "Lets test the merge sort function"
   ]
  },
  {
   "cell_type": "code",
   "execution_count": 23,
   "id": "8754677c",
   "metadata": {},
   "outputs": [
    {
     "name": "stdout",
     "output_type": "stream",
     "text": [
      "input: [4, 2, 6, 3, 4, 6, 2, 1]\n",
      "expected output: [1, 2, 2, 3, 4, 4, 6, 6]\n",
      "actual output: [1, 2, 2, 3, 4, 4, 6, 6]\n",
      "match: True\n"
     ]
    }
   ],
   "source": [
    "nums1, output1 = test0['input']['nums'], test0['output']\n",
    "\n",
    "print('input:', nums1)\n",
    "print('expected output:', output1)\n",
    "result1 = merge_sort(nums1)\n",
    "print('actual output:', result1)\n",
    "print('match:', result1 == output1)"
   ]
  },
  {
   "cell_type": "markdown",
   "id": "de54a926",
   "metadata": {},
   "source": [
    "Let's test all the test cases"
   ]
  },
  {
   "cell_type": "code",
   "execution_count": 24,
   "id": "510eb3ff",
   "metadata": {},
   "outputs": [
    {
     "name": "stdout",
     "output_type": "stream",
     "text": [
      "\n",
      "\u001b[1mTEST CASE #0\u001b[0m\n",
      "\n",
      "Input:\n",
      "{'nums': [4, 2, 6, 3, 4, 6, 2, 1]}\n",
      "\n",
      "Expected Output:\n",
      "[1, 2, 2, 3, 4, 4, 6, 6]\n",
      "\n",
      "\n",
      "Actual Output:\n",
      "[1, 2, 2, 3, 4, 4, 6, 6]\n",
      "\n",
      "Execution Time:\n",
      "0.031 ms\n",
      "\n",
      "Test Result:\n",
      "\u001b[92mPASSED\u001b[0m\n",
      "\n",
      "\n",
      "\u001b[1mTEST CASE #1\u001b[0m\n",
      "\n",
      "Input:\n",
      "{'nums': [2, 3, 4, 5, 7, 9]}\n",
      "\n",
      "Expected Output:\n",
      "[2, 3, 4, 5, 7, 9]\n",
      "\n",
      "\n",
      "Actual Output:\n",
      "[2, 3, 4, 5, 7, 9]\n",
      "\n",
      "Execution Time:\n",
      "0.018 ms\n",
      "\n",
      "Test Result:\n",
      "\u001b[92mPASSED\u001b[0m\n",
      "\n",
      "\n",
      "\u001b[1mTEST CASE #2\u001b[0m\n",
      "\n",
      "Input:\n",
      "{'nums': [9, 7, 6, 4, 3, 2, 1]}\n",
      "\n",
      "Expected Output:\n",
      "[1, 2, 3, 4, 6, 7, 9]\n",
      "\n",
      "\n",
      "Actual Output:\n",
      "[1, 2, 3, 4, 6, 7, 9]\n",
      "\n",
      "Execution Time:\n",
      "0.057 ms\n",
      "\n",
      "Test Result:\n",
      "\u001b[92mPASSED\u001b[0m\n",
      "\n",
      "\n",
      "\u001b[1mTEST CASE #3\u001b[0m\n",
      "\n",
      "Input:\n",
      "{'nums': [1, 3, 6, 7, 8, 8, 9, 2, 4, 6, 7]}\n",
      "\n",
      "Expected Output:\n",
      "[1, 2, 3, 4, 6, 6, 7, 7, 8, 8, 9]\n",
      "\n",
      "\n",
      "Actual Output:\n",
      "[1, 2, 3, 4, 6, 6, 7, 7, 8, 8, 9]\n",
      "\n",
      "Execution Time:\n",
      "0.024 ms\n",
      "\n",
      "Test Result:\n",
      "\u001b[92mPASSED\u001b[0m\n",
      "\n",
      "\n",
      "\u001b[1mTEST CASE #4\u001b[0m\n",
      "\n",
      "Input:\n",
      "{'nums': []}\n",
      "\n",
      "Expected Output:\n",
      "[]\n",
      "\n",
      "\n",
      "Actual Output:\n",
      "[]\n",
      "\n",
      "Execution Time:\n",
      "0.001 ms\n",
      "\n",
      "Test Result:\n",
      "\u001b[92mPASSED\u001b[0m\n",
      "\n",
      "\n",
      "\u001b[1mTEST CASE #5\u001b[0m\n",
      "\n",
      "Input:\n",
      "{'nums': [4]}\n",
      "\n",
      "Expected Output:\n",
      "[4]\n",
      "\n",
      "\n",
      "Actual Output:\n",
      "[4]\n",
      "\n",
      "Execution Time:\n",
      "0.001 ms\n",
      "\n",
      "Test Result:\n",
      "\u001b[92mPASSED\u001b[0m\n",
      "\n",
      "\n",
      "\u001b[1mTEST CASE #6\u001b[0m\n",
      "\n",
      "Input:\n",
      "{'nums': [16, 16, 16, 16, 16, 16]}\n",
      "\n",
      "Expected Output:\n",
      "[16, 16, 16, 16, 16, 16]\n",
      "\n",
      "\n",
      "Actual Output:\n",
      "[16, 16, 16, 16, 16, 16]\n",
      "\n",
      "Execution Time:\n",
      "0.009 ms\n",
      "\n",
      "Test Result:\n",
      "\u001b[92mPASSED\u001b[0m\n",
      "\n",
      "\n",
      "\u001b[1mTEST CASE #7\u001b[0m\n",
      "\n",
      "Input:\n",
      "{'nums': [1, 1, 6, 7, 8, 8, 9, 2, 4, -6, 7, 11, 13, 1, 10, 6, 7, 88, 9, 21, 41, 69]}\n",
      "\n",
      "Expected Output:\n",
      "[-6, 1, 1, 1, 2, 4, 6, 6, 7, 7, 7, 8, 8, 9, 9, 10, 11, 13, 21, 41, 69, 88]\n",
      "\n",
      "\n",
      "Actual Output:\n",
      "[-6, 1, 1, 1, 2, 4, 6, 6, 7, 7, 7, 8, 8, 9, 9, 10, 11, 13, 21, 41, 69, 88]\n",
      "\n",
      "Execution Time:\n",
      "0.04 ms\n",
      "\n",
      "Test Result:\n",
      "\u001b[92mPASSED\u001b[0m\n",
      "\n",
      "\n",
      "\u001b[1mTEST CASE #8\u001b[0m\n",
      "\n",
      "Input:\n",
      "{'nums': [2873, 7471, 7119, 336, 9568, 5968, 2880, 5796, 6512, 9103, 1379, 5893, 6224, 136, 3231, 96...\n",
      "\n",
      "Expected Output:\n",
      "[0, 1, 2, 3, 4, 5, 6, 7, 8, 9, 10, 11, 12, 13, 14, 15, 16, 17, 18, 19, 20, 21, 22, 23, 24, 25, 26, 2...\n",
      "\n",
      "\n",
      "Actual Output:\n",
      "[0, 1, 2, 3, 4, 5, 6, 7, 8, 9, 10, 11, 12, 13, 14, 15, 16, 17, 18, 19, 20, 21, 22, 23, 24, 25, 26, 2...\n",
      "\n",
      "Execution Time:\n",
      "33.29 ms\n",
      "\n",
      "Test Result:\n",
      "\u001b[92mPASSED\u001b[0m\n",
      "\n",
      "\n",
      "\u001b[1mSUMMARY\u001b[0m\n",
      "\n",
      "TOTAL: 9, \u001b[92mPASSED\u001b[0m: 9, \u001b[91mFAILED\u001b[0m: 0\n"
     ]
    }
   ],
   "source": [
    "all_result = evaluate_test_cases(merge_sort, tests)"
   ]
  },
  {
   "cell_type": "markdown",
   "id": "9c12adf7",
   "metadata": {},
   "source": [
    "# Analysis of Merge Sort algorithm"
   ]
  },
  {
   "cell_type": "code",
   "execution_count": 25,
   "id": "f3ddcec4",
   "metadata": {},
   "outputs": [],
   "source": [
    "def merge(nums1, nums2, depth = 0):\n",
    "    print(' '*depth, 'merge', nums1, nums2)\n",
    "    merged = []\n",
    "    i, j = 0, 0\n",
    "    \n",
    "    while i < len(nums1) and j < len(nums2):\n",
    "        if nums1[i] <= nums2[j]:\n",
    "            merged.append(nums1[i])\n",
    "            i += 1\n",
    "        else:\n",
    "            merged.append(nums2[j])\n",
    "            j += 1\n",
    "    \n",
    "    # get the remaining parts\n",
    "    nums1_tail = nums1[i:]\n",
    "    nums2_tail = nums2[j:]\n",
    "    \n",
    "    return merged + nums1_tail + nums2_tail\n",
    "\n",
    "def merge_sort(nums, depth = 0):\n",
    "    print(' '*depth, 'merge_sort', nums)\n",
    "    if len(nums) <= 1:\n",
    "        return nums\n",
    "    \n",
    "    mid = len(nums) // 2\n",
    "    left = nums[:mid]\n",
    "    right = nums[mid:]\n",
    "    \n",
    "    left_sorted, right_sorted = merge_sort(left), merge_sort(right)\n",
    "    \n",
    "    sorted_nums = merge(left_sorted, right_sorted)\n",
    "    \n",
    "    return sorted_nums"
   ]
  },
  {
   "cell_type": "code",
   "execution_count": 26,
   "id": "0edd24b0",
   "metadata": {},
   "outputs": [
    {
     "name": "stdout",
     "output_type": "stream",
     "text": [
      " merge_sort [5, -12, 2, 6, 1, 23, 7, 7, -12]\n",
      " merge_sort [5, -12, 2, 6]\n",
      " merge_sort [5, -12]\n",
      " merge_sort [5]\n",
      " merge_sort [-12]\n",
      " merge [5] [-12]\n",
      " merge_sort [2, 6]\n",
      " merge_sort [2]\n",
      " merge_sort [6]\n",
      " merge [2] [6]\n",
      " merge [-12, 5] [2, 6]\n",
      " merge_sort [1, 23, 7, 7, -12]\n",
      " merge_sort [1, 23]\n",
      " merge_sort [1]\n",
      " merge_sort [23]\n",
      " merge [1] [23]\n",
      " merge_sort [7, 7, -12]\n",
      " merge_sort [7]\n",
      " merge_sort [7, -12]\n",
      " merge_sort [7]\n",
      " merge_sort [-12]\n",
      " merge [7] [-12]\n",
      " merge [7] [-12, 7]\n",
      " merge [1, 23] [-12, 7, 7]\n",
      " merge [-12, 2, 5, 6] [-12, 1, 7, 7, 23]\n"
     ]
    },
    {
     "data": {
      "text/plain": [
       "[-12, -12, 1, 2, 5, 6, 7, 7, 23]"
      ]
     },
     "execution_count": 26,
     "metadata": {},
     "output_type": "execute_result"
    }
   ],
   "source": [
    "merge_sort([5, -12, 2, 6, 1, 23, 7, 7, -12])"
   ]
  },
  {
   "cell_type": "markdown",
   "id": "42b953b1",
   "metadata": {},
   "source": [
    "**Merge Sort Complexity:**\n",
    "  1. **Time Complexity:** O(nLog(n))\n",
    "  2. **Space Complexity:** O(n)"
   ]
  },
  {
   "cell_type": "markdown",
   "id": "364f80cb",
   "metadata": {},
   "source": [
    "# S6.1: Applying the right technique to overcome inefficiency"
   ]
  },
  {
   "cell_type": "markdown",
   "id": "f4a8b269",
   "metadata": {},
   "source": [
    "# Quick Sort \n",
    "**Algorithm:**\n",
    "   1. If the list is empty or has just one element, return it; It's already sorted.\n",
    "   2. Pick a random element from the list. This element is called a pivot.\n",
    "   3. Reorder the list so that all elements with values less than or equal to the pivot come before the pivot, while all elements with greater than pivot come after it. This operation is called partitioning.\n",
    "   4. The pivot divides the array into two parts which can be sorted independently by making recursive call to quicksort."
   ]
  },
  {
   "cell_type": "code",
   "execution_count": 27,
   "id": "a96ec5bc",
   "metadata": {},
   "outputs": [],
   "source": [
    "def quick_sort(nums, start=0, end=None):\n",
    "    # If end is None (initial call), set end to the last index of the list\n",
    "    if end is None:\n",
    "        nums = list(nums)  # Make a copy of the list to avoid modifying the original\n",
    "        end = len(nums) - 1\n",
    "    \n",
    "    # Base case: Proceed only if the subarray has more than one element\n",
    "    if start < end:\n",
    "        # Partition the array and get the pivot index\n",
    "        pivot = partition(nums, start, end)\n",
    "        \n",
    "        # Recursively apply quick_sort on the left subarray (elements before pivot)\n",
    "        quick_sort(nums, start, pivot - 1)\n",
    "        \n",
    "        # Recursively apply quick_sort on the right subarray (elements after pivot)\n",
    "        quick_sort(nums, pivot + 1, end)\n",
    "    \n",
    "    # Return the sorted list\n",
    "    return nums"
   ]
  },
  {
   "cell_type": "code",
   "execution_count": 28,
   "id": "c6b01df0",
   "metadata": {},
   "outputs": [],
   "source": [
    "def partition(nums, start=0, end=None):\n",
    "    # If end is None (initial call), set end to the last index of the list\n",
    "    if end is None:\n",
    "        end = len(nums) - 1\n",
    "    \n",
    "    # Initialize pointers: 'l' starts at 'start', 'r' starts just before 'end'\n",
    "    l, r = start, end - 1\n",
    "    \n",
    "    # Rearrange elements around the pivot (element at 'end')\n",
    "    while r > l:\n",
    "        if nums[l] <= nums[end]:\n",
    "            # If the left pointer element is less than or equal to the pivot, move left pointer\n",
    "            l += 1\n",
    "        elif nums[r] > nums[end]:\n",
    "            # If the right pointer element is greater than the pivot, move right pointer\n",
    "            r -= 1\n",
    "        else:\n",
    "            # Swap elements at left and right pointers if out of place\n",
    "            nums[l], nums[r] = nums[r], nums[l]\n",
    "    \n",
    "    # Place the pivot element in its correct position\n",
    "    if nums[l] > nums[end]:\n",
    "        nums[l], nums[end] = nums[end], nums[l]\n",
    "        return l  # Return the pivot index\n",
    "    else:\n",
    "        return end  # Pivot is already in the correct position"
   ]
  },
  {
   "cell_type": "code",
   "execution_count": 29,
   "id": "c165538b",
   "metadata": {},
   "outputs": [
    {
     "data": {
      "text/plain": [
       "[2, 3, 3, 3, 4, 5, 23, 23]"
      ]
     },
     "execution_count": 29,
     "metadata": {},
     "output_type": "execute_result"
    }
   ],
   "source": [
    "quick_sort([3, 3, 5, 23, 4, 2, 3, 23])"
   ]
  },
  {
   "cell_type": "code",
   "execution_count": 30,
   "id": "dcd61af9",
   "metadata": {},
   "outputs": [
    {
     "name": "stdout",
     "output_type": "stream",
     "text": [
      "[-12, -3, 7, 6, 4, 2, 1, 3] 1\n"
     ]
    }
   ],
   "source": [
    "li = [1, 3, 7, 6, 4, 2, -12, -3]\n",
    "pivot = partition(li)\n",
    "print(li, pivot)"
   ]
  },
  {
   "cell_type": "code",
   "execution_count": 31,
   "id": "830edeb8",
   "metadata": {},
   "outputs": [
    {
     "name": "stdout",
     "output_type": "stream",
     "text": [
      "\n",
      "\u001b[1mTEST CASE #0\u001b[0m\n",
      "\n",
      "Input:\n",
      "{'nums': [4, 2, 6, 3, 4, 6, 2, 1]}\n",
      "\n",
      "Expected Output:\n",
      "[1, 2, 2, 3, 4, 4, 6, 6]\n",
      "\n",
      "\n",
      "Actual Output:\n",
      "[1, 2, 2, 3, 4, 4, 6, 6]\n",
      "\n",
      "Execution Time:\n",
      "0.013 ms\n",
      "\n",
      "Test Result:\n",
      "\u001b[92mPASSED\u001b[0m\n",
      "\n",
      "\n",
      "\u001b[1mTEST CASE #1\u001b[0m\n",
      "\n",
      "Input:\n",
      "{'nums': [2, 3, 4, 5, 7, 9]}\n",
      "\n",
      "Expected Output:\n",
      "[2, 3, 4, 5, 7, 9]\n",
      "\n",
      "\n",
      "Actual Output:\n",
      "[2, 3, 4, 5, 7, 9]\n",
      "\n",
      "Execution Time:\n",
      "0.005 ms\n",
      "\n",
      "Test Result:\n",
      "\u001b[92mPASSED\u001b[0m\n",
      "\n",
      "\n",
      "\u001b[1mTEST CASE #2\u001b[0m\n",
      "\n",
      "Input:\n",
      "{'nums': [9, 7, 6, 4, 3, 2, 1]}\n",
      "\n",
      "Expected Output:\n",
      "[1, 2, 3, 4, 6, 7, 9]\n",
      "\n",
      "\n",
      "Actual Output:\n",
      "[1, 2, 3, 4, 6, 7, 9]\n",
      "\n",
      "Execution Time:\n",
      "0.006 ms\n",
      "\n",
      "Test Result:\n",
      "\u001b[92mPASSED\u001b[0m\n",
      "\n",
      "\n",
      "\u001b[1mTEST CASE #3\u001b[0m\n",
      "\n",
      "Input:\n",
      "{'nums': [1, 3, 6, 7, 8, 8, 9, 2, 4, 6, 7]}\n",
      "\n",
      "Expected Output:\n",
      "[1, 2, 3, 4, 6, 6, 7, 7, 8, 8, 9]\n",
      "\n",
      "\n",
      "Actual Output:\n",
      "[1, 2, 3, 4, 6, 6, 7, 7, 8, 8, 9]\n",
      "\n",
      "Execution Time:\n",
      "0.007 ms\n",
      "\n",
      "Test Result:\n",
      "\u001b[92mPASSED\u001b[0m\n",
      "\n",
      "\n",
      "\u001b[1mTEST CASE #4\u001b[0m\n",
      "\n",
      "Input:\n",
      "{'nums': []}\n",
      "\n",
      "Expected Output:\n",
      "[]\n",
      "\n",
      "\n",
      "Actual Output:\n",
      "[]\n",
      "\n",
      "Execution Time:\n",
      "0.001 ms\n",
      "\n",
      "Test Result:\n",
      "\u001b[92mPASSED\u001b[0m\n",
      "\n",
      "\n",
      "\u001b[1mTEST CASE #5\u001b[0m\n",
      "\n",
      "Input:\n",
      "{'nums': [4]}\n",
      "\n",
      "Expected Output:\n",
      "[4]\n",
      "\n",
      "\n",
      "Actual Output:\n",
      "[4]\n",
      "\n",
      "Execution Time:\n",
      "0.001 ms\n",
      "\n",
      "Test Result:\n",
      "\u001b[92mPASSED\u001b[0m\n",
      "\n",
      "\n",
      "\u001b[1mTEST CASE #6\u001b[0m\n",
      "\n",
      "Input:\n",
      "{'nums': [16, 16, 16, 16, 16, 16]}\n",
      "\n",
      "Expected Output:\n",
      "[16, 16, 16, 16, 16, 16]\n",
      "\n",
      "\n",
      "Actual Output:\n",
      "[16, 16, 16, 16, 16, 16]\n",
      "\n",
      "Execution Time:\n",
      "0.004 ms\n",
      "\n",
      "Test Result:\n",
      "\u001b[92mPASSED\u001b[0m\n",
      "\n",
      "\n",
      "\u001b[1mTEST CASE #7\u001b[0m\n",
      "\n",
      "Input:\n",
      "{'nums': [1, 1, 6, 7, 8, 8, 9, 2, 4, -6, 7, 11, 13, 1, 10, 6, 7, 88, 9, 21, 41, 69]}\n",
      "\n",
      "Expected Output:\n",
      "[-6, 1, 1, 1, 2, 4, 6, 6, 7, 7, 7, 8, 8, 9, 9, 10, 11, 13, 21, 41, 69, 88]\n",
      "\n",
      "\n",
      "Actual Output:\n",
      "[-6, 1, 1, 1, 2, 4, 6, 6, 7, 7, 7, 8, 8, 9, 9, 10, 11, 13, 21, 41, 69, 88]\n",
      "\n",
      "Execution Time:\n",
      "0.016 ms\n",
      "\n",
      "Test Result:\n",
      "\u001b[92mPASSED\u001b[0m\n",
      "\n",
      "\n",
      "\u001b[1mTEST CASE #8\u001b[0m\n",
      "\n",
      "Input:\n",
      "{'nums': [2873, 7471, 7119, 336, 9568, 5968, 2880, 5796, 6512, 9103, 1379, 5893, 6224, 136, 3231, 96...\n",
      "\n",
      "Expected Output:\n",
      "[0, 1, 2, 3, 4, 5, 6, 7, 8, 9, 10, 11, 12, 13, 14, 15, 16, 17, 18, 19, 20, 21, 22, 23, 24, 25, 26, 2...\n",
      "\n",
      "\n",
      "Actual Output:\n",
      "[0, 1, 2, 3, 4, 5, 6, 7, 8, 9, 10, 11, 12, 13, 14, 15, 16, 17, 18, 19, 20, 21, 22, 23, 24, 25, 26, 2...\n",
      "\n",
      "Execution Time:\n",
      "20.613 ms\n",
      "\n",
      "Test Result:\n",
      "\u001b[92mPASSED\u001b[0m\n",
      "\n",
      "\n",
      "\u001b[1mSUMMARY\u001b[0m\n",
      "\n",
      "TOTAL: 9, \u001b[92mPASSED\u001b[0m: 9, \u001b[91mFAILED\u001b[0m: 0\n"
     ]
    }
   ],
   "source": [
    "resultsq = evaluate_test_cases(quick_sort, tests)"
   ]
  },
  {
   "cell_type": "markdown",
   "id": "972234aa",
   "metadata": {},
   "source": [
    "# Quick sort complexity\n",
    "   1. **Time Complexity:** Practically in most cases : O(nlog(n))\n",
    "                        Worst case of pivot point selection : O(n^2)\n",
    "   2. **Space Complexity:** O(1)              "
   ]
  },
  {
   "cell_type": "markdown",
   "id": "00ef153f",
   "metadata": {},
   "source": [
    "# Q2. Top notebooks of the Week on Jovian, based on decreasing order of likes"
   ]
  },
  {
   "cell_type": "code",
   "execution_count": 32,
   "id": "cd2bad7f",
   "metadata": {},
   "outputs": [],
   "source": [
    "class Notebook:\n",
    "    def __init__(self, title, username, likes):\n",
    "        self.title, self.username, self.likes = title, username, likes\n",
    "        \n",
    "    def __repr__(self):\n",
    "        return 'Notebook <\"{}/{}\", {} likes>'.format(self.username, self.title, self.likes)"
   ]
  },
  {
   "cell_type": "code",
   "execution_count": 33,
   "id": "3051f30e",
   "metadata": {},
   "outputs": [],
   "source": [
    "nb0 = Notebook('python-basics', 'rohan', 375)\n",
    "nb1 = Notebook('linear-regression', 'sumit', 221)\n",
    "nb2 = Notebook('logistic-regression', 'aakash', 349)\n",
    "nb3 = Notebook('feedforward-nn', 'viraj', 79)\n",
    "nb4 = Notebook('cifar10-cnn', 'tanya', 441)\n",
    "nb5 = Notebook('cifar10-resnet', 'hemanth', 320)\n",
    "nb6 = Notebook('anime-gans', 'rohit', 21)\n",
    "nb7 = Notebook('python-fundamentals', 'mahek', 835)\n",
    "nb8 = Notebook('python-functions', 'killu', 568)\n",
    "nb9 = Notebook('python-numpy', 'sarita', 218)"
   ]
  },
  {
   "cell_type": "code",
   "execution_count": 34,
   "id": "bd541ac2",
   "metadata": {},
   "outputs": [],
   "source": [
    "notebooks = [nb0, nb1, nb2 ,nb3, nb4, nb5, nb6, nb7, nb8, nb9]"
   ]
  },
  {
   "cell_type": "code",
   "execution_count": 35,
   "id": "fa8c5948",
   "metadata": {},
   "outputs": [
    {
     "data": {
      "text/plain": [
       "[Notebook <\"rohan/python-basics\", 375 likes>,\n",
       " Notebook <\"sumit/linear-regression\", 221 likes>,\n",
       " Notebook <\"aakash/logistic-regression\", 349 likes>,\n",
       " Notebook <\"viraj/feedforward-nn\", 79 likes>,\n",
       " Notebook <\"tanya/cifar10-cnn\", 441 likes>,\n",
       " Notebook <\"hemanth/cifar10-resnet\", 320 likes>,\n",
       " Notebook <\"rohit/anime-gans\", 21 likes>,\n",
       " Notebook <\"mahek/python-fundamentals\", 835 likes>,\n",
       " Notebook <\"killu/python-functions\", 568 likes>,\n",
       " Notebook <\"sarita/python-numpy\", 218 likes>]"
      ]
     },
     "execution_count": 35,
     "metadata": {},
     "output_type": "execute_result"
    }
   ],
   "source": [
    "notebooks"
   ]
  },
  {
   "cell_type": "code",
   "execution_count": 36,
   "id": "3402f4ff",
   "metadata": {},
   "outputs": [],
   "source": [
    "# compare notebooks by likes\n",
    "def compare_likes(nb0, nb1):\n",
    "    if nb0.likes > nb1.likes:\n",
    "        return 'lesser'\n",
    "    elif nb0.likes == nb1.likes:\n",
    "        return 'equal'\n",
    "    elif nb0.likes < nb1.likes:\n",
    "        return 'greater'"
   ]
  },
  {
   "cell_type": "code",
   "execution_count": 37,
   "id": "509c0cf8",
   "metadata": {},
   "outputs": [],
   "source": [
    "def default_compare(x, y):\n",
    "    if x < y:\n",
    "        return 'lesser'\n",
    "    elif x == y:\n",
    "        return 'equal'\n",
    "    else:\n",
    "        return 'greater'"
   ]
  },
  {
   "cell_type": "code",
   "execution_count": 38,
   "id": "17f1b318",
   "metadata": {},
   "outputs": [],
   "source": [
    "def merge_sort(objs, compare = default_compare):\n",
    "    if len(objs) <= 1:\n",
    "        return objs\n",
    "    mid = len(objs) // 2\n",
    "    left_sorted = merge_sort(objs[:mid], compare)\n",
    "    right_sorted = merge_sort(objs[mid:], compare)\n",
    "    return merge(left_sorted, right_sorted, compare)"
   ]
  },
  {
   "cell_type": "code",
   "execution_count": 39,
   "id": "72e19c90",
   "metadata": {},
   "outputs": [],
   "source": [
    "def merge(left, right, compare):\n",
    "    i, j, merged = 0, 0, []\n",
    "    while i < len(left) and j < len(right):\n",
    "        result = compare(left[i], right[j])\n",
    "        if result == 'lesser' or result == 'equal':\n",
    "            merged.append(left[i])\n",
    "            i += 1\n",
    "        else:\n",
    "            merged.append(right[j])\n",
    "            j += 1\n",
    "    merged.extend(left[i:])\n",
    "    merged.extend(right[j:])\n",
    "    return merged"
   ]
  },
  {
   "cell_type": "code",
   "execution_count": 40,
   "id": "e1e32b50",
   "metadata": {},
   "outputs": [],
   "source": [
    "sorted_notebooks = merge_sort(notebooks, compare_likes)"
   ]
  },
  {
   "cell_type": "code",
   "execution_count": 41,
   "id": "eb578011",
   "metadata": {},
   "outputs": [
    {
     "data": {
      "text/plain": [
       "[Notebook <\"mahek/python-fundamentals\", 835 likes>,\n",
       " Notebook <\"killu/python-functions\", 568 likes>,\n",
       " Notebook <\"tanya/cifar10-cnn\", 441 likes>,\n",
       " Notebook <\"rohan/python-basics\", 375 likes>,\n",
       " Notebook <\"aakash/logistic-regression\", 349 likes>,\n",
       " Notebook <\"hemanth/cifar10-resnet\", 320 likes>,\n",
       " Notebook <\"sumit/linear-regression\", 221 likes>,\n",
       " Notebook <\"sarita/python-numpy\", 218 likes>,\n",
       " Notebook <\"viraj/feedforward-nn\", 79 likes>,\n",
       " Notebook <\"rohit/anime-gans\", 21 likes>]"
      ]
     },
     "execution_count": 41,
     "metadata": {},
     "output_type": "execute_result"
    }
   ],
   "source": [
    "sorted_notebooks"
   ]
  },
  {
   "cell_type": "code",
   "execution_count": 42,
   "id": "6f385a2d",
   "metadata": {},
   "outputs": [],
   "source": [
    "def compare_titles(nb1, nb2):\n",
    "    if nb1.title < nb2.title:\n",
    "        return 'lesser'\n",
    "    elif nb1.title == nb2.title:\n",
    "        return 'equal'\n",
    "    elif nb1.title > nb2.title:\n",
    "        return 'greater'"
   ]
  },
  {
   "cell_type": "code",
   "execution_count": 43,
   "id": "85d075d2",
   "metadata": {},
   "outputs": [
    {
     "data": {
      "text/plain": [
       "[Notebook <\"rohit/anime-gans\", 21 likes>,\n",
       " Notebook <\"tanya/cifar10-cnn\", 441 likes>,\n",
       " Notebook <\"hemanth/cifar10-resnet\", 320 likes>,\n",
       " Notebook <\"viraj/feedforward-nn\", 79 likes>,\n",
       " Notebook <\"sumit/linear-regression\", 221 likes>,\n",
       " Notebook <\"aakash/logistic-regression\", 349 likes>,\n",
       " Notebook <\"rohan/python-basics\", 375 likes>,\n",
       " Notebook <\"killu/python-functions\", 568 likes>,\n",
       " Notebook <\"mahek/python-fundamentals\", 835 likes>,\n",
       " Notebook <\"sarita/python-numpy\", 218 likes>]"
      ]
     },
     "execution_count": 43,
     "metadata": {},
     "output_type": "execute_result"
    }
   ],
   "source": [
    "merge_sort(notebooks, compare_titles)"
   ]
  },
  {
   "cell_type": "code",
   "execution_count": null,
   "id": "aa00d9be",
   "metadata": {},
   "outputs": [],
   "source": []
  }
 ],
 "metadata": {
  "kernelspec": {
   "display_name": "Python 3 (ipykernel)",
   "language": "python",
   "name": "python3"
  },
  "language_info": {
   "codemirror_mode": {
    "name": "ipython",
    "version": 3
   },
   "file_extension": ".py",
   "mimetype": "text/x-python",
   "name": "python",
   "nbconvert_exporter": "python",
   "pygments_lexer": "ipython3",
   "version": "3.11.5"
  }
 },
 "nbformat": 4,
 "nbformat_minor": 5
}
