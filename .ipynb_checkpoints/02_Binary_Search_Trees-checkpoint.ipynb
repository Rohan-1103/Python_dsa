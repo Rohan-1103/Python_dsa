{
 "cells": [
  {
   "cell_type": "markdown",
   "id": "e2f8b8cf",
   "metadata": {},
   "source": [
    "# Problem"
   ]
  },
  {
   "cell_type": "markdown",
   "id": "f5c11fd1",
   "metadata": {},
   "source": [
    "We need to create a data structure to store 100 million records and performm insertion, search, update and list operations effectively"
   ]
  },
  {
   "cell_type": "markdown",
   "id": "fb302213",
   "metadata": {},
   "source": [
    "# Input"
   ]
  },
  {
   "cell_type": "markdown",
   "id": "1db69017",
   "metadata": {},
   "source": [
    "input in user profile containing Username, name and email"
   ]
  },
  {
   "cell_type": "markdown",
   "id": "f4f339b3",
   "metadata": {},
   "source": [
    "Using class to create user structure"
   ]
  },
  {
   "cell_type": "code",
   "execution_count": 1,
   "id": "1e5b6e2d",
   "metadata": {},
   "outputs": [],
   "source": [
    "class User:\n",
    "    pass"
   ]
  },
  {
   "cell_type": "markdown",
   "id": "5db7f810",
   "metadata": {},
   "source": [
    "Class is blue-print for creating object.\n",
    "Instatiating object of User class"
   ]
  },
  {
   "cell_type": "code",
   "execution_count": 2,
   "id": "8d03dc57",
   "metadata": {},
   "outputs": [],
   "source": [
    "user1 = User()"
   ]
  },
  {
   "cell_type": "code",
   "execution_count": 3,
   "id": "7704f49a",
   "metadata": {},
   "outputs": [
    {
     "name": "stdout",
     "output_type": "stream",
     "text": [
      "<class '__main__.User'>\n"
     ]
    }
   ],
   "source": [
    "# verify\n",
    "print(type(user1))"
   ]
  },
  {
   "cell_type": "markdown",
   "id": "78178ef0",
   "metadata": {},
   "source": [
    "Adding constructor method to the class to store some attributes and properties"
   ]
  },
  {
   "cell_type": "code",
   "execution_count": 4,
   "id": "61387a63",
   "metadata": {},
   "outputs": [],
   "source": [
    "class User:\n",
    "    def __init__(self, username, name, email):\n",
    "        self.username = username\n",
    "        self.name = name\n",
    "        self.email = email\n",
    "        print('User Created')"
   ]
  },
  {
   "cell_type": "markdown",
   "id": "bb07d43a",
   "metadata": {},
   "source": [
    "Now we can create an object with some properites"
   ]
  },
  {
   "cell_type": "code",
   "execution_count": 5,
   "id": "097c240f",
   "metadata": {},
   "outputs": [
    {
     "name": "stdout",
     "output_type": "stream",
     "text": [
      "User Created\n"
     ]
    }
   ],
   "source": [
    "user2 = User('rohangoswami', 'Rohan', 'rohan1134@gmail.com')"
   ]
  },
  {
   "cell_type": "code",
   "execution_count": 6,
   "id": "7237c6eb",
   "metadata": {},
   "outputs": [
    {
     "data": {
      "text/plain": [
       "<__main__.User at 0x1825e52a090>"
      ]
     },
     "execution_count": 6,
     "metadata": {},
     "output_type": "execute_result"
    }
   ],
   "source": [
    "user2"
   ]
  },
  {
   "cell_type": "code",
   "execution_count": 7,
   "id": "69ed4959",
   "metadata": {},
   "outputs": [
    {
     "data": {
      "text/plain": [
       "'Rohan'"
      ]
     },
     "execution_count": 7,
     "metadata": {},
     "output_type": "execute_result"
    }
   ],
   "source": [
    "user2.name"
   ]
  },
  {
   "cell_type": "code",
   "execution_count": 8,
   "id": "6b76d9c1",
   "metadata": {},
   "outputs": [
    {
     "data": {
      "text/plain": [
       "'rohangoswami'"
      ]
     },
     "execution_count": 8,
     "metadata": {},
     "output_type": "execute_result"
    }
   ],
   "source": [
    "user2.username"
   ]
  },
  {
   "cell_type": "code",
   "execution_count": 9,
   "id": "57099099",
   "metadata": {},
   "outputs": [
    {
     "data": {
      "text/plain": [
       "'rohan1134@gmail.com'"
      ]
     },
     "execution_count": 9,
     "metadata": {},
     "output_type": "execute_result"
    }
   ],
   "source": [
    "user2.email"
   ]
  },
  {
   "cell_type": "markdown",
   "id": "207a3a77",
   "metadata": {},
   "source": [
    "Defining custom methods in a class"
   ]
  },
  {
   "cell_type": "code",
   "execution_count": 10,
   "id": "f6a8e032",
   "metadata": {},
   "outputs": [],
   "source": [
    "class User:\n",
    "    def __init__(self, username, name, email):\n",
    "        self.username = username\n",
    "        self.name = name\n",
    "        self.email = email\n",
    "        \n",
    "    def introduce_yourself(self, guest_name):\n",
    "        print(\"Hi {}, I'm {}! Contact me at {} .\".format(guest_name, self.name, self.email))"
   ]
  },
  {
   "cell_type": "code",
   "execution_count": 11,
   "id": "f18e75f8",
   "metadata": {},
   "outputs": [],
   "source": [
    "user3 = User('killu', 'Kiran', 'Kiran15@gmail.com')"
   ]
  },
  {
   "cell_type": "code",
   "execution_count": 12,
   "id": "74054555",
   "metadata": {},
   "outputs": [
    {
     "name": "stdout",
     "output_type": "stream",
     "text": [
      "Hi Suraj, I'm Kiran! Contact me at Kiran15@gmail.com .\n"
     ]
    }
   ],
   "source": [
    "user3.introduce_yourself('Suraj')"
   ]
  },
  {
   "cell_type": "markdown",
   "id": "f98ce2d6",
   "metadata": {},
   "source": [
    "defining a couple of helper methods to display user objects nicely within jupyter"
   ]
  },
  {
   "cell_type": "code",
   "execution_count": 13,
   "id": "7f19718b",
   "metadata": {},
   "outputs": [],
   "source": [
    "class User:\n",
    "    def __init__(self, username, name, email):\n",
    "        self.username = username\n",
    "        self.name = name\n",
    "        self.email = email\n",
    "    \n",
    "    def __repr__(self):\n",
    "        return \"User(username = '{}', name = '{}', email = '{}')\".format(self.username, self.name, self.email)\n",
    "    \n",
    "    def __str__(self):\n",
    "        return self.__repr__()"
   ]
  },
  {
   "cell_type": "code",
   "execution_count": 15,
   "id": "4cd03969",
   "metadata": {},
   "outputs": [],
   "source": [
    "user4 = User('chakli', 'Mahek', 'mahek@gmail.com') "
   ]
  },
  {
   "cell_type": "code",
   "execution_count": 16,
   "id": "f84419bc",
   "metadata": {},
   "outputs": [
    {
     "data": {
      "text/plain": [
       "User(username = 'chakli', name = 'Mahek', email = 'mahek@gmail.com')"
      ]
     },
     "execution_count": 16,
     "metadata": {},
     "output_type": "execute_result"
    }
   ],
   "source": [
    "user4"
   ]
  },
  {
   "cell_type": "code",
   "execution_count": 17,
   "id": "7eafff71",
   "metadata": {},
   "outputs": [
    {
     "name": "stdout",
     "output_type": "stream",
     "text": [
      "User(username = 'chakli', name = 'Mahek', email = 'mahek@gmail.com')\n"
     ]
    }
   ],
   "source": [
    "print(repr(user4))"
   ]
  },
  {
   "cell_type": "code",
   "execution_count": 18,
   "id": "8770dde1",
   "metadata": {},
   "outputs": [
    {
     "name": "stdout",
     "output_type": "stream",
     "text": [
      "User(username = 'chakli', name = 'Mahek', email = 'mahek@gmail.com')\n"
     ]
    }
   ],
   "source": [
    "print(user4)"
   ]
  },
  {
   "cell_type": "markdown",
   "id": "5c106213",
   "metadata": {},
   "source": [
    "# Creating data structure with 4 methods(insert, find, update, list_all)"
   ]
  },
  {
   "cell_type": "code",
   "execution_count": 19,
   "id": "78654ad7",
   "metadata": {},
   "outputs": [],
   "source": [
    "class UserDatabase:\n",
    "    def insert(self, user):\n",
    "        pass\n",
    "    \n",
    "    def find(self, username):\n",
    "        pass\n",
    "    \n",
    "    def update(self, user):\n",
    "        pass\n",
    "    \n",
    "    def list_all(self):\n",
    "        pass\n",
    "    "
   ]
  },
  {
   "cell_type": "markdown",
   "id": "c5acaba6",
   "metadata": {},
   "source": [
    "# Example inputs and outputs"
   ]
  },
  {
   "cell_type": "code",
   "execution_count": 20,
   "id": "6d7ebfe6",
   "metadata": {},
   "outputs": [],
   "source": [
    "rohan = User('momo', 'Rohan Goswami', 'rohan11@gmail.com')\n",
    "mahek = User('babboo', 'Mahek Jhangiani', 'mahekjhangiani@gmail.com')\n",
    "kiran = User('killuu', 'Kiran Goswami', 'kiran15@gmail.com')\n",
    "poonam = User('punna', 'Poonam Goswami', 'poonamgoswami921@gmail.com')\n",
    "amit = User('amrut', 'Amit Goswami', 'amitgoswami')\n",
    "hritik = User('babu', 'Hritik Yadav', 'yadavhritik@gmail.com')\n",
    "rohit = User('bone', 'Rohit Biradar', 'rohitbirada@gmail.com')"
   ]
  },
  {
   "cell_type": "code",
   "execution_count": 21,
   "id": "c6e424a1",
   "metadata": {},
   "outputs": [],
   "source": [
    "users = [rohan, mahek, kiran, poonam, amit, hritik, rohit]"
   ]
  },
  {
   "cell_type": "code",
   "execution_count": 22,
   "id": "dcd089c3",
   "metadata": {},
   "outputs": [
    {
     "data": {
      "text/plain": [
       "[User(username = 'momo', name = 'Rohan Goswami', email = 'rohan11@gmail.com'),\n",
       " User(username = 'babboo', name = 'Mahek Jhangiani', email = 'mahekjhangiani@gmail.com'),\n",
       " User(username = 'killuu', name = 'Kiran Goswami', email = 'kiran15@gmail.com'),\n",
       " User(username = 'punna', name = 'Poonam Goswami', email = 'poonamgoswami921@gmail.com'),\n",
       " User(username = 'amrut', name = 'Amit Goswami', email = 'amitgoswami'),\n",
       " User(username = 'babu', name = 'Hritik Yadav', email = 'yadavhritik@gmail.com'),\n",
       " User(username = 'bone', name = 'Rohit Biradar', email = 'rohitbirada@gmail.com')]"
      ]
     },
     "execution_count": 22,
     "metadata": {},
     "output_type": "execute_result"
    }
   ],
   "source": [
    "users"
   ]
  },
  {
   "cell_type": "code",
   "execution_count": 23,
   "id": "006153ed",
   "metadata": {},
   "outputs": [
    {
     "data": {
      "text/plain": [
       "('babboo', 'Mahek Jhangiani', 'mahekjhangiani@gmail.com')"
      ]
     },
     "execution_count": 23,
     "metadata": {},
     "output_type": "execute_result"
    }
   ],
   "source": [
    "# accessing fields of user profile object using (.)\n",
    "mahek.username, mahek.name, mahek.email"
   ]
  },
  {
   "cell_type": "code",
   "execution_count": 24,
   "id": "14bc478d",
   "metadata": {},
   "outputs": [
    {
     "name": "stdout",
     "output_type": "stream",
     "text": [
      "User(username = 'babboo', name = 'Mahek Jhangiani', email = 'mahekjhangiani@gmail.com')\n"
     ]
    }
   ],
   "source": [
    "print(repr(mahek))"
   ]
  },
  {
   "cell_type": "code",
   "execution_count": 25,
   "id": "8593a9bf",
   "metadata": {},
   "outputs": [
    {
     "name": "stdout",
     "output_type": "stream",
     "text": [
      "User(username = 'babboo', name = 'Mahek Jhangiani', email = 'mahekjhangiani@gmail.com')\n"
     ]
    }
   ],
   "source": [
    "print(str(mahek))"
   ]
  },
  {
   "cell_type": "markdown",
   "id": "c1f23d5c",
   "metadata": {},
   "source": [
    "# Implimenting the methods"
   ]
  },
  {
   "cell_type": "code",
   "execution_count": 31,
   "id": "068fa8c8",
   "metadata": {},
   "outputs": [],
   "source": [
    "class UserDatabase:\n",
    "    def __init__(self):\n",
    "        self.users = []\n",
    "    \n",
    "    def insert(self, user):\n",
    "        i = 0\n",
    "        # iterate through all the users list\n",
    "        while i < len(self.users):\n",
    "            # find username greater than the new user's username\n",
    "            if self.users[i].username > user.username:\n",
    "                break\n",
    "            # else increment i\n",
    "            i += 1\n",
    "        # break when username in list > new username and insert\n",
    "        self.users.insert(i, user)\n",
    "        \n",
    "    def find(self, username):\n",
    "        # iterate through the list of users\n",
    "        for user in self.users:\n",
    "            # compare\n",
    "            if user.username == username:\n",
    "                print('User found')\n",
    "                # if match found return user\n",
    "                return user\n",
    "            print('User not found')\n",
    "        \n",
    "    def update(self, user):\n",
    "        # find the user to update\n",
    "        target = self.find(user.username)\n",
    "        # update the previous user information with new user information\n",
    "        target.name, target.email = user.name, user.email\n",
    "    \n",
    "    def list_all(self):\n",
    "        return self.users"
   ]
  },
  {
   "cell_type": "code",
   "execution_count": 32,
   "id": "f75e4e43",
   "metadata": {},
   "outputs": [],
   "source": [
    "database = UserDatabase()"
   ]
  },
  {
   "cell_type": "code",
   "execution_count": 33,
   "id": "3af87db8",
   "metadata": {},
   "outputs": [
    {
     "data": {
      "text/plain": [
       "<__main__.UserDatabase at 0x1825e50b850>"
      ]
     },
     "execution_count": 33,
     "metadata": {},
     "output_type": "execute_result"
    }
   ],
   "source": [
    "database"
   ]
  },
  {
   "cell_type": "markdown",
   "id": "5626c75a",
   "metadata": {},
   "source": [
    "Inserting some users in database"
   ]
  },
  {
   "cell_type": "code",
   "execution_count": 34,
   "id": "cfd5f77f",
   "metadata": {},
   "outputs": [],
   "source": [
    "database.insert(rohan)\n",
    "database.insert(mahek)\n",
    "database.insert(kiran)\n",
    "database.insert(hritik)"
   ]
  },
  {
   "cell_type": "markdown",
   "id": "2edc4491",
   "metadata": {},
   "source": [
    "Finding users from database"
   ]
  },
  {
   "cell_type": "code",
   "execution_count": 35,
   "id": "92206d9c",
   "metadata": {},
   "outputs": [
    {
     "name": "stdout",
     "output_type": "stream",
     "text": [
      "User not found\n",
      "User not found\n",
      "User not found\n",
      "User not found\n"
     ]
    }
   ],
   "source": [
    "user_one = database.find('Babbooo')\n",
    "user_one"
   ]
  },
  {
   "cell_type": "code",
   "execution_count": 37,
   "id": "453f50fa",
   "metadata": {},
   "outputs": [
    {
     "name": "stdout",
     "output_type": "stream",
     "text": [
      "User found\n"
     ]
    }
   ],
   "source": [
    "user_ek = database.find('babboo')"
   ]
  },
  {
   "cell_type": "markdown",
   "id": "e5f8e8e9",
   "metadata": {},
   "source": [
    "Updating the username"
   ]
  },
  {
   "cell_type": "code",
   "execution_count": 39,
   "id": "b704472e",
   "metadata": {},
   "outputs": [
    {
     "name": "stdout",
     "output_type": "stream",
     "text": [
      "User not found\n",
      "User found\n"
     ]
    }
   ],
   "source": [
    "user_updated = database.update(User(username='babu', name='Yadav Hritik', email='notavailable@gmail.com'))"
   ]
  },
  {
   "cell_type": "code",
   "execution_count": 40,
   "id": "d339308f",
   "metadata": {},
   "outputs": [],
   "source": [
    "user_updated"
   ]
  },
  {
   "cell_type": "code",
   "execution_count": 42,
   "id": "f17c5a09",
   "metadata": {},
   "outputs": [
    {
     "name": "stdout",
     "output_type": "stream",
     "text": [
      "User not found\n",
      "User not found\n",
      "User not found\n",
      "User found\n"
     ]
    }
   ],
   "source": [
    "user_two = database.find('momo')"
   ]
  },
  {
   "cell_type": "code",
   "execution_count": 43,
   "id": "607b67ac",
   "metadata": {},
   "outputs": [
    {
     "data": {
      "text/plain": [
       "User(username = 'momo', name = 'Rohan Goswami', email = 'rohan11@gmail.com')"
      ]
     },
     "execution_count": 43,
     "metadata": {},
     "output_type": "execute_result"
    }
   ],
   "source": [
    "user_two"
   ]
  },
  {
   "cell_type": "code",
   "execution_count": 46,
   "id": "cc22bf75",
   "metadata": {},
   "outputs": [
    {
     "data": {
      "text/plain": [
       "[User(username = 'babboo', name = 'Mahek Jhangiani', email = 'mahekjhangiani@gmail.com'),\n",
       " User(username = 'babu', name = 'Yadav Hritik', email = 'notavailable@gmail.com'),\n",
       " User(username = 'killuu', name = 'Kiran Goswami', email = 'kiran15@gmail.com'),\n",
       " User(username = 'momo', name = 'Rohan Goswami', email = 'rohan11@gmail.com')]"
      ]
     },
     "execution_count": 46,
     "metadata": {},
     "output_type": "execute_result"
    }
   ],
   "source": [
    "database.list_all()\n",
    "# listing in alphabetical order of username"
   ]
  },
  {
   "cell_type": "code",
   "execution_count": null,
   "id": "48e43158",
   "metadata": {},
   "outputs": [],
   "source": [
    "#!pip install jovian --upgrade --quiet"
   ]
  },
  {
   "cell_type": "code",
   "execution_count": null,
   "id": "96214de5",
   "metadata": {},
   "outputs": [],
   "source": [
    "#import jovian"
   ]
  },
  {
   "cell_type": "code",
   "execution_count": 47,
   "id": "9cb9335b",
   "metadata": {},
   "outputs": [
    {
     "data": {
      "application/javascript": [
       "window.require && require([\"base/js/namespace\"],function(Jupyter){Jupyter.notebook.save_checkpoint()})"
      ],
      "text/plain": [
       "<IPython.core.display.Javascript object>"
      ]
     },
     "metadata": {},
     "output_type": "display_data"
    },
    {
     "name": "stdout",
     "output_type": "stream",
     "text": [
      "[jovian] Updating notebook \"rohangoswami1134/02-binary-search-trees\" on https://jovian.com/\u001b[0m\n",
      "[jovian] Committed successfully! https://jovian.com/rohangoswami1134/02-binary-search-trees\u001b[0m\n"
     ]
    },
    {
     "data": {
      "text/plain": [
       "'https://jovian.com/rohangoswami1134/02-binary-search-trees'"
      ]
     },
     "execution_count": 47,
     "metadata": {},
     "output_type": "execute_result"
    }
   ],
   "source": [
    "jovian.commit()"
   ]
  },
  {
   "cell_type": "markdown",
   "id": "a9cfca57",
   "metadata": {},
   "source": [
    "# Implement binary tree instead of list using Python"
   ]
  },
  {
   "cell_type": "code",
   "execution_count": 48,
   "id": "7d5fc06f",
   "metadata": {},
   "outputs": [
    {
     "name": "stdout",
     "output_type": "stream",
     "text": [
      "Root 3\n",
      "Left 4\n",
      "Right 6\n"
     ]
    }
   ],
   "source": [
    "class TreeNode:\n",
    "    def __init__(self, key):\n",
    "        self.key = key\n",
    "        self.left = None\n",
    "        self.right = None\n",
    "        \n",
    "# creating objects representing each node of the above tree\n",
    "node0 = TreeNode(3)\n",
    "node1 = TreeNode(4)\n",
    "node2 = TreeNode(6)\n",
    "\n",
    "# connect nodes bu setting .left and .right properties of the root node\n",
    "node0.left = node1\n",
    "node0.right = node2\n",
    "\n",
    "tree = node0\n",
    "print('Root', tree.key)\n",
    "print('Left', tree.left.key)\n",
    "print('Right', tree.right.key)"
   ]
  },
  {
   "cell_type": "code",
   "execution_count": 49,
   "id": "7225489a",
   "metadata": {},
   "outputs": [
    {
     "name": "stdout",
     "output_type": "stream",
     "text": [
      "root1.left.left <__main__.TreeNode object at 0x00000182606A7250>\n"
     ]
    }
   ],
   "source": [
    "# creating another tree\n",
    "node3 = TreeNode(2)\n",
    "node4 = TreeNode(3)\n",
    "node5 = TreeNode(1)\n",
    "node6 = TreeNode(5)\n",
    "node7 = TreeNode(7)\n",
    "node8 = TreeNode(8)\n",
    "node9 = TreeNode(6)\n",
    "node10 = TreeNode(3)\n",
    "node11 = TreeNode(4)\n",
    "\n",
    "root1 = node3\n",
    "root1.left = node4\n",
    "root1.right = node6\n",
    "\n",
    "root1.left.left = node5\n",
    "root1.right.right = node7\n",
    "root1.right.right.right = node8\n",
    "root1.right.right.left = node9\n",
    "root1.right.left = node10\n",
    "root1.right.left.right = node11\n",
    "\n",
    "print(\"root1.left.left\", root1.left.left)"
   ]
  },
  {
   "cell_type": "markdown",
   "id": "842cec75",
   "metadata": {},
   "source": [
    "# Convitent way to create tree using tuple"
   ]
  },
  {
   "cell_type": "markdown",
   "id": "57342ae0",
   "metadata": {},
   "source": [
    "Here is a tuple representation of above tree"
   ]
  },
  {
   "cell_type": "code",
   "execution_count": 50,
   "id": "d7c995b3",
   "metadata": {},
   "outputs": [],
   "source": [
    "tree_tuple = ((1, 3, None), 2, ((None, 3, 4), 5, (6, 7, 8)))"
   ]
  },
  {
   "cell_type": "code",
   "execution_count": 51,
   "id": "c840fa00",
   "metadata": {},
   "outputs": [],
   "source": [
    "def parse_tuple(data):\n",
    "    \n",
    "    # check if data is of type tuple and length of data is equal to 3\n",
    "    if isinstance(data, tuple) and len(data) == 3:\n",
    "        # initialize node with element at index 1\n",
    "        node = TreeNode(data[1])\n",
    "        \n",
    "        # recurisvely initialize left with element at index 0 \n",
    "        node.left = parse_tuple(data[0])\n",
    "        \n",
    "        # recursively initialize right with element at index 2\n",
    "        node.right = parse_tuple(data[2])\n",
    "    \n",
    "    # elif data is None; terminates\n",
    "    elif data is None:\n",
    "        node = None\n",
    "        \n",
    "    # make last node as leaf node\n",
    "    else:\n",
    "        node = TreeNode(data)\n",
    "        \n",
    "    return node"
   ]
  },
  {
   "cell_type": "code",
   "execution_count": 52,
   "id": "dc304cd4",
   "metadata": {},
   "outputs": [],
   "source": [
    "tup_tree = parse_tuple(((1, 3, None), 2, ((None, 3, 4), 5, (6, 7, 8))))"
   ]
  },
  {
   "cell_type": "code",
   "execution_count": 53,
   "id": "ed607b09",
   "metadata": {},
   "outputs": [
    {
     "data": {
      "text/plain": [
       "<__main__.TreeNode at 0x182606a4b10>"
      ]
     },
     "execution_count": 53,
     "metadata": {},
     "output_type": "execute_result"
    }
   ],
   "source": [
    "tup_tree"
   ]
  },
  {
   "cell_type": "code",
   "execution_count": 54,
   "id": "62356f09",
   "metadata": {},
   "outputs": [
    {
     "data": {
      "text/plain": [
       "2"
      ]
     },
     "execution_count": 54,
     "metadata": {},
     "output_type": "execute_result"
    }
   ],
   "source": [
    "tup_tree.key"
   ]
  },
  {
   "cell_type": "code",
   "execution_count": 55,
   "id": "29e35f96",
   "metadata": {},
   "outputs": [
    {
     "data": {
      "text/plain": [
       "1"
      ]
     },
     "execution_count": 55,
     "metadata": {},
     "output_type": "execute_result"
    }
   ],
   "source": [
    "tup_tree.left.left.key"
   ]
  },
  {
   "cell_type": "code",
   "execution_count": 56,
   "id": "676ea4c5",
   "metadata": {},
   "outputs": [
    {
     "data": {
      "text/plain": [
       "8"
      ]
     },
     "execution_count": 56,
     "metadata": {},
     "output_type": "execute_result"
    }
   ],
   "source": [
    "tup_tree.right.right.right.key"
   ]
  },
  {
   "cell_type": "code",
   "execution_count": 57,
   "id": "55335c1b",
   "metadata": {},
   "outputs": [
    {
     "data": {
      "text/plain": [
       "(3, 5)"
      ]
     },
     "execution_count": 57,
     "metadata": {},
     "output_type": "execute_result"
    }
   ],
   "source": [
    "tup_tree.left.key, tup_tree.right.key"
   ]
  },
  {
   "cell_type": "markdown",
   "id": "01b88fe4",
   "metadata": {},
   "source": [
    "# Tree to tuple"
   ]
  },
  {
   "cell_type": "code",
   "execution_count": 63,
   "id": "ceba5203",
   "metadata": {},
   "outputs": [],
   "source": [
    "def tree_to_tuple(node):\n",
    "    # If the node is None, return None to indicate an empty subtree\n",
    "    if node is None:\n",
    "        return None\n",
    "    \n",
    "    # If both left and right are None, it's a leaf node; return just the node's value\n",
    "    if node.left is None and node.right is None:\n",
    "        return node.key\n",
    "    \n",
    "    # Recursively convert the left and right subtrees to tuples and create a tuple with node's value in the center\n",
    "    return (tree_to_tuple(node.left), node.key, tree_to_tuple(node.right))"
   ]
  },
  {
   "cell_type": "code",
   "execution_count": 65,
   "id": "37cc16fd",
   "metadata": {},
   "outputs": [
    {
     "name": "stdout",
     "output_type": "stream",
     "text": [
      "((1, 3, None), 2, ((None, 3, 4), 5, (6, 7, 8)))\n"
     ]
    }
   ],
   "source": [
    "to_tuple=tree_to_tuple(tup_tree)\n",
    "print(to_tuple)"
   ]
  },
  {
   "cell_type": "markdown",
   "id": "fb700a94",
   "metadata": {},
   "source": [
    "# Creating helper function to display all keys of tree for better visualization"
   ]
  },
  {
   "cell_type": "code",
   "execution_count": 66,
   "id": "5aa2a2aa",
   "metadata": {},
   "outputs": [],
   "source": [
    "def display_keys(node, space = '\\t', level = 0):\n",
    "    #print(node.key if node else None, level)\n",
    "    \n",
    "    # if node is empty\n",
    "    if node is None:\n",
    "        print(space * level + '0')\n",
    "        return\n",
    "    \n",
    "    # if node is a leaf\n",
    "    if node.left is None and node.right is None:\n",
    "        print(space * level + str(node.key))\n",
    "        return\n",
    "    \n",
    "    # if the node has childern\n",
    "    display_keys(node.right, space, level + 1)\n",
    "    print(space * level + str(node.key))\n",
    "    display_keys(node.left, space, level + 1)"
   ]
  },
  {
   "cell_type": "code",
   "execution_count": 67,
   "id": "3bb2abc7",
   "metadata": {},
   "outputs": [
    {
     "name": "stdout",
     "output_type": "stream",
     "text": [
      "   8\n",
      "  7\n",
      "   6\n",
      " 5\n",
      "   4\n",
      "  3\n",
      "   0\n",
      "2\n",
      "  0\n",
      " 3\n",
      "  1\n"
     ]
    }
   ],
   "source": [
    "display_keys(tup_tree, ' ')"
   ]
  },
  {
   "cell_type": "code",
   "execution_count": 68,
   "id": "96374f6e",
   "metadata": {},
   "outputs": [
    {
     "data": {
      "application/javascript": [
       "window.require && require([\"base/js/namespace\"],function(Jupyter){Jupyter.notebook.save_checkpoint()})"
      ],
      "text/plain": [
       "<IPython.core.display.Javascript object>"
      ]
     },
     "metadata": {},
     "output_type": "display_data"
    },
    {
     "name": "stdout",
     "output_type": "stream",
     "text": [
      "[jovian] Updating notebook \"rohangoswami1134/02-binary-search-trees\" on https://jovian.com/\u001b[0m\n",
      "[jovian] Committed successfully! https://jovian.com/rohangoswami1134/02-binary-search-trees\u001b[0m\n"
     ]
    },
    {
     "data": {
      "text/plain": [
       "'https://jovian.com/rohangoswami1134/02-binary-search-trees'"
      ]
     },
     "execution_count": 68,
     "metadata": {},
     "output_type": "execute_result"
    }
   ],
   "source": [
    "jovian.commit()"
   ]
  },
  {
   "cell_type": "markdown",
   "id": "c248bcc4",
   "metadata": {},
   "source": [
    "# Inorder Traversal"
   ]
  },
  {
   "cell_type": "markdown",
   "id": "cb67a5fe",
   "metadata": {},
   "source": [
    "Inorder traversal: left - current(root) - right"
   ]
  },
  {
   "cell_type": "code",
   "execution_count": 69,
   "id": "14211844",
   "metadata": {},
   "outputs": [],
   "source": [
    "def traverse_in_order(node):\n",
    "    if node is None:\n",
    "        return []\n",
    "    return(traverse_in_order(node.left) + [node.key] + traverse_in_order(node.right))"
   ]
  },
  {
   "cell_type": "code",
   "execution_count": 70,
   "id": "03b7e1f8",
   "metadata": {},
   "outputs": [
    {
     "name": "stdout",
     "output_type": "stream",
     "text": [
      "   8\n",
      "  7\n",
      "   6\n",
      " 5\n",
      "   4\n",
      "  3\n",
      "   0\n",
      "2\n",
      "  0\n",
      " 3\n",
      "  1\n"
     ]
    }
   ],
   "source": [
    "tree = parse_tuple(((1, 3, None), 2, ((None, 3, 4), 5, (6, 7, 8))))\n",
    "display_keys(tree, ' ')"
   ]
  },
  {
   "cell_type": "code",
   "execution_count": 71,
   "id": "84fb3b80",
   "metadata": {},
   "outputs": [
    {
     "data": {
      "text/plain": [
       "[1, 3, 2, 3, 4, 5, 6, 7, 8]"
      ]
     },
     "execution_count": 71,
     "metadata": {},
     "output_type": "execute_result"
    }
   ],
   "source": [
    "traverse_in_order(tree)"
   ]
  },
  {
   "cell_type": "markdown",
   "id": "56d6ec43",
   "metadata": {},
   "source": [
    "# Preorder Traversal"
   ]
  },
  {
   "cell_type": "markdown",
   "id": "8795d00a",
   "metadata": {},
   "source": [
    "Preorder traversal: node - left - right"
   ]
  },
  {
   "cell_type": "code",
   "execution_count": 72,
   "id": "085f0561",
   "metadata": {},
   "outputs": [],
   "source": [
    "def traverse_pre_order(node):\n",
    "    if node is None:\n",
    "        return []\n",
    "    return([node.key] + traverse_in_order(node.left) + traverse_in_order(node.right))"
   ]
  },
  {
   "cell_type": "code",
   "execution_count": 73,
   "id": "ee6261fa",
   "metadata": {},
   "outputs": [
    {
     "name": "stdout",
     "output_type": "stream",
     "text": [
      "   8\n",
      "  7\n",
      "   6\n",
      " 5\n",
      "   4\n",
      "  3\n",
      "   0\n",
      "2\n",
      "  0\n",
      " 3\n",
      "  1\n"
     ]
    }
   ],
   "source": [
    "tree2 = parse_tuple(((1, 3, None), 2, ((None, 3, 4), 5, (6, 7, 8))))\n",
    "display_keys(tree2, ' ')"
   ]
  },
  {
   "cell_type": "code",
   "execution_count": 74,
   "id": "fae8c753",
   "metadata": {},
   "outputs": [
    {
     "data": {
      "text/plain": [
       "[2, 1, 3, 3, 4, 5, 6, 7, 8]"
      ]
     },
     "execution_count": 74,
     "metadata": {},
     "output_type": "execute_result"
    }
   ],
   "source": [
    "traverse_pre_order(tree2)"
   ]
  },
  {
   "cell_type": "markdown",
   "id": "c5a49b26",
   "metadata": {},
   "source": [
    "# Postorder Traversal"
   ]
  },
  {
   "cell_type": "markdown",
   "id": "595ddcc3",
   "metadata": {},
   "source": [
    "Postorder Traversal: left - right - node"
   ]
  },
  {
   "cell_type": "code",
   "execution_count": 75,
   "id": "4e48cdb3",
   "metadata": {},
   "outputs": [],
   "source": [
    "def traverse_post_order(node):\n",
    "    if node is None:\n",
    "        return []\n",
    "    return(traverse_post_order(node.left) + traverse_post_order(node.right) + [node.key])"
   ]
  },
  {
   "cell_type": "code",
   "execution_count": 76,
   "id": "a94a4eb2",
   "metadata": {},
   "outputs": [
    {
     "name": "stdout",
     "output_type": "stream",
     "text": [
      "   8\n",
      "  7\n",
      "   6\n",
      " 5\n",
      "   4\n",
      "  3\n",
      "   0\n",
      "2\n",
      "  0\n",
      " 3\n",
      "  1\n"
     ]
    }
   ],
   "source": [
    "tree3 = parse_tuple(((1, 3, None), 2, ((None, 3, 4), 5, (6, 7, 8))))\n",
    "display_keys(tree, ' ')"
   ]
  },
  {
   "cell_type": "code",
   "execution_count": 77,
   "id": "a8122522",
   "metadata": {},
   "outputs": [
    {
     "data": {
      "text/plain": [
       "[1, 3, 4, 3, 6, 8, 7, 5, 2]"
      ]
     },
     "execution_count": 77,
     "metadata": {},
     "output_type": "execute_result"
    }
   ],
   "source": [
    "traverse_post_order(tree3)"
   ]
  },
  {
   "cell_type": "code",
   "execution_count": 78,
   "id": "fba755cb",
   "metadata": {},
   "outputs": [
    {
     "data": {
      "application/javascript": [
       "window.require && require([\"base/js/namespace\"],function(Jupyter){Jupyter.notebook.save_checkpoint()})"
      ],
      "text/plain": [
       "<IPython.core.display.Javascript object>"
      ]
     },
     "metadata": {},
     "output_type": "display_data"
    },
    {
     "name": "stdout",
     "output_type": "stream",
     "text": [
      "[jovian] Updating notebook \"rohangoswami1134/02-binary-search-trees\" on https://jovian.com/\u001b[0m\n",
      "[jovian] Committed successfully! https://jovian.com/rohangoswami1134/02-binary-search-trees\u001b[0m\n"
     ]
    },
    {
     "data": {
      "text/plain": [
       "'https://jovian.com/rohangoswami1134/02-binary-search-trees'"
      ]
     },
     "execution_count": 78,
     "metadata": {},
     "output_type": "execute_result"
    }
   ],
   "source": [
    "jovian.commit()"
   ]
  },
  {
   "cell_type": "markdown",
   "id": "e8f85b89",
   "metadata": {},
   "source": [
    "# Height and size of Binary Tree"
   ]
  },
  {
   "cell_type": "code",
   "execution_count": 79,
   "id": "30eba862",
   "metadata": {},
   "outputs": [],
   "source": [
    "def tree_height(node):\n",
    "    if node is None:\n",
    "        return 0\n",
    "    return 1 + max(tree_height(node.left), tree_height(node.right))"
   ]
  },
  {
   "cell_type": "code",
   "execution_count": 80,
   "id": "eea85649",
   "metadata": {},
   "outputs": [
    {
     "name": "stdout",
     "output_type": "stream",
     "text": [
      "   8\n",
      "  7\n",
      "   6\n",
      " 5\n",
      "   4\n",
      "  3\n",
      "   0\n",
      "2\n",
      "  0\n",
      " 3\n",
      "  1\n"
     ]
    }
   ],
   "source": [
    "tree = parse_tuple(((1, 3, None), 2, ((None, 3, 4), 5, (6, 7, 8))))\n",
    "display_keys(tree, ' ')"
   ]
  },
  {
   "cell_type": "code",
   "execution_count": 81,
   "id": "d8ea034d",
   "metadata": {},
   "outputs": [
    {
     "data": {
      "text/plain": [
       "4"
      ]
     },
     "execution_count": 81,
     "metadata": {},
     "output_type": "execute_result"
    }
   ],
   "source": [
    "tree_height(tree)"
   ]
  },
  {
   "cell_type": "code",
   "execution_count": 82,
   "id": "2e32d413",
   "metadata": {},
   "outputs": [],
   "source": [
    "def tree_size(node):\n",
    "    if node is None:\n",
    "        return 0\n",
    "    return 1 + tree_size(node.left) + tree_size(node.right)"
   ]
  },
  {
   "cell_type": "code",
   "execution_count": 83,
   "id": "c2be58fa",
   "metadata": {},
   "outputs": [
    {
     "name": "stdout",
     "output_type": "stream",
     "text": [
      "   8\n",
      "  7\n",
      "   6\n",
      " 5\n",
      "   4\n",
      "  3\n",
      "   0\n",
      "2\n",
      "  0\n",
      " 3\n",
      "  1\n"
     ]
    }
   ],
   "source": [
    "tree = parse_tuple(((1, 3, None), 2, ((None, 3, 4), 5, (6, 7, 8))))\n",
    "display_keys(tree, ' ')"
   ]
  },
  {
   "cell_type": "code",
   "execution_count": 84,
   "id": "79ebe23b",
   "metadata": {},
   "outputs": [
    {
     "data": {
      "text/plain": [
       "9"
      ]
     },
     "execution_count": 84,
     "metadata": {},
     "output_type": "execute_result"
    }
   ],
   "source": [
    "tree_size(tree)"
   ]
  },
  {
   "cell_type": "markdown",
   "id": "bde743fa",
   "metadata": {},
   "source": [
    "# Tree class with methods in it"
   ]
  },
  {
   "cell_type": "code",
   "execution_count": 87,
   "id": "af718944",
   "metadata": {},
   "outputs": [],
   "source": [
    "class TreeNode():\n",
    "    def __init__(self, key):\n",
    "        self.key, self.left, self.right = key, None, None\n",
    "    \n",
    "    def height(self):\n",
    "        if self is None:\n",
    "            return 0\n",
    "        return 1 + max(TreeNode.height(self.left), TreeNode.height(self.right))\n",
    "    \n",
    "    def size(self):\n",
    "        if self is None:\n",
    "            return 0\n",
    "        return 1 + TreeNode.size(self.left) + TreeNode.size(self.right)\n",
    "    \n",
    "    def traverse_in_order(self):\n",
    "        if self is None:\n",
    "            return []\n",
    "        return (TreeNode.traverse_in_order(self.left) + [self.key] + TreeNode.traverse_in_order(self.right))\n",
    "    \n",
    "    def traverse_pre_order(self):\n",
    "        if self is None:\n",
    "            return []\n",
    "        return ([self.key] + TreeNode.traverse_pre_order(self.left) + TreeNode.traverse_pre_order(self.right))\n",
    "    \n",
    "    def traverse_post_order(self):\n",
    "        if self is None:\n",
    "            return []\n",
    "        return (TreeNode.traverse_post_order(self.left) + TreeNode.traverse_post_order(self.right) + [self.key])\n",
    "    \n",
    "    def display_keys(self, space = '\\t', level = 0):\n",
    "        # if node is null\n",
    "        if self is None:\n",
    "            print(space * level + '0')\n",
    "            return\n",
    "        \n",
    "        # if node is a leaf\n",
    "        if self.left is None and self.right is None:\n",
    "            print(space * level + str(self.key))\n",
    "            return\n",
    "        \n",
    "        # if node has childer\n",
    "        display_keys(self.right, space, level + 1)\n",
    "        print(space * level + str(self.key))\n",
    "        display_keys(self.left, space, level + 1)\n",
    "        \n",
    "    def to_tuple(self):\n",
    "        if self is None:\n",
    "            return None\n",
    "        if self.left is None and self.right is None:\n",
    "            return self.key\n",
    "        return TreeNode.to_tuple(self.left), self.key, TreeNode.to_tuple(self.right)\n",
    "    \n",
    "    def __str__(self):\n",
    "        return \"BinaryTree <{}>\".format(self.to_tuple())\n",
    "    \n",
    "    def __repr__(self):\n",
    "        return \"BinaryTree <{}>\".format(self.to_tuple())\n",
    "    \n",
    "    @staticmethod\n",
    "    def parse_tuple(data):\n",
    "        if data is None:\n",
    "            node = None\n",
    "        elif isinstance(data, tuple) and len(data) == 3:\n",
    "            node = TreeNode(data[1])\n",
    "            node.left = TreeNode.parse_tuple(data[0])\n",
    "            node.right = TreeNode.parse_tuple(data[2])\n",
    "        else:\n",
    "            node = TreeNode(data)\n",
    "        return node"
   ]
  },
  {
   "cell_type": "code",
   "execution_count": 88,
   "id": "11fefed7",
   "metadata": {},
   "outputs": [
    {
     "data": {
      "text/plain": [
       "((1, 3, None), 2, ((None, 3, 4), 5, (6, 7, 8)))"
      ]
     },
     "execution_count": 88,
     "metadata": {},
     "output_type": "execute_result"
    }
   ],
   "source": [
    "tree_tuple"
   ]
  },
  {
   "cell_type": "code",
   "execution_count": 89,
   "id": "71450aa7",
   "metadata": {},
   "outputs": [],
   "source": [
    "tree = TreeNode.parse_tuple(tree_tuple)"
   ]
  },
  {
   "cell_type": "code",
   "execution_count": 90,
   "id": "b64cfb1d",
   "metadata": {},
   "outputs": [
    {
     "data": {
      "text/plain": [
       "BinaryTree <((1, 3, None), 2, ((None, 3, 4), 5, (6, 7, 8)))>"
      ]
     },
     "execution_count": 90,
     "metadata": {},
     "output_type": "execute_result"
    }
   ],
   "source": [
    "tree"
   ]
  },
  {
   "cell_type": "code",
   "execution_count": 91,
   "id": "87f56f86",
   "metadata": {},
   "outputs": [
    {
     "name": "stdout",
     "output_type": "stream",
     "text": [
      "\t\t\t8\n",
      "\t\t7\n",
      "\t\t\t6\n",
      "\t5\n",
      "\t\t\t4\n",
      "\t\t3\n",
      "\t\t\t0\n",
      "2\n",
      "\t\t0\n",
      "\t3\n",
      "\t\t1\n"
     ]
    }
   ],
   "source": [
    "tree.display_keys()"
   ]
  },
  {
   "cell_type": "code",
   "execution_count": 92,
   "id": "6ea101b9",
   "metadata": {},
   "outputs": [
    {
     "data": {
      "text/plain": [
       "4"
      ]
     },
     "execution_count": 92,
     "metadata": {},
     "output_type": "execute_result"
    }
   ],
   "source": [
    "tree.height()"
   ]
  },
  {
   "cell_type": "code",
   "execution_count": 93,
   "id": "ca4a0293",
   "metadata": {},
   "outputs": [
    {
     "data": {
      "text/plain": [
       "9"
      ]
     },
     "execution_count": 93,
     "metadata": {},
     "output_type": "execute_result"
    }
   ],
   "source": [
    "tree.size()"
   ]
  },
  {
   "cell_type": "code",
   "execution_count": 94,
   "id": "a6924348",
   "metadata": {},
   "outputs": [
    {
     "data": {
      "text/plain": [
       "[1, 3, 2, 3, 4, 5, 6, 7, 8]"
      ]
     },
     "execution_count": 94,
     "metadata": {},
     "output_type": "execute_result"
    }
   ],
   "source": [
    "tree.traverse_in_order()"
   ]
  },
  {
   "cell_type": "code",
   "execution_count": 95,
   "id": "d22290d9",
   "metadata": {},
   "outputs": [
    {
     "data": {
      "text/plain": [
       "[2, 3, 1, 5, 3, 4, 7, 6, 8]"
      ]
     },
     "execution_count": 95,
     "metadata": {},
     "output_type": "execute_result"
    }
   ],
   "source": [
    "tree.traverse_pre_order()"
   ]
  },
  {
   "cell_type": "code",
   "execution_count": 96,
   "id": "042d526c",
   "metadata": {},
   "outputs": [
    {
     "data": {
      "text/plain": [
       "[1, 3, 4, 3, 6, 8, 7, 5, 2]"
      ]
     },
     "execution_count": 96,
     "metadata": {},
     "output_type": "execute_result"
    }
   ],
   "source": [
    "tree.traverse_post_order()"
   ]
  },
  {
   "cell_type": "code",
   "execution_count": 97,
   "id": "0be5dea8",
   "metadata": {},
   "outputs": [
    {
     "data": {
      "text/plain": [
       "((1, 3, None), 2, ((None, 3, 4), 5, (6, 7, 8)))"
      ]
     },
     "execution_count": 97,
     "metadata": {},
     "output_type": "execute_result"
    }
   ],
   "source": [
    "tree.to_tuple()"
   ]
  },
  {
   "cell_type": "code",
   "execution_count": 98,
   "id": "2c56b519",
   "metadata": {},
   "outputs": [
    {
     "data": {
      "application/javascript": [
       "window.require && require([\"base/js/namespace\"],function(Jupyter){Jupyter.notebook.save_checkpoint()})"
      ],
      "text/plain": [
       "<IPython.core.display.Javascript object>"
      ]
     },
     "metadata": {},
     "output_type": "display_data"
    },
    {
     "name": "stdout",
     "output_type": "stream",
     "text": [
      "[jovian] Updating notebook \"rohangoswami1134/02-binary-search-trees\" on https://jovian.com/\u001b[0m\n",
      "[jovian] Committed successfully! https://jovian.com/rohangoswami1134/02-binary-search-trees\u001b[0m\n"
     ]
    },
    {
     "data": {
      "text/plain": [
       "'https://jovian.com/rohangoswami1134/02-binary-search-trees'"
      ]
     },
     "execution_count": 98,
     "metadata": {},
     "output_type": "execute_result"
    }
   ],
   "source": [
    "jovian.commit()"
   ]
  },
  {
   "cell_type": "markdown",
   "id": "424a4bb1",
   "metadata": {},
   "source": [
    "# Binary Search Trees(BSTs)"
   ]
  },
  {
   "cell_type": "markdown",
   "id": "7efbb7d1",
   "metadata": {},
   "source": [
    "A Binary Search Tree or BST is a binary tree thay satisfies the follwoing conditions:\n",
    "   1. The left subtree of any node only contains nodes with keys smaller than the node's key\n",
    "   2. The right subtree of any node only contains nodes with keys greater than the node's key"
   ]
  },
  {
   "cell_type": "markdown",
   "id": "1dae94ce",
   "metadata": {},
   "source": [
    "# Function to check if Binary tree is a BST, find max key and min key in binary tree"
   ]
  },
  {
   "cell_type": "code",
   "execution_count": 99,
   "id": "38fd506f",
   "metadata": {},
   "outputs": [],
   "source": [
    "def remove_none(nums):\n",
    "    return [x for x in nums if x is not None]\n",
    "\n",
    "def is_BST(node):\n",
    "    if node is None:\n",
    "        return True, None, None\n",
    "    \n",
    "    is_BST_l, min_l, max_l = is_BST(node.left)\n",
    "    is_BST_r, min_r, max_r = is_BST(node.right)\n",
    "    \n",
    "    is_BST_node = (is_BST_l and is_BST_r and\n",
    "                (max_l is None or node.key > max_l) and\n",
    "                (max_r is None or node.key < max_r))\n",
    "                   \n",
    "    min_key = min(remove_none([min_l, node.key, min_r]))\n",
    "    max_key = max(remove_none([max_l, node.key, max_r]))\n",
    "                   \n",
    "    return is_BST_node, min_key, max_key"
   ]
  },
  {
   "cell_type": "code",
   "execution_count": 100,
   "id": "47a6d452",
   "metadata": {},
   "outputs": [
    {
     "name": "stdout",
     "output_type": "stream",
     "text": [
      "   8\n",
      "  7\n",
      "   6\n",
      " 5\n",
      "   4\n",
      "  3\n",
      "   0\n",
      "2\n",
      "  0\n",
      " 3\n",
      "  1\n"
     ]
    }
   ],
   "source": [
    "tree1 = TreeNode.parse_tuple(((1, 3, None), 2, ((None, 3, 4), 5, (6, 7, 8))))\n",
    "display_keys(tree, ' ')"
   ]
  },
  {
   "cell_type": "code",
   "execution_count": 101,
   "id": "c07f15e2",
   "metadata": {},
   "outputs": [
    {
     "data": {
      "text/plain": [
       "(False, 1, 8)"
      ]
     },
     "execution_count": 101,
     "metadata": {},
     "output_type": "execute_result"
    }
   ],
   "source": [
    "is_BST(tree1)"
   ]
  },
  {
   "cell_type": "code",
   "execution_count": 102,
   "id": "6094d869",
   "metadata": {},
   "outputs": [],
   "source": [
    "tree2 = TreeNode.parse_tuple((('aakash', 'biraj', 'hemant'), 'jadhesh', ('siddhant', 'sonaksh', 'vishal')))"
   ]
  },
  {
   "cell_type": "code",
   "execution_count": 103,
   "id": "71d32088",
   "metadata": {},
   "outputs": [
    {
     "data": {
      "text/plain": [
       "(True, 'aakash', 'vishal')"
      ]
     },
     "execution_count": 103,
     "metadata": {},
     "output_type": "execute_result"
    }
   ],
   "source": [
    "is_BST(tree2)"
   ]
  },
  {
   "cell_type": "code",
   "execution_count": 104,
   "id": "b9331eeb",
   "metadata": {},
   "outputs": [
    {
     "name": "stdout",
     "output_type": "stream",
     "text": [
      "\t\tvishal\n",
      "\tsonaksh\n",
      "\t\tsiddhant\n",
      "jadhesh\n",
      "\t\themant\n",
      "\tbiraj\n",
      "\t\taakash\n"
     ]
    }
   ],
   "source": [
    "tree2.display_keys()"
   ]
  },
  {
   "cell_type": "code",
   "execution_count": 105,
   "id": "9c011c86",
   "metadata": {},
   "outputs": [
    {
     "data": {
      "application/javascript": [
       "window.require && require([\"base/js/namespace\"],function(Jupyter){Jupyter.notebook.save_checkpoint()})"
      ],
      "text/plain": [
       "<IPython.core.display.Javascript object>"
      ]
     },
     "metadata": {},
     "output_type": "display_data"
    },
    {
     "name": "stdout",
     "output_type": "stream",
     "text": [
      "[jovian] Updating notebook \"rohangoswami1134/02-binary-search-trees\" on https://jovian.com/\u001b[0m\n",
      "[jovian] Committed successfully! https://jovian.com/rohangoswami1134/02-binary-search-trees\u001b[0m\n"
     ]
    },
    {
     "data": {
      "text/plain": [
       "'https://jovian.com/rohangoswami1134/02-binary-search-trees'"
      ]
     },
     "execution_count": 105,
     "metadata": {},
     "output_type": "execute_result"
    }
   ],
   "source": [
    "jovian.commit()"
   ]
  },
  {
   "cell_type": "markdown",
   "id": "acab0908",
   "metadata": {},
   "source": [
    "# Storing key-value pairs using BST"
   ]
  },
  {
   "cell_type": "code",
   "execution_count": 107,
   "id": "6ca26026",
   "metadata": {},
   "outputs": [],
   "source": [
    "class BSTNode():\n",
    "    def __init__(self, key, value = None):\n",
    "        self.key = key\n",
    "        self.value = value\n",
    "        self.left = None\n",
    "        self.right = None\n",
    "        self.parent = None"
   ]
  },
  {
   "cell_type": "code",
   "execution_count": 108,
   "id": "2d63bfe9",
   "metadata": {},
   "outputs": [],
   "source": [
    "# level 0\n",
    "treen = BSTNode(rohan.username, rohan)\n",
    "# using username as key"
   ]
  },
  {
   "cell_type": "code",
   "execution_count": 109,
   "id": "7a5d6d91",
   "metadata": {},
   "outputs": [
    {
     "data": {
      "text/plain": [
       "('momo',\n",
       " User(username = 'momo', name = 'Rohan Goswami', email = 'rohan11@gmail.com'))"
      ]
     },
     "execution_count": 109,
     "metadata": {},
     "output_type": "execute_result"
    }
   ],
   "source": [
    "treen.key, treen.value"
   ]
  },
  {
   "cell_type": "code",
   "execution_count": 110,
   "id": "1949b536",
   "metadata": {},
   "outputs": [],
   "source": [
    "# level 1\n",
    "treen.left = BSTNode(mahek.username, mahek)\n",
    "treen.left.parent = treen\n",
    "treen.right = BSTNode(kiran.username, kiran)\n",
    "treen.right.parent = treen"
   ]
  },
  {
   "cell_type": "code",
   "execution_count": 111,
   "id": "373bc722",
   "metadata": {},
   "outputs": [
    {
     "data": {
      "text/plain": [
       "('babboo',\n",
       " User(username = 'babboo', name = 'Mahek Jhangiani', email = 'mahekjhangiani@gmail.com'),\n",
       " 'killuu',\n",
       " User(username = 'killuu', name = 'Kiran Goswami', email = 'kiran15@gmail.com'))"
      ]
     },
     "execution_count": 111,
     "metadata": {},
     "output_type": "execute_result"
    }
   ],
   "source": [
    "treen.left.key, treen.left.value, treen.right.key, treen.right.value"
   ]
  },
  {
   "cell_type": "code",
   "execution_count": 112,
   "id": "321b4c53",
   "metadata": {},
   "outputs": [
    {
     "name": "stdout",
     "output_type": "stream",
     "text": [
      "\tkilluu\n",
      "momo\n",
      "\tbabboo\n"
     ]
    }
   ],
   "source": [
    "display_keys(treen)"
   ]
  },
  {
   "cell_type": "code",
   "execution_count": 114,
   "id": "7cb8bc8b",
   "metadata": {},
   "outputs": [],
   "source": [
    "treenb = BSTNode(kiran.username, kiran)\n",
    "treenb.left = BSTNode(mahek.username, mahek)\n",
    "treenb.left.parent = treenb\n",
    "treenb.right = BSTNode(rohan.username, rohan)\n",
    "treenb.right.parent = treenb"
   ]
  },
  {
   "cell_type": "code",
   "execution_count": 115,
   "id": "57b467ef",
   "metadata": {},
   "outputs": [
    {
     "name": "stdout",
     "output_type": "stream",
     "text": [
      "\tmomo\n",
      "killuu\n",
      "\tbabboo\n"
     ]
    }
   ],
   "source": [
    "display_keys(treenb)"
   ]
  },
  {
   "cell_type": "markdown",
   "id": "91fd6568",
   "metadata": {},
   "source": [
    "# Insertion into BST"
   ]
  },
  {
   "cell_type": "code",
   "execution_count": 116,
   "id": "e66896a8",
   "metadata": {},
   "outputs": [],
   "source": [
    "def insert(node, key, value):\n",
    "    if node is None:\n",
    "        node = BSTNode(key, value)\n",
    "    elif key < node.key:\n",
    "        node.left = insert(node.left, key, value)\n",
    "        node.left.parent = node\n",
    "    elif key > node.key:\n",
    "        node.right = insert(node.right, key, value)\n",
    "        node.right.parent = key\n",
    "    return node"
   ]
  },
  {
   "cell_type": "code",
   "execution_count": 117,
   "id": "ef7dfebb",
   "metadata": {},
   "outputs": [
    {
     "data": {
      "text/plain": [
       "[User(username = 'momo', name = 'Rohan Goswami', email = 'rohan11@gmail.com'),\n",
       " User(username = 'babboo', name = 'Mahek Jhangiani', email = 'mahekjhangiani@gmail.com'),\n",
       " User(username = 'killuu', name = 'Kiran Goswami', email = 'kiran15@gmail.com'),\n",
       " User(username = 'punna', name = 'Poonam Goswami', email = 'poonamgoswami921@gmail.com'),\n",
       " User(username = 'amrut', name = 'Amit Goswami', email = 'amitgoswami'),\n",
       " User(username = 'babu', name = 'Yadav Hritik', email = 'notavailable@gmail.com'),\n",
       " User(username = 'bone', name = 'Rohit Biradar', email = 'rohitbirada@gmail.com')]"
      ]
     },
     "execution_count": 117,
     "metadata": {},
     "output_type": "execute_result"
    }
   ],
   "source": [
    "users"
   ]
  },
  {
   "cell_type": "code",
   "execution_count": 126,
   "id": "1f50b548",
   "metadata": {},
   "outputs": [],
   "source": [
    "treemb = insert(None, rohan.username, rohan)"
   ]
  },
  {
   "cell_type": "code",
   "execution_count": 127,
   "id": "c32577f8",
   "metadata": {},
   "outputs": [
    {
     "data": {
      "text/plain": [
       "('momo',\n",
       " User(username = 'momo', name = 'Rohan Goswami', email = 'rohan11@gmail.com'))"
      ]
     },
     "execution_count": 127,
     "metadata": {},
     "output_type": "execute_result"
    }
   ],
   "source": [
    "treemb.key, treeab.value"
   ]
  },
  {
   "cell_type": "code",
   "execution_count": 128,
   "id": "8361d436",
   "metadata": {},
   "outputs": [
    {
     "data": {
      "text/plain": [
       "<__main__.BSTNode at 0x182606c3910>"
      ]
     },
     "execution_count": 128,
     "metadata": {},
     "output_type": "execute_result"
    }
   ],
   "source": [
    "insert(treemb, mahek.username, mahek)\n",
    "insert(treemb, kiran.username, kiran)\n",
    "insert(treemb, poonam.username, poonam)\n",
    "insert(treemb, amit.username, amit)\n",
    "insert(treemb, rohit.username, rohit)\n",
    "insert(treemb, hritik.username, hritik)"
   ]
  },
  {
   "cell_type": "code",
   "execution_count": 129,
   "id": "434cbce0",
   "metadata": {},
   "outputs": [
    {
     "name": "stdout",
     "output_type": "stream",
     "text": [
      "\tpunna\n",
      "momo\n",
      "\t\t\t0\n",
      "\t\tkilluu\n",
      "\t\t\t\t0\n",
      "\t\t\tbone\n",
      "\t\t\t\tbabu\n",
      "\tbabboo\n",
      "\t\tamrut\n"
     ]
    }
   ],
   "source": [
    "display_keys(treemb)"
   ]
  },
  {
   "cell_type": "code",
   "execution_count": 130,
   "id": "6622b0c6",
   "metadata": {},
   "outputs": [
    {
     "data": {
      "text/plain": [
       "<__main__.BSTNode at 0x1826073be10>"
      ]
     },
     "execution_count": 130,
     "metadata": {},
     "output_type": "execute_result"
    }
   ],
   "source": [
    "treelg = insert(None, amit.username, amit)\n",
    "insert(treelg, mahek.username, mahek)\n",
    "insert(treelg, hritik.username, hritik)\n",
    "insert(treelg, rohit.username, rohit)\n",
    "insert(treelg, kiran.username, kiran)\n",
    "insert(treelg, rohan.username, rohan)\n",
    "insert(treelg, poonam.username, poonam)"
   ]
  },
  {
   "cell_type": "code",
   "execution_count": 131,
   "id": "af148714",
   "metadata": {},
   "outputs": [
    {
     "name": "stdout",
     "output_type": "stream",
     "text": [
      "\t\t\t\t\t\tpunna\n",
      "\t\t\t\t\tmomo\n",
      "\t\t\t\t\t\t0\n",
      "\t\t\t\tkilluu\n",
      "\t\t\t\t\t0\n",
      "\t\t\tbone\n",
      "\t\t\t\t0\n",
      "\t\tbabu\n",
      "\t\t\t0\n",
      "\tbabboo\n",
      "\t\t0\n",
      "amrut\n",
      "\t0\n"
     ]
    }
   ],
   "source": [
    "display_keys(treelg)"
   ]
  },
  {
   "cell_type": "markdown",
   "id": "f93cd6f1",
   "metadata": {},
   "source": [
    "# Finding a node in BST"
   ]
  },
  {
   "cell_type": "code",
   "execution_count": 132,
   "id": "47f4533c",
   "metadata": {},
   "outputs": [],
   "source": [
    "def find(node, key):\n",
    "    if node is None:\n",
    "        return None\n",
    "    if key == node.key:\n",
    "        return node\n",
    "    if key < node.key:\n",
    "        return find(node.left, key)\n",
    "    if key > node.key:\n",
    "        return find(node.right, key)"
   ]
  },
  {
   "cell_type": "code",
   "execution_count": 135,
   "id": "4ffec03f",
   "metadata": {},
   "outputs": [
    {
     "name": "stdout",
     "output_type": "stream",
     "text": [
      "<__main__.BSTNode object at 0x00000182606C3910>\n"
     ]
    }
   ],
   "source": [
    "node = find(treemb, 'momo')\n",
    "print(node)"
   ]
  },
  {
   "cell_type": "code",
   "execution_count": 136,
   "id": "39139b55",
   "metadata": {},
   "outputs": [
    {
     "data": {
      "text/plain": [
       "('momo',\n",
       " User(username = 'momo', name = 'Rohan Goswami', email = 'rohan11@gmail.com'))"
      ]
     },
     "execution_count": 136,
     "metadata": {},
     "output_type": "execute_result"
    }
   ],
   "source": [
    "node.key, node.value"
   ]
  },
  {
   "cell_type": "markdown",
   "id": "80d3053b",
   "metadata": {},
   "source": [
    "# Updating value in BST"
   ]
  },
  {
   "cell_type": "code",
   "execution_count": 137,
   "id": "9bba66c5",
   "metadata": {},
   "outputs": [],
   "source": [
    "def update(node, key, value):\n",
    "    target = find(node, key)\n",
    "    if target is not None:\n",
    "        target.value = value"
   ]
  },
  {
   "cell_type": "code",
   "execution_count": 138,
   "id": "c1933359",
   "metadata": {},
   "outputs": [],
   "source": [
    "update(treemb, 'momo', User('momo', 'rohan', 'rohan1134@gmail.com'))"
   ]
  },
  {
   "cell_type": "code",
   "execution_count": 139,
   "id": "2aa547e1",
   "metadata": {},
   "outputs": [],
   "source": [
    "node = find(treemb, 'momo')"
   ]
  },
  {
   "cell_type": "code",
   "execution_count": 140,
   "id": "1123b19a",
   "metadata": {},
   "outputs": [
    {
     "data": {
      "text/plain": [
       "('momo',\n",
       " User(username = 'momo', name = 'rohan', email = 'rohan1134@gmail.com'))"
      ]
     },
     "execution_count": 140,
     "metadata": {},
     "output_type": "execute_result"
    }
   ],
   "source": [
    "node.key, node.value"
   ]
  },
  {
   "cell_type": "markdown",
   "id": "00deedf3",
   "metadata": {},
   "source": [
    "# List all nodes"
   ]
  },
  {
   "cell_type": "code",
   "execution_count": 141,
   "id": "beae98c7",
   "metadata": {},
   "outputs": [],
   "source": [
    "def list_all(node):\n",
    "    if node is None:\n",
    "        return []\n",
    "    return list_all(node.left) + [(node.key, node.value)] + list_all(node.right)"
   ]
  },
  {
   "cell_type": "code",
   "execution_count": 143,
   "id": "73fbaea5",
   "metadata": {},
   "outputs": [
    {
     "data": {
      "text/plain": [
       "[('amrut',\n",
       "  User(username = 'amrut', name = 'Amit Goswami', email = 'amitgoswami')),\n",
       " ('babboo',\n",
       "  User(username = 'babboo', name = 'Mahek Jhangiani', email = 'mahekjhangiani@gmail.com')),\n",
       " ('babu',\n",
       "  User(username = 'babu', name = 'Yadav Hritik', email = 'notavailable@gmail.com')),\n",
       " ('bone',\n",
       "  User(username = 'bone', name = 'Rohit Biradar', email = 'rohitbirada@gmail.com')),\n",
       " ('killuu',\n",
       "  User(username = 'killuu', name = 'Kiran Goswami', email = 'kiran15@gmail.com')),\n",
       " ('momo',\n",
       "  User(username = 'momo', name = 'rohan', email = 'rohan1134@gmail.com')),\n",
       " ('punna',\n",
       "  User(username = 'punna', name = 'Poonam Goswami', email = 'poonamgoswami921@gmail.com'))]"
      ]
     },
     "execution_count": 143,
     "metadata": {},
     "output_type": "execute_result"
    }
   ],
   "source": [
    "list_all(treemb)"
   ]
  },
  {
   "cell_type": "code",
   "execution_count": 144,
   "id": "628fa372",
   "metadata": {},
   "outputs": [],
   "source": [
    "import jovian"
   ]
  },
  {
   "cell_type": "code",
   "execution_count": 145,
   "id": "1c6ad4db",
   "metadata": {},
   "outputs": [
    {
     "data": {
      "application/javascript": [
       "window.require && require([\"base/js/namespace\"],function(Jupyter){Jupyter.notebook.save_checkpoint()})"
      ],
      "text/plain": [
       "<IPython.core.display.Javascript object>"
      ]
     },
     "metadata": {},
     "output_type": "display_data"
    },
    {
     "name": "stdout",
     "output_type": "stream",
     "text": [
      "[jovian] Updating notebook \"rohangoswami1134/02-binary-search-trees\" on https://jovian.com/\u001b[0m\n",
      "[jovian] Committed successfully! https://jovian.com/rohangoswami1134/02-binary-search-trees\u001b[0m\n"
     ]
    },
    {
     "data": {
      "text/plain": [
       "'https://jovian.com/rohangoswami1134/02-binary-search-trees'"
      ]
     },
     "execution_count": 145,
     "metadata": {},
     "output_type": "execute_result"
    }
   ],
   "source": [
    "jovian.commit()"
   ]
  },
  {
   "cell_type": "markdown",
   "id": "7df0d63f",
   "metadata": {},
   "source": [
    "# Balanced Binary tree"
   ]
  },
  {
   "cell_type": "code",
   "execution_count": 150,
   "id": "e8c8f9ca",
   "metadata": {},
   "outputs": [],
   "source": [
    "def is_balanced(node):\n",
    "    if node is None:\n",
    "        return True, 0\n",
    "    balanced_l, height_l = is_balanced(node.left)\n",
    "    balanced_r, height_r = is_balanced(node.right)\n",
    "    balanecd = balanced_l and balanced_r and abs(height_l - height_r) <= 1\n",
    "    height = 1 + max(height_l, height_r)\n",
    "    return balanecd, height"
   ]
  },
  {
   "cell_type": "code",
   "execution_count": 151,
   "id": "b24c0074",
   "metadata": {},
   "outputs": [
    {
     "data": {
      "text/plain": [
       "(True, 4)"
      ]
     },
     "execution_count": 151,
     "metadata": {},
     "output_type": "execute_result"
    }
   ],
   "source": [
    "is_balanced(tree)"
   ]
  },
  {
   "cell_type": "code",
   "execution_count": 152,
   "id": "84579484",
   "metadata": {},
   "outputs": [
    {
     "data": {
      "text/plain": [
       "(False, 5)"
      ]
     },
     "execution_count": 152,
     "metadata": {},
     "output_type": "execute_result"
    }
   ],
   "source": [
    "is_balanced(treemb)"
   ]
  },
  {
   "cell_type": "code",
   "execution_count": 153,
   "id": "39496398",
   "metadata": {},
   "outputs": [
    {
     "data": {
      "text/plain": [
       "(True, 2)"
      ]
     },
     "execution_count": 153,
     "metadata": {},
     "output_type": "execute_result"
    }
   ],
   "source": [
    "is_balanced(treen)"
   ]
  },
  {
   "cell_type": "code",
   "execution_count": 154,
   "id": "0e3da89d",
   "metadata": {},
   "outputs": [
    {
     "data": {
      "text/plain": [
       "(False, 7)"
      ]
     },
     "execution_count": 154,
     "metadata": {},
     "output_type": "execute_result"
    }
   ],
   "source": [
    "is_balanced(treelg)"
   ]
  },
  {
   "cell_type": "markdown",
   "id": "6ef80e08",
   "metadata": {},
   "source": [
    "# Balanced Binary Search Tree from sorted list of key-value pairs"
   ]
  },
  {
   "cell_type": "code",
   "execution_count": 146,
   "id": "334ee8a6",
   "metadata": {},
   "outputs": [],
   "source": [
    "def make_balanced_bst(data, lo = 0, hi = None, parent = None):\n",
    "    if hi is None:\n",
    "        hi = len(data) - 1\n",
    "    if lo > hi:\n",
    "        return None\n",
    "    \n",
    "    mid = (lo + hi) // 2\n",
    "    key, value = data[mid]\n",
    "    \n",
    "    root = BSTNode(key, value)\n",
    "    root.parent = parent\n",
    "    root.left = make_balanced_bst(data, lo, mid - 1, root)\n",
    "    root.right = make_balanced_bst(data, mid + 1, hi, root)\n",
    "    \n",
    "    return root"
   ]
  },
  {
   "cell_type": "code",
   "execution_count": 147,
   "id": "89869ef3",
   "metadata": {},
   "outputs": [
    {
     "data": {
      "text/plain": [
       "[('momo',\n",
       "  User(username = 'momo', name = 'Rohan Goswami', email = 'rohan11@gmail.com')),\n",
       " ('babboo',\n",
       "  User(username = 'babboo', name = 'Mahek Jhangiani', email = 'mahekjhangiani@gmail.com')),\n",
       " ('killuu',\n",
       "  User(username = 'killuu', name = 'Kiran Goswami', email = 'kiran15@gmail.com')),\n",
       " ('punna',\n",
       "  User(username = 'punna', name = 'Poonam Goswami', email = 'poonamgoswami921@gmail.com')),\n",
       " ('amrut',\n",
       "  User(username = 'amrut', name = 'Amit Goswami', email = 'amitgoswami')),\n",
       " ('babu',\n",
       "  User(username = 'babu', name = 'Yadav Hritik', email = 'notavailable@gmail.com')),\n",
       " ('bone',\n",
       "  User(username = 'bone', name = 'Rohit Biradar', email = 'rohitbirada@gmail.com'))]"
      ]
     },
     "execution_count": 147,
     "metadata": {},
     "output_type": "execute_result"
    }
   ],
   "source": [
    "data = [(user.username, user) for user in users]\n",
    "data"
   ]
  },
  {
   "cell_type": "code",
   "execution_count": 149,
   "id": "66c81ac5",
   "metadata": {},
   "outputs": [
    {
     "name": "stdout",
     "output_type": "stream",
     "text": [
      "\tpunna\n",
      "momo\n",
      "\t\t\t0\n",
      "\t\tkilluu\n",
      "\t\t\t\t0\n",
      "\t\t\tbone\n",
      "\t\t\t\tbabu\n",
      "\tbabboo\n",
      "\t\tamrut\n"
     ]
    }
   ],
   "source": [
    "treem = make_balanced_bst(data)\n",
    "display_keys(treel)"
   ]
  },
  {
   "cell_type": "code",
   "execution_count": 161,
   "id": "a999f71d",
   "metadata": {},
   "outputs": [
    {
     "name": "stdout",
     "output_type": "stream",
     "text": [
      "\t\tbone\n",
      "\tbabu\n",
      "\t\tamrut\n",
      "punna\n",
      "\t\tkilluu\n",
      "\tbabboo\n",
      "\t\tmomo\n"
     ]
    }
   ],
   "source": [
    "display_keys(treem)"
   ]
  },
  {
   "cell_type": "code",
   "execution_count": 162,
   "id": "ab81e255",
   "metadata": {},
   "outputs": [
    {
     "name": "stdout",
     "output_type": "stream",
     "text": [
      "\tpunna\n",
      "momo\n",
      "\t\t\t0\n",
      "\t\tkilluu\n",
      "\t\t\t\t0\n",
      "\t\t\tbone\n",
      "\t\t\t\tbabu\n",
      "\tbabboo\n",
      "\t\tamrut\n"
     ]
    }
   ],
   "source": [
    "display_keys(treemb)"
   ]
  },
  {
   "cell_type": "code",
   "execution_count": 163,
   "id": "5d6445f2",
   "metadata": {},
   "outputs": [
    {
     "data": {
      "text/plain": [
       "(True, 3)"
      ]
     },
     "execution_count": 163,
     "metadata": {},
     "output_type": "execute_result"
    }
   ],
   "source": [
    "is_balanced(treem)"
   ]
  },
  {
   "cell_type": "code",
   "execution_count": 164,
   "id": "c23c33b1",
   "metadata": {},
   "outputs": [
    {
     "data": {
      "text/plain": [
       "(False, 5)"
      ]
     },
     "execution_count": 164,
     "metadata": {},
     "output_type": "execute_result"
    }
   ],
   "source": [
    "is_balanced(treemb)"
   ]
  },
  {
   "cell_type": "markdown",
   "id": "98705d36",
   "metadata": {},
   "source": [
    "# Balancing an Unbalanced BST"
   ]
  },
  {
   "cell_type": "code",
   "execution_count": 155,
   "id": "79ae9867",
   "metadata": {},
   "outputs": [],
   "source": [
    "def balance_bst(node):\n",
    "    return make_balanced_bst(list_all(node))"
   ]
  },
  {
   "cell_type": "code",
   "execution_count": 156,
   "id": "861da7e2",
   "metadata": {},
   "outputs": [],
   "source": [
    "treeu = None\n",
    "\n",
    "for user in users:\n",
    "    treeu = insert(treeu, user.username, user)"
   ]
  },
  {
   "cell_type": "code",
   "execution_count": 157,
   "id": "6a12b774",
   "metadata": {},
   "outputs": [
    {
     "name": "stdout",
     "output_type": "stream",
     "text": [
      "\tpunna\n",
      "momo\n",
      "\t\t\t0\n",
      "\t\tkilluu\n",
      "\t\t\t\tbone\n",
      "\t\t\tbabu\n",
      "\t\t\t\t0\n",
      "\tbabboo\n",
      "\t\tamrut\n"
     ]
    }
   ],
   "source": [
    "display_keys(treeu)"
   ]
  },
  {
   "cell_type": "code",
   "execution_count": 158,
   "id": "fe5d6814",
   "metadata": {},
   "outputs": [],
   "source": [
    "treeb = balance_bst(treeu)"
   ]
  },
  {
   "cell_type": "code",
   "execution_count": 159,
   "id": "6cf6678a",
   "metadata": {},
   "outputs": [
    {
     "name": "stdout",
     "output_type": "stream",
     "text": [
      "\t\tpunna\n",
      "\tmomo\n",
      "\t\tkilluu\n",
      "bone\n",
      "\t\tbabu\n",
      "\tbabboo\n",
      "\t\tamrut\n"
     ]
    }
   ],
   "source": [
    "display_keys(treeb)"
   ]
  },
  {
   "cell_type": "code",
   "execution_count": 160,
   "id": "264ad66c",
   "metadata": {},
   "outputs": [
    {
     "name": "stdout",
     "output_type": "stream",
     "text": [
      "\t\tbone\n",
      "\tbabu\n",
      "\t\tamrut\n",
      "punna\n",
      "\t\tkilluu\n",
      "\tbabboo\n",
      "\t\tmomo\n"
     ]
    }
   ],
   "source": [
    "display_keys(treem)"
   ]
  },
  {
   "cell_type": "code",
   "execution_count": 165,
   "id": "eca47a52",
   "metadata": {},
   "outputs": [
    {
     "name": "stdout",
     "output_type": "stream",
     "text": [
      "\tpunna\n",
      "momo\n",
      "\t\t\t0\n",
      "\t\tkilluu\n",
      "\t\t\t\t0\n",
      "\t\t\tbone\n",
      "\t\t\t\tbabu\n",
      "\tbabboo\n",
      "\t\tamrut\n"
     ]
    }
   ],
   "source": [
    "display_keys(treemb)"
   ]
  },
  {
   "cell_type": "code",
   "execution_count": 166,
   "id": "e0e17c77",
   "metadata": {},
   "outputs": [],
   "source": [
    "treebmb = balance_bst(treemb)"
   ]
  },
  {
   "cell_type": "code",
   "execution_count": 167,
   "id": "12667541",
   "metadata": {},
   "outputs": [
    {
     "name": "stdout",
     "output_type": "stream",
     "text": [
      "\t\tpunna\n",
      "\tmomo\n",
      "\t\tkilluu\n",
      "bone\n",
      "\t\tbabu\n",
      "\tbabboo\n",
      "\t\tamrut\n"
     ]
    }
   ],
   "source": [
    "display_keys(treebmb)"
   ]
  },
  {
   "cell_type": "markdown",
   "id": "7b06f03b",
   "metadata": {},
   "source": [
    "# Comparision of O(log N) and O(N)"
   ]
  },
  {
   "cell_type": "code",
   "execution_count": 168,
   "id": "0b275c04",
   "metadata": {},
   "outputs": [],
   "source": [
    "import math"
   ]
  },
  {
   "cell_type": "code",
   "execution_count": 169,
   "id": "3f2a6ff9",
   "metadata": {},
   "outputs": [
    {
     "data": {
      "text/plain": [
       "23.25349666421154"
      ]
     },
     "execution_count": 169,
     "metadata": {},
     "output_type": "execute_result"
    }
   ],
   "source": [
    "math.log(10000000, 2)"
   ]
  },
  {
   "cell_type": "code",
   "execution_count": 170,
   "id": "244da5f1",
   "metadata": {},
   "outputs": [
    {
     "name": "stdout",
     "output_type": "stream",
     "text": [
      "CPU times: total: 0 ns\n",
      "Wall time: 0 ns\n"
     ]
    }
   ],
   "source": [
    "%%time\n",
    "for i in range(26):\n",
    "    j = i + i"
   ]
  },
  {
   "cell_type": "code",
   "execution_count": 171,
   "id": "6f488ba0",
   "metadata": {},
   "outputs": [
    {
     "name": "stdout",
     "output_type": "stream",
     "text": [
      "CPU times: total: 906 ms\n",
      "Wall time: 906 ms\n"
     ]
    }
   ],
   "source": [
    "%%time\n",
    "for i in range(10000000):\n",
    "    j = i + i"
   ]
  },
  {
   "cell_type": "markdown",
   "id": "f8639f56",
   "metadata": {},
   "source": [
    "# A Python friendly Treemap"
   ]
  },
  {
   "cell_type": "markdown",
   "id": "4a50ea44",
   "metadata": {},
   "source": [
    "    Task of developing a fast in-memory data structure to manage profile information(username, name, email) for 100 million users. It should perform:\n",
    "    1. Insert profile info of new user\n",
    "    2. Find the profile information given username\n",
    "    3. Upade the profile info, given username\n",
    "    4. List all keys of all the users"
   ]
  },
  {
   "cell_type": "code",
   "execution_count": 189,
   "id": "bb7fe812",
   "metadata": {},
   "outputs": [],
   "source": [
    "class TreeMap():\n",
    "    def __init__(self):\n",
    "        self.root = None\n",
    "    \n",
    "    def __setitem__(self, key, value):\n",
    "        node = find(self.root, key)\n",
    "        if not node:\n",
    "            self.root = insert(self.root, key, value)\n",
    "            self.root = balance_bst(self.root)\n",
    "        else:\n",
    "            update(self.root, key, value)\n",
    "            \n",
    "    def __getitem__(self, key):\n",
    "        node = find(self.root, key)\n",
    "        return node.value if node else None\n",
    "    \n",
    "    def __iter__(self):\n",
    "        return(x for x in list_all(self.root))\n",
    "    \n",
    "    def __len__(self):\n",
    "        return tree_size(self.root)\n",
    "    \n",
    "    def display(self):\n",
    "        return display_keys(self.root)"
   ]
  },
  {
   "cell_type": "code",
   "execution_count": 190,
   "id": "d7e93fa8",
   "metadata": {},
   "outputs": [
    {
     "data": {
      "text/plain": [
       "[User(username = 'momo', name = 'Rohan Goswami', email = 'rohan11@gmail.com'),\n",
       " User(username = 'babboo', name = 'Mahek Jhangiani', email = 'mahekjhangiani@gmail.com'),\n",
       " User(username = 'killuu', name = 'Kiran Goswami', email = 'kiran15@gmail.com'),\n",
       " User(username = 'punna', name = 'Poonam Goswami', email = 'poonamgoswami921@gmail.com'),\n",
       " User(username = 'amrut', name = 'Amit Goswami', email = 'amitgoswami'),\n",
       " User(username = 'babu', name = 'Yadav Hritik', email = 'notavailable@gmail.com'),\n",
       " User(username = 'bone', name = 'Rohit Biradar', email = 'rohitbirada@gmail.com')]"
      ]
     },
     "execution_count": 190,
     "metadata": {},
     "output_type": "execute_result"
    }
   ],
   "source": [
    "users"
   ]
  },
  {
   "cell_type": "code",
   "execution_count": 191,
   "id": "e2136195",
   "metadata": {},
   "outputs": [],
   "source": [
    "Tree_map = TreeMap()"
   ]
  },
  {
   "cell_type": "code",
   "execution_count": 192,
   "id": "cdd72026",
   "metadata": {},
   "outputs": [
    {
     "name": "stdout",
     "output_type": "stream",
     "text": [
      "0\n"
     ]
    }
   ],
   "source": [
    "Tree_map.display()"
   ]
  },
  {
   "cell_type": "code",
   "execution_count": 193,
   "id": "abf63313",
   "metadata": {},
   "outputs": [],
   "source": [
    "Tree_map['rohan'] = rohan\n",
    "Tree_map['kiran'] = kiran\n",
    "Tree_map['mahek'] = mahek"
   ]
  },
  {
   "cell_type": "code",
   "execution_count": 194,
   "id": "28b34814",
   "metadata": {},
   "outputs": [
    {
     "data": {
      "text/plain": [
       "<__main__.BSTNode at 0x1826090d7d0>"
      ]
     },
     "execution_count": 194,
     "metadata": {},
     "output_type": "execute_result"
    }
   ],
   "source": [
    "Tree_map.root"
   ]
  },
  {
   "cell_type": "code",
   "execution_count": 195,
   "id": "eb63a20d",
   "metadata": {},
   "outputs": [
    {
     "name": "stdout",
     "output_type": "stream",
     "text": [
      "\trohan\n",
      "mahek\n",
      "\tkiran\n"
     ]
    }
   ],
   "source": [
    "Tree_map.display()"
   ]
  },
  {
   "cell_type": "code",
   "execution_count": 196,
   "id": "a768c226",
   "metadata": {},
   "outputs": [
    {
     "data": {
      "text/plain": [
       "User(username = 'babboo', name = 'Mahek Jhangiani', email = 'mahekjhangiani@gmail.com')"
      ]
     },
     "execution_count": 196,
     "metadata": {},
     "output_type": "execute_result"
    }
   ],
   "source": [
    "Tree_map['mahek']"
   ]
  },
  {
   "cell_type": "code",
   "execution_count": 197,
   "id": "464056da",
   "metadata": {},
   "outputs": [
    {
     "data": {
      "text/plain": [
       "[User(username = 'momo', name = 'Rohan Goswami', email = 'rohan11@gmail.com'),\n",
       " User(username = 'babboo', name = 'Mahek Jhangiani', email = 'mahekjhangiani@gmail.com'),\n",
       " User(username = 'killuu', name = 'Kiran Goswami', email = 'kiran15@gmail.com'),\n",
       " User(username = 'punna', name = 'Poonam Goswami', email = 'poonamgoswami921@gmail.com'),\n",
       " User(username = 'amrut', name = 'Amit Goswami', email = 'amitgoswami'),\n",
       " User(username = 'babu', name = 'Yadav Hritik', email = 'notavailable@gmail.com'),\n",
       " User(username = 'bone', name = 'Rohit Biradar', email = 'rohitbirada@gmail.com')]"
      ]
     },
     "execution_count": 197,
     "metadata": {},
     "output_type": "execute_result"
    }
   ],
   "source": [
    "users"
   ]
  },
  {
   "cell_type": "code",
   "execution_count": 198,
   "id": "639182de",
   "metadata": {},
   "outputs": [],
   "source": [
    "Tree_map['poonam'] = poonam\n",
    "Tree_map['amit'] = amit\n",
    "Tree_map['rohit'] = rohit"
   ]
  },
  {
   "cell_type": "code",
   "execution_count": 199,
   "id": "2070239d",
   "metadata": {},
   "outputs": [
    {
     "name": "stdout",
     "output_type": "stream",
     "text": [
      "\t\trohit\n",
      "\trohan\n",
      "\t\tpoonam\n",
      "mahek\n",
      "\t\tkiran\n",
      "\tamit\n",
      "\t\t0\n"
     ]
    }
   ],
   "source": [
    "Tree_map.display()"
   ]
  },
  {
   "cell_type": "code",
   "execution_count": 200,
   "id": "d57d41fe",
   "metadata": {},
   "outputs": [],
   "source": [
    "Tree_map['yadav'] = hritik"
   ]
  },
  {
   "cell_type": "code",
   "execution_count": 201,
   "id": "1603dc19",
   "metadata": {},
   "outputs": [
    {
     "name": "stdout",
     "output_type": "stream",
     "text": [
      "\t\tyadav\n",
      "\trohit\n",
      "\t\trohan\n",
      "poonam\n",
      "\t\tmahek\n",
      "\tkiran\n",
      "\t\tamit\n"
     ]
    }
   ],
   "source": [
    "Tree_map.display()"
   ]
  },
  {
   "cell_type": "code",
   "execution_count": 202,
   "id": "fe05786b",
   "metadata": {},
   "outputs": [
    {
     "name": "stdout",
     "output_type": "stream",
     "text": [
      "amit User(username = 'amrut', name = 'Amit Goswami', email = 'amitgoswami')\n",
      "kiran User(username = 'killuu', name = 'Kiran Goswami', email = 'kiran15@gmail.com')\n",
      "mahek User(username = 'babboo', name = 'Mahek Jhangiani', email = 'mahekjhangiani@gmail.com')\n",
      "poonam User(username = 'punna', name = 'Poonam Goswami', email = 'poonamgoswami921@gmail.com')\n",
      "rohan User(username = 'momo', name = 'Rohan Goswami', email = 'rohan11@gmail.com')\n",
      "rohit User(username = 'bone', name = 'Rohit Biradar', email = 'rohitbirada@gmail.com')\n",
      "yadav User(username = 'babu', name = 'Yadav Hritik', email = 'notavailable@gmail.com')\n"
     ]
    }
   ],
   "source": [
    "for key, value in Tree_map:\n",
    "    print(key, value)"
   ]
  },
  {
   "cell_type": "code",
   "execution_count": 203,
   "id": "b01977c7",
   "metadata": {},
   "outputs": [
    {
     "data": {
      "text/plain": [
       "[('amit',\n",
       "  User(username = 'amrut', name = 'Amit Goswami', email = 'amitgoswami')),\n",
       " ('kiran',\n",
       "  User(username = 'killuu', name = 'Kiran Goswami', email = 'kiran15@gmail.com')),\n",
       " ('mahek',\n",
       "  User(username = 'babboo', name = 'Mahek Jhangiani', email = 'mahekjhangiani@gmail.com')),\n",
       " ('poonam',\n",
       "  User(username = 'punna', name = 'Poonam Goswami', email = 'poonamgoswami921@gmail.com')),\n",
       " ('rohan',\n",
       "  User(username = 'momo', name = 'Rohan Goswami', email = 'rohan11@gmail.com')),\n",
       " ('rohit',\n",
       "  User(username = 'bone', name = 'Rohit Biradar', email = 'rohitbirada@gmail.com')),\n",
       " ('yadav',\n",
       "  User(username = 'babu', name = 'Yadav Hritik', email = 'notavailable@gmail.com'))]"
      ]
     },
     "execution_count": 203,
     "metadata": {},
     "output_type": "execute_result"
    }
   ],
   "source": [
    "list(Tree_map)"
   ]
  },
  {
   "cell_type": "code",
   "execution_count": 206,
   "id": "2b1a64e3",
   "metadata": {},
   "outputs": [
    {
     "data": {
      "text/plain": [
       "7"
      ]
     },
     "execution_count": 206,
     "metadata": {},
     "output_type": "execute_result"
    }
   ],
   "source": [
    "len(Tree_map)"
   ]
  },
  {
   "cell_type": "code",
   "execution_count": 207,
   "id": "d3435cbe",
   "metadata": {},
   "outputs": [
    {
     "data": {
      "text/plain": [
       "<generator object TreeMap.__iter__.<locals>.<genexpr> at 0x000001826084EA80>"
      ]
     },
     "execution_count": 207,
     "metadata": {},
     "output_type": "execute_result"
    }
   ],
   "source": [
    "iter(Tree_map)"
   ]
  },
  {
   "cell_type": "code",
   "execution_count": 208,
   "id": "d122287a",
   "metadata": {},
   "outputs": [
    {
     "name": "stdout",
     "output_type": "stream",
     "text": [
      "\t\tyadav\n",
      "\trohit\n",
      "\t\trohan\n",
      "poonam\n",
      "\t\tmahek\n",
      "\tkiran\n",
      "\t\tamit\n"
     ]
    }
   ],
   "source": [
    "Tree_map.display()"
   ]
  },
  {
   "cell_type": "code",
   "execution_count": null,
   "id": "781c46b8",
   "metadata": {},
   "outputs": [],
   "source": []
  }
 ],
 "metadata": {
  "kernelspec": {
   "display_name": "Python 3 (ipykernel)",
   "language": "python",
   "name": "python3"
  },
  "language_info": {
   "codemirror_mode": {
    "name": "ipython",
    "version": 3
   },
   "file_extension": ".py",
   "mimetype": "text/x-python",
   "name": "python",
   "nbconvert_exporter": "python",
   "pygments_lexer": "ipython3",
   "version": "3.11.5"
  }
 },
 "nbformat": 4,
 "nbformat_minor": 5
}
