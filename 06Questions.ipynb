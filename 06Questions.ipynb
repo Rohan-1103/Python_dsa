{
  "cells": [
    {
      "cell_type": "markdown",
      "metadata": {
        "id": "view-in-github",
        "colab_type": "text"
      },
      "source": [
        "<a href=\"https://colab.research.google.com/github/Rohan-1103/Python_dsa/blob/master/06Questions.ipynb\" target=\"_parent\"><img src=\"https://colab.research.google.com/assets/colab-badge.svg\" alt=\"Open In Colab\"/></a>"
      ]
    },
    {
      "cell_type": "markdown",
      "id": "comfortable-review",
      "metadata": {
        "id": "comfortable-review"
      },
      "source": [
        "# Subarray with Given Sum\n",
        "\n",
        "The following question was asked during a coding interview for Amazon:\n",
        "\n",
        "> You are given an array of numbers (non-negative). Find a continuous subarray of the list which adds up to a given sum.\n",
        "\n",
        "\n",
        "![](https://i.imgur.com/tLEBF7x.png)"
      ]
    },
    {
      "cell_type": "code",
      "execution_count": 6,
      "id": "patient-adelaide",
      "metadata": {
        "id": "patient-adelaide",
        "colab": {
          "base_uri": "https://localhost:8080/"
        },
        "outputId": "491b0d3f-9e73-4318-be23-b3fb139baa76"
      },
      "outputs": [
        {
          "output_type": "execute_result",
          "data": {
            "text/plain": [
              "[{'input': {'arr': [1, 7, 4, 2, 1, 3, 11, 5], 'target': 10}, 'output': (2, 6)},\n",
              " {'input': {'arr': [1, 7, 4, 2, 1, 3, 11, 5], 'target': 14}, 'output': (1, 5)},\n",
              " {'input': {'arr': [2, 4, 3, 1, 7, 8, 12], 'target': 28}, 'output': (3, 7)},\n",
              " {'input': {'arr': [1, 7, 4, 2, 1, 3, 11, 5], 'target': 12}, 'output': (0, 3)},\n",
              " {'input': {'arr': [8, 2, 9, 3, 1, 4, 3], 'target': 31},\n",
              "  'output': (None, None)},\n",
              " {'input': {'arr': [8, 4, 0, 0, 2, 8, 6], 'target': 6}, 'output': (1, 5)},\n",
              " {'input': {'arr': [8, 4, 0, 0, 2, 8, 6], 'target': 8}, 'output': (0, 1)},\n",
              " {'input': {'arr': [2], 'target': 2}, 'output': (0, 1)}]"
            ]
          },
          "metadata": {},
          "execution_count": 6
        }
      ],
      "source": [
        "# Solve the problem here\n",
        "arr0 = [1, 7, 4, 2, 1, 3, 11, 5]\n",
        "target0 = 10\n",
        "output0 = 2, 6\n",
        "\n",
        "# function defination: include structure of function\n",
        "def subarray_sum(arr, target):\n",
        "  pass\n",
        "\n",
        "# test cases\n",
        "tests = []\n",
        "\n",
        "tests.append({\n",
        "    'input': {\n",
        "        'arr': [1, 7, 4, 2, 1, 3, 11, 5],\n",
        "        'target': 10\n",
        "    },\n",
        "    'output': (2, 6)\n",
        "})\n",
        "\n",
        "# 1. Generic array with the subarray in the middle\n",
        "tests.append({\n",
        "    'input': {\n",
        "        'arr': [1, 7, 4, 2, 1, 3, 11, 5],\n",
        "        'target': 14\n",
        "    },\n",
        "    'output': (1, 5)\n",
        "})\n",
        "\n",
        "# 2. Subarray could be at the end\n",
        "tests.append({\n",
        "    'input': {\n",
        "        'arr': [2, 4, 3, 1, 7, 8, 12],\n",
        "        'target': 28\n",
        "    },\n",
        "    'output': (3, 7)\n",
        "})\n",
        "\n",
        "# 3. Subarray could be at the beginning\n",
        "tests.append({\n",
        "    'input': {\n",
        "        'arr': [1, 7, 4, 2, 1, 3, 11, 5],\n",
        "        'target': 12\n",
        "    },\n",
        "    'output': (0, 3)\n",
        "})\n",
        "\n",
        "# 4. There is no subarray that ends up to target\n",
        "tests.append({\n",
        "    'input': {\n",
        "        'arr': [8, 2, 9, 3, 1, 4, 3],\n",
        "        'target': 31\n",
        "    },\n",
        "    'output': (None, None)\n",
        "})\n",
        "\n",
        "# 5. You have a few zeros in the list(array)\n",
        "tests.append({\n",
        "    'input': {\n",
        "        'arr': [8, 4, 0, 0, 2, 8, 6],\n",
        "        'target': 6\n",
        "    },\n",
        "    'output': (1, 5)\n",
        "})\n",
        "\n",
        "# 6. There are multiple subarrays with the target sum\n",
        "tests.append({\n",
        "    'input': {\n",
        "        'arr': [8, 4, 0, 0, 2, 8, 6],\n",
        "        'target': 8\n",
        "    },\n",
        "    'output': (0, 1)\n",
        "})\n",
        "\n",
        "# 7. The subarray is a single element\n",
        "tests.append({\n",
        "    'input': {\n",
        "        'arr': [2],\n",
        "        'target': 2\n",
        "    },\n",
        "    'output':(0, 1)\n",
        "})\n",
        "\n",
        "tests"
      ]
    },
    {
      "cell_type": "code",
      "source": [
        "# intial solution:\n",
        "def subarray_sum1(arr, target):\n",
        "  n = len(arr)\n",
        "  # i goes from 0 to n-1\n",
        "  for i in range(n):\n",
        "    # j goes from 0 to n\n",
        "    for j in range(i, n+1):\n",
        "      # check if subarray sum equal target\n",
        "      if sum(arr[i:j]) == target:\n",
        "        # answer found\n",
        "        return i, j\n",
        "  # answer not found\n",
        "  return None, None"
      ],
      "metadata": {
        "id": "fvQkrHp851_O"
      },
      "id": "fvQkrHp851_O",
      "execution_count": 7,
      "outputs": []
    },
    {
      "cell_type": "code",
      "execution_count": 8,
      "id": "sought-norman",
      "metadata": {
        "id": "sought-norman",
        "colab": {
          "base_uri": "https://localhost:8080/"
        },
        "outputId": "a1144f70-9804-4a65-a9af-c6d4bccc2f0a"
      },
      "outputs": [
        {
          "output_type": "stream",
          "name": "stdout",
          "text": [
            "  Preparing metadata (setup.py) ... \u001b[?25l\u001b[?25hdone\n",
            "\u001b[?25l   \u001b[90m━━━━━━━━━━━━━━━━━━━━━━━━━━━━━━━━━━━━━━━━\u001b[0m \u001b[32m0.0/68.6 kB\u001b[0m \u001b[31m?\u001b[0m eta \u001b[36m-:--:--\u001b[0m\r\u001b[2K   \u001b[91m━━━━━━━━━━━━━━━━━━━━━━━━━━━━━━━━━━━\u001b[0m\u001b[91m╸\u001b[0m\u001b[90m━━━━\u001b[0m \u001b[32m61.4/68.6 kB\u001b[0m \u001b[31m2.3 MB/s\u001b[0m eta \u001b[36m0:00:01\u001b[0m\r\u001b[2K   \u001b[90m━━━━━━━━━━━━━━━━━━━━━━━━━━━━━━━━━━━━━━━━\u001b[0m \u001b[32m68.6/68.6 kB\u001b[0m \u001b[31m1.6 MB/s\u001b[0m eta \u001b[36m0:00:00\u001b[0m\n",
            "\u001b[?25h  Building wheel for uuid (setup.py) ... \u001b[?25l\u001b[?25hdone\n"
          ]
        }
      ],
      "source": [
        "# Test the solution here\n",
        "!pip install jovian --upgrade --quiet"
      ]
    },
    {
      "cell_type": "code",
      "execution_count": 9,
      "id": "married-january",
      "metadata": {
        "id": "married-january"
      },
      "outputs": [],
      "source": [
        "import jovian"
      ]
    },
    {
      "cell_type": "code",
      "execution_count": 10,
      "id": "unavailable-dairy",
      "metadata": {
        "id": "unavailable-dairy"
      },
      "outputs": [],
      "source": [
        "# import evaluate test cases from jovian\n",
        "from jovian.pythondsa import evaluate_test_cases"
      ]
    },
    {
      "cell_type": "code",
      "execution_count": 11,
      "id": "amino-relay",
      "metadata": {
        "id": "amino-relay",
        "outputId": "c938655a-6cc3-46d4-ad2b-51a436127f28",
        "colab": {
          "base_uri": "https://localhost:8080/"
        }
      },
      "outputs": [
        {
          "output_type": "stream",
          "name": "stdout",
          "text": [
            "\n",
            "\u001b[1mTEST CASE #0\u001b[0m\n",
            "\n",
            "Input:\n",
            "{'arr': [1, 7, 4, 2, 1, 3, 11, 5], 'target': 10}\n",
            "\n",
            "Expected Output:\n",
            "(2, 6)\n",
            "\n",
            "\n",
            "Actual Output:\n",
            "(2, 6)\n",
            "\n",
            "Execution Time:\n",
            "0.02 ms\n",
            "\n",
            "Test Result:\n",
            "\u001b[92mPASSED\u001b[0m\n",
            "\n",
            "\n",
            "\u001b[1mTEST CASE #1\u001b[0m\n",
            "\n",
            "Input:\n",
            "{'arr': [1, 7, 4, 2, 1, 3, 11, 5], 'target': 14}\n",
            "\n",
            "Expected Output:\n",
            "(1, 5)\n",
            "\n",
            "\n",
            "Actual Output:\n",
            "(0, 4)\n",
            "\n",
            "Execution Time:\n",
            "0.01 ms\n",
            "\n",
            "Test Result:\n",
            "\u001b[91mFAILED\u001b[0m\n",
            "\n",
            "\n",
            "\u001b[1mTEST CASE #2\u001b[0m\n",
            "\n",
            "Input:\n",
            "{'arr': [2, 4, 3, 1, 7, 8, 12], 'target': 28}\n",
            "\n",
            "Expected Output:\n",
            "(3, 7)\n",
            "\n",
            "\n",
            "Actual Output:\n",
            "(3, 7)\n",
            "\n",
            "Execution Time:\n",
            "0.018 ms\n",
            "\n",
            "Test Result:\n",
            "\u001b[92mPASSED\u001b[0m\n",
            "\n",
            "\n",
            "\u001b[1mTEST CASE #3\u001b[0m\n",
            "\n",
            "Input:\n",
            "{'arr': [1, 7, 4, 2, 1, 3, 11, 5], 'target': 12}\n",
            "\n",
            "Expected Output:\n",
            "(0, 3)\n",
            "\n",
            "\n",
            "Actual Output:\n",
            "(0, 3)\n",
            "\n",
            "Execution Time:\n",
            "0.011 ms\n",
            "\n",
            "Test Result:\n",
            "\u001b[92mPASSED\u001b[0m\n",
            "\n",
            "\n",
            "\u001b[1mTEST CASE #4\u001b[0m\n",
            "\n",
            "Input:\n",
            "{'arr': [8, 2, 9, 3, 1, 4, 3], 'target': 31}\n",
            "\n",
            "Expected Output:\n",
            "(None, None)\n",
            "\n",
            "\n",
            "Actual Output:\n",
            "(None, None)\n",
            "\n",
            "Execution Time:\n",
            "0.021 ms\n",
            "\n",
            "Test Result:\n",
            "\u001b[92mPASSED\u001b[0m\n",
            "\n",
            "\n",
            "\u001b[1mTEST CASE #5\u001b[0m\n",
            "\n",
            "Input:\n",
            "{'arr': [8, 4, 0, 0, 2, 8, 6], 'target': 6}\n",
            "\n",
            "Expected Output:\n",
            "(1, 5)\n",
            "\n",
            "\n",
            "Actual Output:\n",
            "(1, 5)\n",
            "\n",
            "Execution Time:\n",
            "0.011 ms\n",
            "\n",
            "Test Result:\n",
            "\u001b[92mPASSED\u001b[0m\n",
            "\n",
            "\n",
            "\u001b[1mTEST CASE #6\u001b[0m\n",
            "\n",
            "Input:\n",
            "{'arr': [8, 4, 0, 0, 2, 8, 6], 'target': 8}\n",
            "\n",
            "Expected Output:\n",
            "(0, 1)\n",
            "\n",
            "\n",
            "Actual Output:\n",
            "(0, 1)\n",
            "\n",
            "Execution Time:\n",
            "0.005 ms\n",
            "\n",
            "Test Result:\n",
            "\u001b[92mPASSED\u001b[0m\n",
            "\n",
            "\n",
            "\u001b[1mTEST CASE #7\u001b[0m\n",
            "\n",
            "Input:\n",
            "{'arr': [2], 'target': 2}\n",
            "\n",
            "Expected Output:\n",
            "(0, 1)\n",
            "\n",
            "\n",
            "Actual Output:\n",
            "(0, 1)\n",
            "\n",
            "Execution Time:\n",
            "0.005 ms\n",
            "\n",
            "Test Result:\n",
            "\u001b[92mPASSED\u001b[0m\n",
            "\n",
            "\n",
            "\u001b[1mSUMMARY\u001b[0m\n",
            "\n",
            "TOTAL: 8, \u001b[92mPASSED\u001b[0m: 7, \u001b[91mFAILED\u001b[0m: 1\n"
          ]
        },
        {
          "output_type": "execute_result",
          "data": {
            "text/plain": [
              "[((2, 6), True, 0.02),\n",
              " ((0, 4), False, 0.01),\n",
              " ((3, 7), True, 0.018),\n",
              " ((0, 3), True, 0.011),\n",
              " ((None, None), True, 0.021),\n",
              " ((1, 5), True, 0.011),\n",
              " ((0, 1), True, 0.005),\n",
              " ((0, 1), True, 0.005)]"
            ]
          },
          "metadata": {},
          "execution_count": 11
        }
      ],
      "source": [
        "evaluate_test_cases(subarray_sum1, tests)"
      ]
    },
    {
      "cell_type": "markdown",
      "id": "later-organization",
      "metadata": {
        "id": "later-organization"
      },
      "source": [
        "Brute force $O(n^3)$:"
      ]
    },
    {
      "cell_type": "code",
      "execution_count": 12,
      "id": "patient-mounting",
      "metadata": {
        "id": "patient-mounting",
        "colab": {
          "base_uri": "https://localhost:8080/"
        },
        "outputId": "a90a5551-da72-4285-b012-d6308fde33c3"
      },
      "outputs": [
        {
          "output_type": "stream",
          "name": "stdout",
          "text": [
            "[jovian] Detected Colab notebook...\u001b[0m\n",
            "[jovian] jovian.commit() is no longer required on Google Colab. If you ran this notebook from Jovian, \n",
            "then just save this file in Colab using Ctrl+S/Cmd+S and it will be updated on Jovian. \n",
            "Also, you can also delete this cell, it's no longer necessary.\u001b[0m\n"
          ]
        }
      ],
      "source": [
        "jovian.commit()"
      ]
    },
    {
      "cell_type": "markdown",
      "id": "indoor-marshall",
      "metadata": {
        "id": "indoor-marshall"
      },
      "source": [
        "## Optimized Solution"
      ]
    },
    {
      "cell_type": "code",
      "execution_count": 13,
      "id": "becoming-brooks",
      "metadata": {
        "id": "becoming-brooks"
      },
      "outputs": [],
      "source": [
        "# maintain a running sum for inner loop\n",
        "# when sum exceeds target, break inner loop"
      ]
    },
    {
      "cell_type": "code",
      "execution_count": 22,
      "id": "pursuant-connection",
      "metadata": {
        "id": "pursuant-connection"
      },
      "outputs": [],
      "source": [
        "def subarray_sum2(arr, target):\n",
        "  n = len(arr)\n",
        "  for i in range(0, n):\n",
        "    s = 0\n",
        "    for j in range(i, n+1):\n",
        "      if s == target:\n",
        "        return i, j\n",
        "      elif s > target:\n",
        "        break\n",
        "      if j < n:\n",
        "        s += arr[j]\n",
        "  return None, None"
      ]
    },
    {
      "cell_type": "code",
      "source": [
        "arr0, target0"
      ],
      "metadata": {
        "colab": {
          "base_uri": "https://localhost:8080/"
        },
        "id": "YD1dP6jc8CI_",
        "outputId": "14dc57de-231b-41fc-b29d-24a9a3c1948f"
      },
      "id": "YD1dP6jc8CI_",
      "execution_count": 23,
      "outputs": [
        {
          "output_type": "execute_result",
          "data": {
            "text/plain": [
              "([1, 7, 4, 2, 1, 3, 11, 5], 10)"
            ]
          },
          "metadata": {},
          "execution_count": 23
        }
      ]
    },
    {
      "cell_type": "code",
      "execution_count": 24,
      "id": "oriental-exhibition",
      "metadata": {
        "id": "oriental-exhibition",
        "outputId": "c581116e-6b29-44fe-f302-fb469c9dadd8",
        "colab": {
          "base_uri": "https://localhost:8080/"
        }
      },
      "outputs": [
        {
          "output_type": "execute_result",
          "data": {
            "text/plain": [
              "(2, 6, [4, 2, 1, 3])"
            ]
          },
          "metadata": {},
          "execution_count": 24
        }
      ],
      "source": [
        "i, j = subarray_sum2(arr0, target0)\n",
        "i, j, arr0[i:j]"
      ]
    },
    {
      "cell_type": "code",
      "source": [
        "evaluate_test_cases(subarray_sum2, tests)"
      ],
      "metadata": {
        "colab": {
          "base_uri": "https://localhost:8080/"
        },
        "id": "5g937j788nsf",
        "outputId": "bd795cc0-6fec-45a2-b6e2-2f10bc390d8f"
      },
      "id": "5g937j788nsf",
      "execution_count": 25,
      "outputs": [
        {
          "output_type": "stream",
          "name": "stdout",
          "text": [
            "\n",
            "\u001b[1mTEST CASE #0\u001b[0m\n",
            "\n",
            "Input:\n",
            "{'arr': [1, 7, 4, 2, 1, 3, 11, 5], 'target': 10}\n",
            "\n",
            "Expected Output:\n",
            "(2, 6)\n",
            "\n",
            "\n",
            "Actual Output:\n",
            "(2, 6)\n",
            "\n",
            "Execution Time:\n",
            "0.011 ms\n",
            "\n",
            "Test Result:\n",
            "\u001b[92mPASSED\u001b[0m\n",
            "\n",
            "\n",
            "\u001b[1mTEST CASE #1\u001b[0m\n",
            "\n",
            "Input:\n",
            "{'arr': [1, 7, 4, 2, 1, 3, 11, 5], 'target': 14}\n",
            "\n",
            "Expected Output:\n",
            "(1, 5)\n",
            "\n",
            "\n",
            "Actual Output:\n",
            "(0, 4)\n",
            "\n",
            "Execution Time:\n",
            "0.006 ms\n",
            "\n",
            "Test Result:\n",
            "\u001b[91mFAILED\u001b[0m\n",
            "\n",
            "\n",
            "\u001b[1mTEST CASE #2\u001b[0m\n",
            "\n",
            "Input:\n",
            "{'arr': [2, 4, 3, 1, 7, 8, 12], 'target': 28}\n",
            "\n",
            "Expected Output:\n",
            "(3, 7)\n",
            "\n",
            "\n",
            "Actual Output:\n",
            "(3, 7)\n",
            "\n",
            "Execution Time:\n",
            "0.01 ms\n",
            "\n",
            "Test Result:\n",
            "\u001b[92mPASSED\u001b[0m\n",
            "\n",
            "\n",
            "\u001b[1mTEST CASE #3\u001b[0m\n",
            "\n",
            "Input:\n",
            "{'arr': [1, 7, 4, 2, 1, 3, 11, 5], 'target': 12}\n",
            "\n",
            "Expected Output:\n",
            "(0, 3)\n",
            "\n",
            "\n",
            "Actual Output:\n",
            "(0, 3)\n",
            "\n",
            "Execution Time:\n",
            "0.005 ms\n",
            "\n",
            "Test Result:\n",
            "\u001b[92mPASSED\u001b[0m\n",
            "\n",
            "\n",
            "\u001b[1mTEST CASE #4\u001b[0m\n",
            "\n",
            "Input:\n",
            "{'arr': [8, 2, 9, 3, 1, 4, 3], 'target': 31}\n",
            "\n",
            "Expected Output:\n",
            "(None, None)\n",
            "\n",
            "\n",
            "Actual Output:\n",
            "(None, None)\n",
            "\n",
            "Execution Time:\n",
            "0.015 ms\n",
            "\n",
            "Test Result:\n",
            "\u001b[92mPASSED\u001b[0m\n",
            "\n",
            "\n",
            "\u001b[1mTEST CASE #5\u001b[0m\n",
            "\n",
            "Input:\n",
            "{'arr': [8, 4, 0, 0, 2, 8, 6], 'target': 6}\n",
            "\n",
            "Expected Output:\n",
            "(1, 5)\n",
            "\n",
            "\n",
            "Actual Output:\n",
            "(1, 5)\n",
            "\n",
            "Execution Time:\n",
            "0.006 ms\n",
            "\n",
            "Test Result:\n",
            "\u001b[92mPASSED\u001b[0m\n",
            "\n",
            "\n",
            "\u001b[1mTEST CASE #6\u001b[0m\n",
            "\n",
            "Input:\n",
            "{'arr': [8, 4, 0, 0, 2, 8, 6], 'target': 8}\n",
            "\n",
            "Expected Output:\n",
            "(0, 1)\n",
            "\n",
            "\n",
            "Actual Output:\n",
            "(0, 1)\n",
            "\n",
            "Execution Time:\n",
            "0.004 ms\n",
            "\n",
            "Test Result:\n",
            "\u001b[92mPASSED\u001b[0m\n",
            "\n",
            "\n",
            "\u001b[1mTEST CASE #7\u001b[0m\n",
            "\n",
            "Input:\n",
            "{'arr': [2], 'target': 2}\n",
            "\n",
            "Expected Output:\n",
            "(0, 1)\n",
            "\n",
            "\n",
            "Actual Output:\n",
            "(0, 1)\n",
            "\n",
            "Execution Time:\n",
            "0.004 ms\n",
            "\n",
            "Test Result:\n",
            "\u001b[92mPASSED\u001b[0m\n",
            "\n",
            "\n",
            "\u001b[1mSUMMARY\u001b[0m\n",
            "\n",
            "TOTAL: 8, \u001b[92mPASSED\u001b[0m: 7, \u001b[91mFAILED\u001b[0m: 1\n"
          ]
        },
        {
          "output_type": "execute_result",
          "data": {
            "text/plain": [
              "[((2, 6), True, 0.011),\n",
              " ((0, 4), False, 0.006),\n",
              " ((3, 7), True, 0.01),\n",
              " ((0, 3), True, 0.005),\n",
              " ((None, None), True, 0.015),\n",
              " ((1, 5), True, 0.006),\n",
              " ((0, 1), True, 0.004),\n",
              " ((0, 1), True, 0.004)]"
            ]
          },
          "metadata": {},
          "execution_count": 25
        }
      ]
    },
    {
      "cell_type": "markdown",
      "id": "hundred-herald",
      "metadata": {
        "id": "hundred-herald"
      },
      "source": [
        "Better brute force $O(n^2)$:"
      ]
    },
    {
      "cell_type": "markdown",
      "source": [
        "### Even better"
      ],
      "metadata": {
        "id": "Z1AtMrZ4DT5V"
      },
      "id": "Z1AtMrZ4DT5V"
    },
    {
      "cell_type": "code",
      "execution_count": 29,
      "id": "round-least",
      "metadata": {
        "id": "round-least"
      },
      "outputs": [],
      "source": [
        "def subarray_sum3(arr, target):\n",
        "    n = len(arr)\n",
        "    i, j, s = 0, 0, 0\n",
        "    while i < n and j <= n:\n",
        "        if s == target:\n",
        "            return i, j\n",
        "        elif s < target:\n",
        "          if j < n:\n",
        "              s += arr[j]\n",
        "          j += 1\n",
        "        elif s > target:\n",
        "            s -= arr[i]\n",
        "            i += 1\n",
        "    return None, None\n"
      ]
    },
    {
      "cell_type": "code",
      "execution_count": 30,
      "id": "wrong-walnut",
      "metadata": {
        "id": "wrong-walnut",
        "outputId": "fa4ea30c-8f8f-469a-f949-b8d3fa1ff528",
        "colab": {
          "base_uri": "https://localhost:8080/"
        }
      },
      "outputs": [
        {
          "output_type": "execute_result",
          "data": {
            "text/plain": [
              "(2, 6, [4, 2, 1, 3])"
            ]
          },
          "metadata": {},
          "execution_count": 30
        }
      ],
      "source": [
        "i, j = subarray_sum3(arr0, target0)\n",
        "i, j, arr0[i:j]"
      ]
    },
    {
      "cell_type": "code",
      "execution_count": 31,
      "id": "administrative-blind",
      "metadata": {
        "id": "administrative-blind",
        "colab": {
          "base_uri": "https://localhost:8080/"
        },
        "outputId": "62283180-bef4-4864-b1f7-a48214c2fa51"
      },
      "outputs": [
        {
          "output_type": "stream",
          "name": "stdout",
          "text": [
            "\n",
            "\u001b[1mTEST CASE #0\u001b[0m\n",
            "\n",
            "Input:\n",
            "{'arr': [1, 7, 4, 2, 1, 3, 11, 5], 'target': 10}\n",
            "\n",
            "Expected Output:\n",
            "(2, 6)\n",
            "\n",
            "\n",
            "Actual Output:\n",
            "(2, 6)\n",
            "\n",
            "Execution Time:\n",
            "0.009 ms\n",
            "\n",
            "Test Result:\n",
            "\u001b[92mPASSED\u001b[0m\n",
            "\n",
            "\n",
            "\u001b[1mTEST CASE #1\u001b[0m\n",
            "\n",
            "Input:\n",
            "{'arr': [1, 7, 4, 2, 1, 3, 11, 5], 'target': 14}\n",
            "\n",
            "Expected Output:\n",
            "(1, 5)\n",
            "\n",
            "\n",
            "Actual Output:\n",
            "(0, 4)\n",
            "\n",
            "Execution Time:\n",
            "0.005 ms\n",
            "\n",
            "Test Result:\n",
            "\u001b[91mFAILED\u001b[0m\n",
            "\n",
            "\n",
            "\u001b[1mTEST CASE #2\u001b[0m\n",
            "\n",
            "Input:\n",
            "{'arr': [2, 4, 3, 1, 7, 8, 12], 'target': 28}\n",
            "\n",
            "Expected Output:\n",
            "(3, 7)\n",
            "\n",
            "\n",
            "Actual Output:\n",
            "(3, 7)\n",
            "\n",
            "Execution Time:\n",
            "0.008 ms\n",
            "\n",
            "Test Result:\n",
            "\u001b[92mPASSED\u001b[0m\n",
            "\n",
            "\n",
            "\u001b[1mTEST CASE #3\u001b[0m\n",
            "\n",
            "Input:\n",
            "{'arr': [1, 7, 4, 2, 1, 3, 11, 5], 'target': 12}\n",
            "\n",
            "Expected Output:\n",
            "(0, 3)\n",
            "\n",
            "\n",
            "Actual Output:\n",
            "(0, 3)\n",
            "\n",
            "Execution Time:\n",
            "0.004 ms\n",
            "\n",
            "Test Result:\n",
            "\u001b[92mPASSED\u001b[0m\n",
            "\n",
            "\n",
            "\u001b[1mTEST CASE #4\u001b[0m\n",
            "\n",
            "Input:\n",
            "{'arr': [8, 2, 9, 3, 1, 4, 3], 'target': 31}\n",
            "\n",
            "Expected Output:\n",
            "(None, None)\n",
            "\n",
            "\n",
            "Actual Output:\n",
            "(None, None)\n",
            "\n",
            "Execution Time:\n",
            "0.006 ms\n",
            "\n",
            "Test Result:\n",
            "\u001b[92mPASSED\u001b[0m\n",
            "\n",
            "\n",
            "\u001b[1mTEST CASE #5\u001b[0m\n",
            "\n",
            "Input:\n",
            "{'arr': [8, 4, 0, 0, 2, 8, 6], 'target': 6}\n",
            "\n",
            "Expected Output:\n",
            "(1, 5)\n",
            "\n",
            "\n",
            "Actual Output:\n",
            "(1, 5)\n",
            "\n",
            "Execution Time:\n",
            "0.005 ms\n",
            "\n",
            "Test Result:\n",
            "\u001b[92mPASSED\u001b[0m\n",
            "\n",
            "\n",
            "\u001b[1mTEST CASE #6\u001b[0m\n",
            "\n",
            "Input:\n",
            "{'arr': [8, 4, 0, 0, 2, 8, 6], 'target': 8}\n",
            "\n",
            "Expected Output:\n",
            "(0, 1)\n",
            "\n",
            "\n",
            "Actual Output:\n",
            "(0, 1)\n",
            "\n",
            "Execution Time:\n",
            "0.003 ms\n",
            "\n",
            "Test Result:\n",
            "\u001b[92mPASSED\u001b[0m\n",
            "\n",
            "\n",
            "\u001b[1mTEST CASE #7\u001b[0m\n",
            "\n",
            "Input:\n",
            "{'arr': [2], 'target': 2}\n",
            "\n",
            "Expected Output:\n",
            "(0, 1)\n",
            "\n",
            "\n",
            "Actual Output:\n",
            "(0, 1)\n",
            "\n",
            "Execution Time:\n",
            "0.005 ms\n",
            "\n",
            "Test Result:\n",
            "\u001b[92mPASSED\u001b[0m\n",
            "\n",
            "\n",
            "\u001b[1mSUMMARY\u001b[0m\n",
            "\n",
            "TOTAL: 8, \u001b[92mPASSED\u001b[0m: 7, \u001b[91mFAILED\u001b[0m: 1\n"
          ]
        },
        {
          "output_type": "execute_result",
          "data": {
            "text/plain": [
              "[((2, 6), True, 0.009),\n",
              " ((0, 4), False, 0.005),\n",
              " ((3, 7), True, 0.008),\n",
              " ((0, 3), True, 0.004),\n",
              " ((None, None), True, 0.006),\n",
              " ((1, 5), True, 0.005),\n",
              " ((0, 1), True, 0.003),\n",
              " ((0, 1), True, 0.005)]"
            ]
          },
          "metadata": {},
          "execution_count": 31
        }
      ],
      "source": [
        "evaluate_test_cases(subarray_sum3, tests)"
      ]
    },
    {
      "cell_type": "markdown",
      "id": "prime-photograph",
      "metadata": {
        "id": "prime-photograph"
      },
      "source": [
        "Greedy algorithm $O(n)$:"
      ]
    },
    {
      "cell_type": "code",
      "source": [],
      "metadata": {
        "id": "AZ1x536cEe78"
      },
      "id": "AZ1x536cEe78",
      "execution_count": null,
      "outputs": []
    }
  ],
  "metadata": {
    "kernelspec": {
      "display_name": "Python 3",
      "language": "python",
      "name": "python3"
    },
    "language_info": {
      "codemirror_mode": {
        "name": "ipython",
        "version": 3
      },
      "file_extension": ".py",
      "mimetype": "text/x-python",
      "name": "python",
      "nbconvert_exporter": "python",
      "pygments_lexer": "ipython3",
      "version": "3.6.12"
    },
    "colab": {
      "provenance": [],
      "include_colab_link": true
    }
  },
  "nbformat": 4,
  "nbformat_minor": 5
}