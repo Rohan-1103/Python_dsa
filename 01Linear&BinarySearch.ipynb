{
 "cells": [
  {
   "cell_type": "markdown",
   "id": "cad5c852",
   "metadata": {},
   "source": [
    "# Finding the number(query) from a list of cards with descending values"
   ]
  },
  {
   "cell_type": "markdown",
   "id": "ae58c09d",
   "metadata": {},
   "source": [
    "# Creating a test case (using dictionary)"
   ]
  },
  {
   "cell_type": "code",
   "execution_count": 1,
   "id": "22470c32",
   "metadata": {},
   "outputs": [],
   "source": [
    "test = {'input':\n",
    "           {'cards': [13, 11, 10, 7, 4, 3, 1 ,0],\n",
    "           'query': 7},\n",
    "       'output': 3}"
   ]
  },
  {
   "cell_type": "code",
   "execution_count": 2,
   "id": "f7ac049c",
   "metadata": {},
   "outputs": [
    {
     "data": {
      "text/plain": [
       "{'input': {'cards': [13, 11, 10, 7, 4, 3, 1, 0], 'query': 7}, 'output': 3}"
      ]
     },
     "execution_count": 2,
     "metadata": {},
     "output_type": "execute_result"
    }
   ],
   "source": [
    "test"
   ]
  },
  {
   "cell_type": "code",
   "execution_count": 3,
   "id": "5e8e6af5",
   "metadata": {},
   "outputs": [],
   "source": [
    "tests = []"
   ]
  },
  {
   "cell_type": "code",
   "execution_count": 4,
   "id": "5aedc8ed",
   "metadata": {},
   "outputs": [],
   "source": [
    "tests.append(test)"
   ]
  },
  {
   "cell_type": "code",
   "execution_count": 5,
   "id": "e6142082",
   "metadata": {},
   "outputs": [
    {
     "data": {
      "text/plain": [
       "[{'input': {'cards': [13, 11, 10, 7, 4, 3, 1, 0], 'query': 7}, 'output': 3}]"
      ]
     },
     "execution_count": 5,
     "metadata": {},
     "output_type": "execute_result"
    }
   ],
   "source": [
    "tests"
   ]
  },
  {
   "cell_type": "markdown",
   "id": "4dc2ba94",
   "metadata": {},
   "source": [
    "# More test-cases (using list of dictionaries)"
   ]
  },
  {
   "cell_type": "code",
   "execution_count": 6,
   "id": "dc3eaab5",
   "metadata": {},
   "outputs": [],
   "source": [
    "# query occurs in the middle\n",
    "tests.append({\n",
    "    'input': {\n",
    "        'cards': [13, 11, 10, 7, 4, 3, 1, 0],\n",
    "        'query': 1\n",
    "    },\n",
    "    'output': 6\n",
    "})"
   ]
  },
  {
   "cell_type": "code",
   "execution_count": 7,
   "id": "fb7a3bb3",
   "metadata": {},
   "outputs": [],
   "source": [
    "# query is the first element\n",
    "tests.append({\n",
    "    'input': {\n",
    "        'cards': [13, 11, 10, 7, 1, -1],\n",
    "        'query': 13\n",
    "    },\n",
    "    'output': 0\n",
    "})"
   ]
  },
  {
   "cell_type": "code",
   "execution_count": 8,
   "id": "a1f85e24",
   "metadata": {},
   "outputs": [],
   "source": [
    "# query is the last element\n",
    "tests.append({\n",
    "    'input':{\n",
    "        'cards': [13, 11, 10, 7, 5, -1, -13],\n",
    "        'query': -13\n",
    "    },\n",
    "    'output': 6 \n",
    "})"
   ]
  },
  {
   "cell_type": "code",
   "execution_count": 9,
   "id": "59ea6f3b",
   "metadata": {},
   "outputs": [],
   "source": [
    "# card contains just one element, query\n",
    "tests.append({\n",
    "    'input': {\n",
    "        'cards': [31],\n",
    "        'query': 31\n",
    "    },\n",
    "    'output': 0\n",
    "})"
   ]
  },
  {
   "cell_type": "code",
   "execution_count": 10,
   "id": "dee89e13",
   "metadata": {},
   "outputs": [],
   "source": [
    "# card doesnt contain query\n",
    "tests.append({\n",
    "    'input':{\n",
    "        'cards': [9, 7, 5, 2, -2],\n",
    "        'query': 4\n",
    "    },\n",
    "    'output': -1\n",
    "})"
   ]
  },
  {
   "cell_type": "code",
   "execution_count": 11,
   "id": "ebc0e19f",
   "metadata": {},
   "outputs": [],
   "source": [
    "# card is empty\n",
    "tests.append({\n",
    "    'input': {\n",
    "        'cards': [],\n",
    "        'query': 7\n",
    "    },\n",
    "    'output': -1\n",
    "})"
   ]
  },
  {
   "cell_type": "code",
   "execution_count": 12,
   "id": "721e120d",
   "metadata": {},
   "outputs": [],
   "source": [
    "# numbers can repeat in cards\n",
    "tests.append({\n",
    "    'input':{\n",
    "        'cards': [8, 8, 6, 6, 6, 6, 5, 2, 2, 1, 0, 0, 0],\n",
    "        'query': 5\n",
    "    },\n",
    "    'output': 6\n",
    "})"
   ]
  },
  {
   "cell_type": "code",
   "execution_count": 13,
   "id": "f006f1e2",
   "metadata": {},
   "outputs": [],
   "source": [
    "# query occurs multiple times\n",
    "tests.append({\n",
    "    'input': {\n",
    "        'cards': [8, 8, 6, 6, 5, 5, 4, 4, 4, 4, 3, 1, 0, -1, -12, -31],\n",
    "        'query': 4\n",
    "    },\n",
    "    'output': 6\n",
    "})"
   ]
  },
  {
   "cell_type": "code",
   "execution_count": 14,
   "id": "352992de",
   "metadata": {},
   "outputs": [
    {
     "data": {
      "text/plain": [
       "[{'input': {'cards': [13, 11, 10, 7, 4, 3, 1, 0], 'query': 7}, 'output': 3},\n",
       " {'input': {'cards': [13, 11, 10, 7, 4, 3, 1, 0], 'query': 1}, 'output': 6},\n",
       " {'input': {'cards': [13, 11, 10, 7, 1, -1], 'query': 13}, 'output': 0},\n",
       " {'input': {'cards': [13, 11, 10, 7, 5, -1, -13], 'query': -13}, 'output': 6},\n",
       " {'input': {'cards': [31], 'query': 31}, 'output': 0},\n",
       " {'input': {'cards': [9, 7, 5, 2, -2], 'query': 4}, 'output': -1},\n",
       " {'input': {'cards': [], 'query': 7}, 'output': -1},\n",
       " {'input': {'cards': [8, 8, 6, 6, 6, 6, 5, 2, 2, 1, 0, 0, 0], 'query': 5},\n",
       "  'output': 6},\n",
       " {'input': {'cards': [8, 8, 6, 6, 5, 5, 4, 4, 4, 4, 3, 1, 0, -1, -12, -31],\n",
       "   'query': 4},\n",
       "  'output': 6}]"
      ]
     },
     "execution_count": 14,
     "metadata": {},
     "output_type": "execute_result"
    }
   ],
   "source": [
    "tests"
   ]
  },
  {
   "cell_type": "markdown",
   "id": "40a86489",
   "metadata": {},
   "source": [
    "# OG Linear Search Function"
   ]
  },
  {
   "cell_type": "code",
   "execution_count": 15,
   "id": "3fa4a4cf",
   "metadata": {},
   "outputs": [],
   "source": [
    "def locate_card(cards, query):\n",
    "    position = 0    # Create a variable position and initialize it with 0\n",
    "    \n",
    "    # Setup loop for repetition\n",
    "    while True:\n",
    "        # Check if element at current position is equal to query\n",
    "        if cards[position] == query:\n",
    "            return position               # If yes; return position\n",
    "        \n",
    "        # else; increament position\n",
    "        position += 1\n",
    "        if position == len(cards):        # List reaches end\n",
    "            return -1                     # If element not found return -1"
   ]
  },
  {
   "cell_type": "code",
   "execution_count": 16,
   "id": "80607000",
   "metadata": {},
   "outputs": [
    {
     "data": {
      "text/plain": [
       "3"
      ]
     },
     "execution_count": 16,
     "metadata": {},
     "output_type": "execute_result"
    }
   ],
   "source": [
    "# NEW LEARNING\n",
    "result = locate_card(test['input']['cards'], test['input']['query'])\n",
    "result"
   ]
  },
  {
   "cell_type": "code",
   "execution_count": 17,
   "id": "e304576d",
   "metadata": {},
   "outputs": [
    {
     "data": {
      "text/plain": [
       "True"
      ]
     },
     "execution_count": 17,
     "metadata": {},
     "output_type": "execute_result"
    }
   ],
   "source": [
    "# ALSO NEW LEARNING\n",
    "locate_card(**test['input']) == test['output']"
   ]
  },
  {
   "cell_type": "code",
   "execution_count": 18,
   "id": "b54721c3",
   "metadata": {},
   "outputs": [],
   "source": [
    "!pip install jovian --upgrade --quiet"
   ]
  },
  {
   "cell_type": "code",
   "execution_count": 19,
   "id": "11c5e116",
   "metadata": {},
   "outputs": [
    {
     "data": {
      "application/javascript": [
       "if (window.IPython && IPython.notebook.kernel) IPython.notebook.kernel.execute('jovian.utils.jupyter.get_notebook_name_saved = lambda: \"' + IPython.notebook.notebook_name + '\"')"
      ],
      "text/plain": [
       "<IPython.core.display.Javascript object>"
      ]
     },
     "metadata": {},
     "output_type": "display_data"
    }
   ],
   "source": [
    "from jovian.pythondsa import evaluate_test_case"
   ]
  },
  {
   "cell_type": "code",
   "execution_count": 20,
   "id": "bb48539d",
   "metadata": {},
   "outputs": [
    {
     "name": "stdout",
     "output_type": "stream",
     "text": [
      "\n",
      "Input:\n",
      "{'cards': [13, 11, 10, 7, 4, 3, 1, 0], 'query': 7}\n",
      "\n",
      "Expected Output:\n",
      "3\n",
      "\n",
      "\n",
      "Actual Output:\n",
      "3\n",
      "\n",
      "Execution Time:\n",
      "0.003 ms\n",
      "\n",
      "Test Result:\n",
      "\u001b[92mPASSED\u001b[0m\n",
      "\n"
     ]
    },
    {
     "data": {
      "text/plain": [
       "(3, True, 0.003)"
      ]
     },
     "execution_count": 20,
     "metadata": {},
     "output_type": "execute_result"
    }
   ],
   "source": [
    "evaluate_test_case(locate_card, test)"
   ]
  },
  {
   "cell_type": "code",
   "execution_count": 21,
   "id": "38859ac2",
   "metadata": {},
   "outputs": [],
   "source": [
    "from jovian.pythondsa import evaluate_test_cases"
   ]
  },
  {
   "cell_type": "code",
   "execution_count": 22,
   "id": "f6e23b52",
   "metadata": {},
   "outputs": [
    {
     "name": "stdout",
     "output_type": "stream",
     "text": [
      "\n",
      "\u001b[1mTEST CASE #0\u001b[0m\n",
      "\n",
      "Input:\n",
      "{'cards': [13, 11, 10, 7, 4, 3, 1, 0], 'query': 7}\n",
      "\n",
      "Expected Output:\n",
      "3\n",
      "\n",
      "\n",
      "Actual Output:\n",
      "3\n",
      "\n",
      "Execution Time:\n",
      "0.005 ms\n",
      "\n",
      "Test Result:\n",
      "\u001b[92mPASSED\u001b[0m\n",
      "\n",
      "\n",
      "\u001b[1mTEST CASE #1\u001b[0m\n",
      "\n",
      "Input:\n",
      "{'cards': [13, 11, 10, 7, 4, 3, 1, 0], 'query': 1}\n",
      "\n",
      "Expected Output:\n",
      "6\n",
      "\n",
      "\n",
      "Actual Output:\n",
      "6\n",
      "\n",
      "Execution Time:\n",
      "0.004 ms\n",
      "\n",
      "Test Result:\n",
      "\u001b[92mPASSED\u001b[0m\n",
      "\n",
      "\n",
      "\u001b[1mTEST CASE #2\u001b[0m\n",
      "\n",
      "Input:\n",
      "{'cards': [13, 11, 10, 7, 1, -1], 'query': 13}\n",
      "\n",
      "Expected Output:\n",
      "0\n",
      "\n",
      "\n",
      "Actual Output:\n",
      "0\n",
      "\n",
      "Execution Time:\n",
      "0.002 ms\n",
      "\n",
      "Test Result:\n",
      "\u001b[92mPASSED\u001b[0m\n",
      "\n",
      "\n",
      "\u001b[1mTEST CASE #3\u001b[0m\n",
      "\n",
      "Input:\n",
      "{'cards': [13, 11, 10, 7, 5, -1, -13], 'query': -13}\n",
      "\n",
      "Expected Output:\n",
      "6\n",
      "\n",
      "\n",
      "Actual Output:\n",
      "6\n",
      "\n",
      "Execution Time:\n",
      "0.003 ms\n",
      "\n",
      "Test Result:\n",
      "\u001b[92mPASSED\u001b[0m\n",
      "\n",
      "\n",
      "\u001b[1mTEST CASE #4\u001b[0m\n",
      "\n",
      "Input:\n",
      "{'cards': [31], 'query': 31}\n",
      "\n",
      "Expected Output:\n",
      "0\n",
      "\n",
      "\n",
      "Actual Output:\n",
      "0\n",
      "\n",
      "Execution Time:\n",
      "0.002 ms\n",
      "\n",
      "Test Result:\n",
      "\u001b[92mPASSED\u001b[0m\n",
      "\n",
      "\n",
      "\u001b[1mTEST CASE #5\u001b[0m\n",
      "\n",
      "Input:\n",
      "{'cards': [9, 7, 5, 2, -2], 'query': 4}\n",
      "\n",
      "Expected Output:\n",
      "-1\n",
      "\n",
      "\n",
      "Actual Output:\n",
      "-1\n",
      "\n",
      "Execution Time:\n",
      "0.003 ms\n",
      "\n",
      "Test Result:\n",
      "\u001b[92mPASSED\u001b[0m\n",
      "\n",
      "\n",
      "\u001b[1mTEST CASE #6\u001b[0m\n"
     ]
    },
    {
     "ename": "IndexError",
     "evalue": "list index out of range",
     "output_type": "error",
     "traceback": [
      "\u001b[1;31m---------------------------------------------------------------------------\u001b[0m",
      "\u001b[1;31mIndexError\u001b[0m                                Traceback (most recent call last)",
      "Cell \u001b[1;32mIn[22], line 1\u001b[0m\n\u001b[1;32m----> 1\u001b[0m evaluate_test_cases(locate_card, tests)\n",
      "File \u001b[1;32m~\\anaconda3\\Lib\\site-packages\\jovian\\pythondsa\\__init__.py:87\u001b[0m, in \u001b[0;36mevaluate_test_cases\u001b[1;34m(function, test_cases, error_only, summary_only)\u001b[0m\n\u001b[0;32m     85\u001b[0m \u001b[38;5;28;01mif\u001b[39;00m \u001b[38;5;129;01mnot\u001b[39;00m error_only:\n\u001b[0;32m     86\u001b[0m     \u001b[38;5;28mprint\u001b[39m(\u001b[38;5;124m\"\u001b[39m\u001b[38;5;130;01m\\n\u001b[39;00m\u001b[38;5;130;01m\\033\u001b[39;00m\u001b[38;5;124m[1mTEST CASE #\u001b[39m\u001b[38;5;132;01m{}\u001b[39;00m\u001b[38;5;130;01m\\033\u001b[39;00m\u001b[38;5;124m[0m\u001b[39m\u001b[38;5;124m\"\u001b[39m\u001b[38;5;241m.\u001b[39mformat(i))\n\u001b[1;32m---> 87\u001b[0m result \u001b[38;5;241m=\u001b[39m evaluate_test_case(function, test_case, display\u001b[38;5;241m=\u001b[39m\u001b[38;5;28;01mFalse\u001b[39;00m)\n\u001b[0;32m     88\u001b[0m results\u001b[38;5;241m.\u001b[39mappend(result)\n\u001b[0;32m     89\u001b[0m \u001b[38;5;28;01mif\u001b[39;00m error_only \u001b[38;5;129;01mand\u001b[39;00m \u001b[38;5;129;01mnot\u001b[39;00m result[\u001b[38;5;241m1\u001b[39m]:\n",
      "File \u001b[1;32m~\\anaconda3\\Lib\\site-packages\\jovian\\pythondsa\\__init__.py:65\u001b[0m, in \u001b[0;36mevaluate_test_case\u001b[1;34m(function, test_case, display)\u001b[0m\n\u001b[0;32m     62\u001b[0m     _show_test_case(test_case)\n\u001b[0;32m     64\u001b[0m start \u001b[38;5;241m=\u001b[39m timer()\n\u001b[1;32m---> 65\u001b[0m actual_output \u001b[38;5;241m=\u001b[39m function(\u001b[38;5;241m*\u001b[39m\u001b[38;5;241m*\u001b[39minputs)\n\u001b[0;32m     66\u001b[0m end \u001b[38;5;241m=\u001b[39m timer()\n\u001b[0;32m     68\u001b[0m runtime \u001b[38;5;241m=\u001b[39m math\u001b[38;5;241m.\u001b[39mceil((end \u001b[38;5;241m-\u001b[39m start)\u001b[38;5;241m*\u001b[39m\u001b[38;5;241m1e6\u001b[39m)\u001b[38;5;241m/\u001b[39m\u001b[38;5;241m1000\u001b[39m\n",
      "Cell \u001b[1;32mIn[15], line 7\u001b[0m, in \u001b[0;36mlocate_card\u001b[1;34m(cards, query)\u001b[0m\n\u001b[0;32m      4\u001b[0m \u001b[38;5;66;03m# Setup loop for repetition\u001b[39;00m\n\u001b[0;32m      5\u001b[0m \u001b[38;5;28;01mwhile\u001b[39;00m \u001b[38;5;28;01mTrue\u001b[39;00m:\n\u001b[0;32m      6\u001b[0m     \u001b[38;5;66;03m# Check if element at current position is equal to query\u001b[39;00m\n\u001b[1;32m----> 7\u001b[0m     \u001b[38;5;28;01mif\u001b[39;00m cards[position] \u001b[38;5;241m==\u001b[39m query:\n\u001b[0;32m      8\u001b[0m         \u001b[38;5;28;01mreturn\u001b[39;00m position               \u001b[38;5;66;03m# If yes; return position\u001b[39;00m\n\u001b[0;32m     10\u001b[0m     \u001b[38;5;66;03m# else; increament position\u001b[39;00m\n",
      "\u001b[1;31mIndexError\u001b[0m: list index out of range"
     ]
    }
   ],
   "source": [
    "evaluate_test_cases(locate_card, tests)"
   ]
  },
  {
   "cell_type": "markdown",
   "id": "1f7ff262",
   "metadata": {},
   "source": [
    "# Debugging the bug of; finding query in an empty list of cards"
   ]
  },
  {
   "cell_type": "markdown",
   "id": "82f55bee",
   "metadata": {},
   "source": [
    "# Using print statements to find bug"
   ]
  },
  {
   "cell_type": "code",
   "execution_count": 23,
   "id": "b80ffc94",
   "metadata": {},
   "outputs": [],
   "source": [
    "def locate_card(cards, query):\n",
    "    position = 0\n",
    "    \n",
    "    print('cards:', cards)\n",
    "    print('query:', query)\n",
    "    while True:\n",
    "        print('position:', position)\n",
    "        if cards[position] == query:\n",
    "            return position   \n",
    "        \n",
    "        position += 1\n",
    "        if position == len(cards):\n",
    "            return -1    "
   ]
  },
  {
   "cell_type": "code",
   "execution_count": 24,
   "id": "8710d91d",
   "metadata": {},
   "outputs": [
    {
     "name": "stdout",
     "output_type": "stream",
     "text": [
      "cards: []\n",
      "query: 7\n",
      "position: 0\n"
     ]
    },
    {
     "ename": "IndexError",
     "evalue": "list index out of range",
     "output_type": "error",
     "traceback": [
      "\u001b[1;31m---------------------------------------------------------------------------\u001b[0m",
      "\u001b[1;31mIndexError\u001b[0m                                Traceback (most recent call last)",
      "Cell \u001b[1;32mIn[24], line 4\u001b[0m\n\u001b[0;32m      1\u001b[0m cards6 \u001b[38;5;241m=\u001b[39m tests[\u001b[38;5;241m6\u001b[39m][\u001b[38;5;124m'\u001b[39m\u001b[38;5;124minput\u001b[39m\u001b[38;5;124m'\u001b[39m][\u001b[38;5;124m'\u001b[39m\u001b[38;5;124mcards\u001b[39m\u001b[38;5;124m'\u001b[39m]\n\u001b[0;32m      2\u001b[0m query6 \u001b[38;5;241m=\u001b[39m tests[\u001b[38;5;241m6\u001b[39m][\u001b[38;5;124m'\u001b[39m\u001b[38;5;124minput\u001b[39m\u001b[38;5;124m'\u001b[39m][\u001b[38;5;124m'\u001b[39m\u001b[38;5;124mquery\u001b[39m\u001b[38;5;124m'\u001b[39m]\n\u001b[1;32m----> 4\u001b[0m locate_card(cards6, query6)\n",
      "Cell \u001b[1;32mIn[23], line 8\u001b[0m, in \u001b[0;36mlocate_card\u001b[1;34m(cards, query)\u001b[0m\n\u001b[0;32m      6\u001b[0m \u001b[38;5;28;01mwhile\u001b[39;00m \u001b[38;5;28;01mTrue\u001b[39;00m:\n\u001b[0;32m      7\u001b[0m     \u001b[38;5;28mprint\u001b[39m(\u001b[38;5;124m'\u001b[39m\u001b[38;5;124mposition:\u001b[39m\u001b[38;5;124m'\u001b[39m, position)\n\u001b[1;32m----> 8\u001b[0m     \u001b[38;5;28;01mif\u001b[39;00m cards[position] \u001b[38;5;241m==\u001b[39m query:\n\u001b[0;32m      9\u001b[0m         \u001b[38;5;28;01mreturn\u001b[39;00m position   \n\u001b[0;32m     11\u001b[0m     position \u001b[38;5;241m+\u001b[39m\u001b[38;5;241m=\u001b[39m \u001b[38;5;241m1\u001b[39m\n",
      "\u001b[1;31mIndexError\u001b[0m: list index out of range"
     ]
    }
   ],
   "source": [
    "cards6 = tests[6]['input']['cards']\n",
    "query6 = tests[6]['input']['query']\n",
    "\n",
    "locate_card(cards6, query6)"
   ]
  },
  {
   "cell_type": "markdown",
   "id": "da901877",
   "metadata": {},
   "source": [
    "# Modifying the Linear Search function to return -1 if, position is less than the number of cards"
   ]
  },
  {
   "cell_type": "code",
   "execution_count": 25,
   "id": "32e8bc1d",
   "metadata": {},
   "outputs": [],
   "source": [
    "def locate_card(cards, query):\n",
    "    position = 0    # Create a variable position and initialize it with 0\n",
    "    \n",
    "    # enter loop only if position is less than number of cards \n",
    "    while position < len(cards):\n",
    "        \n",
    "        # match to query found\n",
    "        if cards[position] == query:\n",
    "            return position\n",
    "        # match not yet found, increament position\n",
    "        position += 1\n",
    "        \n",
    "    # match not found; return -1    \n",
    "    return -1"
   ]
  },
  {
   "cell_type": "code",
   "execution_count": 26,
   "id": "e3201baf",
   "metadata": {},
   "outputs": [
    {
     "data": {
      "text/plain": [
       "{'input': {'cards': [], 'query': 7}, 'output': -1}"
      ]
     },
     "execution_count": 26,
     "metadata": {},
     "output_type": "execute_result"
    }
   ],
   "source": [
    "tests[6]"
   ]
  },
  {
   "cell_type": "code",
   "execution_count": 27,
   "id": "63d88588",
   "metadata": {},
   "outputs": [
    {
     "data": {
      "text/plain": [
       "-1"
      ]
     },
     "execution_count": 27,
     "metadata": {},
     "output_type": "execute_result"
    }
   ],
   "source": [
    "locate_card(cards6, query6)"
   ]
  },
  {
   "cell_type": "code",
   "execution_count": 28,
   "id": "d4226c1f",
   "metadata": {},
   "outputs": [
    {
     "name": "stdout",
     "output_type": "stream",
     "text": [
      "\n",
      "\u001b[1mTEST CASE #0\u001b[0m\n",
      "\n",
      "Input:\n",
      "{'cards': [13, 11, 10, 7, 4, 3, 1, 0], 'query': 7}\n",
      "\n",
      "Expected Output:\n",
      "3\n",
      "\n",
      "\n",
      "Actual Output:\n",
      "3\n",
      "\n",
      "Execution Time:\n",
      "0.008 ms\n",
      "\n",
      "Test Result:\n",
      "\u001b[92mPASSED\u001b[0m\n",
      "\n",
      "\n",
      "\u001b[1mTEST CASE #1\u001b[0m\n",
      "\n",
      "Input:\n",
      "{'cards': [13, 11, 10, 7, 4, 3, 1, 0], 'query': 1}\n",
      "\n",
      "Expected Output:\n",
      "6\n",
      "\n",
      "\n",
      "Actual Output:\n",
      "6\n",
      "\n",
      "Execution Time:\n",
      "0.005 ms\n",
      "\n",
      "Test Result:\n",
      "\u001b[92mPASSED\u001b[0m\n",
      "\n",
      "\n",
      "\u001b[1mTEST CASE #2\u001b[0m\n",
      "\n",
      "Input:\n",
      "{'cards': [13, 11, 10, 7, 1, -1], 'query': 13}\n",
      "\n",
      "Expected Output:\n",
      "0\n",
      "\n",
      "\n",
      "Actual Output:\n",
      "0\n",
      "\n",
      "Execution Time:\n",
      "0.003 ms\n",
      "\n",
      "Test Result:\n",
      "\u001b[92mPASSED\u001b[0m\n",
      "\n",
      "\n",
      "\u001b[1mTEST CASE #3\u001b[0m\n",
      "\n",
      "Input:\n",
      "{'cards': [13, 11, 10, 7, 5, -1, -13], 'query': -13}\n",
      "\n",
      "Expected Output:\n",
      "6\n",
      "\n",
      "\n",
      "Actual Output:\n",
      "6\n",
      "\n",
      "Execution Time:\n",
      "0.004 ms\n",
      "\n",
      "Test Result:\n",
      "\u001b[92mPASSED\u001b[0m\n",
      "\n",
      "\n",
      "\u001b[1mTEST CASE #4\u001b[0m\n",
      "\n",
      "Input:\n",
      "{'cards': [31], 'query': 31}\n",
      "\n",
      "Expected Output:\n",
      "0\n",
      "\n",
      "\n",
      "Actual Output:\n",
      "0\n",
      "\n",
      "Execution Time:\n",
      "0.003 ms\n",
      "\n",
      "Test Result:\n",
      "\u001b[92mPASSED\u001b[0m\n",
      "\n",
      "\n",
      "\u001b[1mTEST CASE #5\u001b[0m\n",
      "\n",
      "Input:\n",
      "{'cards': [9, 7, 5, 2, -2], 'query': 4}\n",
      "\n",
      "Expected Output:\n",
      "-1\n",
      "\n",
      "\n",
      "Actual Output:\n",
      "-1\n",
      "\n",
      "Execution Time:\n",
      "0.004 ms\n",
      "\n",
      "Test Result:\n",
      "\u001b[92mPASSED\u001b[0m\n",
      "\n",
      "\n",
      "\u001b[1mTEST CASE #6\u001b[0m\n",
      "\n",
      "Input:\n",
      "{'cards': [], 'query': 7}\n",
      "\n",
      "Expected Output:\n",
      "-1\n",
      "\n",
      "\n",
      "Actual Output:\n",
      "-1\n",
      "\n",
      "Execution Time:\n",
      "0.003 ms\n",
      "\n",
      "Test Result:\n",
      "\u001b[92mPASSED\u001b[0m\n",
      "\n",
      "\n",
      "\u001b[1mTEST CASE #7\u001b[0m\n",
      "\n",
      "Input:\n",
      "{'cards': [8, 8, 6, 6, 6, 6, 5, 2, 2, 1, 0, 0, 0], 'query': 5}\n",
      "\n",
      "Expected Output:\n",
      "6\n",
      "\n",
      "\n",
      "Actual Output:\n",
      "6\n",
      "\n",
      "Execution Time:\n",
      "0.004 ms\n",
      "\n",
      "Test Result:\n",
      "\u001b[92mPASSED\u001b[0m\n",
      "\n",
      "\n",
      "\u001b[1mTEST CASE #8\u001b[0m\n",
      "\n",
      "Input:\n",
      "{'cards': [8, 8, 6, 6, 5, 5, 4, 4, 4, 4, 3, 1, 0, -1, -12, -31], 'query': 4}\n",
      "\n",
      "Expected Output:\n",
      "6\n",
      "\n",
      "\n",
      "Actual Output:\n",
      "6\n",
      "\n",
      "Execution Time:\n",
      "0.003 ms\n",
      "\n",
      "Test Result:\n",
      "\u001b[92mPASSED\u001b[0m\n",
      "\n",
      "\n",
      "\u001b[1mSUMMARY\u001b[0m\n",
      "\n",
      "TOTAL: 9, \u001b[92mPASSED\u001b[0m: 9, \u001b[91mFAILED\u001b[0m: 0\n"
     ]
    },
    {
     "data": {
      "text/plain": [
       "[(3, True, 0.008),\n",
       " (6, True, 0.005),\n",
       " (0, True, 0.003),\n",
       " (6, True, 0.004),\n",
       " (0, True, 0.003),\n",
       " (-1, True, 0.004),\n",
       " (-1, True, 0.003),\n",
       " (6, True, 0.004),\n",
       " (6, True, 0.003)]"
      ]
     },
     "execution_count": 28,
     "metadata": {},
     "output_type": "execute_result"
    }
   ],
   "source": [
    "evaluate_test_cases(locate_card, tests)"
   ]
  },
  {
   "cell_type": "code",
   "execution_count": 29,
   "id": "632ae14d",
   "metadata": {},
   "outputs": [],
   "source": [
    "import jovian"
   ]
  },
  {
   "cell_type": "code",
   "execution_count": 30,
   "id": "59eab832",
   "metadata": {},
   "outputs": [
    {
     "data": {
      "application/javascript": [
       "window.require && require([\"base/js/namespace\"],function(Jupyter){Jupyter.notebook.save_checkpoint()})"
      ],
      "text/plain": [
       "<IPython.core.display.Javascript object>"
      ]
     },
     "metadata": {},
     "output_type": "display_data"
    },
    {
     "name": "stdout",
     "output_type": "stream",
     "text": [
      "[jovian] Updating notebook \"rohangoswami1134/01-linear-binary-search\" on https://jovian.com/\u001b[0m\n",
      "[jovian] Committed successfully! https://jovian.com/rohangoswami1134/01-linear-binary-search\u001b[0m\n"
     ]
    },
    {
     "data": {
      "text/plain": [
       "'https://jovian.com/rohangoswami1134/01-linear-binary-search'"
      ]
     },
     "execution_count": 30,
     "metadata": {},
     "output_type": "execute_result"
    }
   ],
   "source": [
    "jovian.commit(project='01_Linear-Binary_Search')"
   ]
  },
  {
   "cell_type": "markdown",
   "id": "1468bd33",
   "metadata": {},
   "source": [
    "# Utilizing the fact that the list of cards is in sorted(descending) pattern"
   ]
  },
  {
   "cell_type": "markdown",
   "id": "0aa4f726",
   "metadata": {},
   "source": [
    "# Applying Binary Sort"
   ]
  },
  {
   "cell_type": "code",
   "execution_count": 31,
   "id": "105b32e1",
   "metadata": {},
   "outputs": [],
   "source": [
    "def locate_card_binary(cards, query):\n",
    "    lo, hi = 0, len(cards) - 1     # NEW lEARNING: Assigning values to variables in this manner\n",
    "    \n",
    "    # Run while loop till low is less than or equal to high\n",
    "    while lo <= hi:\n",
    "        mid = (lo + hi) // 2        # initializing mid\n",
    "        mid_num = cards[mid]        # declaration and initialization to store mid number\n",
    "        \n",
    "        print('Low:', lo, ', Mid:', mid, ', High:', hi, ', Mid number:', mid_num, ', Query:', query)\n",
    "        \n",
    "        # if mid number is equal to query; return mid\n",
    "        if(mid_num == query):\n",
    "            return mid\n",
    "        \n",
    "        # if mid number is less than query; bring high in front of mid element\n",
    "        elif(mid_num < query):\n",
    "            hi = mid - 1\n",
    "            \n",
    "        # if mid number is greater than query; bring low to next of mid element\n",
    "        elif(mid_num > query):\n",
    "            lo = mid + 1\n",
    "    \n",
    "    return -1"
   ]
  },
  {
   "cell_type": "code",
   "execution_count": 32,
   "id": "fb4bcf2d",
   "metadata": {},
   "outputs": [
    {
     "name": "stdout",
     "output_type": "stream",
     "text": [
      "\n",
      "\u001b[1mTEST CASE #0\u001b[0m\n",
      "Low: 0 , Mid: 3 , High: 7 , Mid number: 7 , Query: 7\n",
      "\n",
      "Input:\n",
      "{'cards': [13, 11, 10, 7, 4, 3, 1, 0], 'query': 7}\n",
      "\n",
      "Expected Output:\n",
      "3\n",
      "\n",
      "\n",
      "Actual Output:\n",
      "3\n",
      "\n",
      "Execution Time:\n",
      "0.052 ms\n",
      "\n",
      "Test Result:\n",
      "\u001b[92mPASSED\u001b[0m\n",
      "\n",
      "\n",
      "\u001b[1mTEST CASE #1\u001b[0m\n",
      "Low: 0 , Mid: 3 , High: 7 , Mid number: 7 , Query: 1\n",
      "Low: 4 , Mid: 5 , High: 7 , Mid number: 3 , Query: 1\n",
      "Low: 6 , Mid: 6 , High: 7 , Mid number: 1 , Query: 1\n",
      "\n",
      "Input:\n",
      "{'cards': [13, 11, 10, 7, 4, 3, 1, 0], 'query': 1}\n",
      "\n",
      "Expected Output:\n",
      "6\n",
      "\n",
      "\n",
      "Actual Output:\n",
      "6\n",
      "\n",
      "Execution Time:\n",
      "0.135 ms\n",
      "\n",
      "Test Result:\n",
      "\u001b[92mPASSED\u001b[0m\n",
      "\n",
      "\n",
      "\u001b[1mTEST CASE #2\u001b[0m\n",
      "Low: 0 , Mid: 2 , High: 5 , Mid number: 10 , Query: 13\n",
      "Low: 0 , Mid: 0 , High: 1 , Mid number: 13 , Query: 13\n",
      "\n",
      "Input:\n",
      "{'cards': [13, 11, 10, 7, 1, -1], 'query': 13}\n",
      "\n",
      "Expected Output:\n",
      "0\n",
      "\n",
      "\n",
      "Actual Output:\n",
      "0\n",
      "\n",
      "Execution Time:\n",
      "0.11 ms\n",
      "\n",
      "Test Result:\n",
      "\u001b[92mPASSED\u001b[0m\n",
      "\n",
      "\n",
      "\u001b[1mTEST CASE #3\u001b[0m\n",
      "Low: 0 , Mid: 3 , High: 6 , Mid number: 7 , Query: -13\n",
      "Low: 4 , Mid: 5 , High: 6 , Mid number: -1 , Query: -13\n",
      "Low: 6 , Mid: 6 , High: 6 , Mid number: -13 , Query: -13\n",
      "\n",
      "Input:\n",
      "{'cards': [13, 11, 10, 7, 5, -1, -13], 'query': -13}\n",
      "\n",
      "Expected Output:\n",
      "6\n",
      "\n",
      "\n",
      "Actual Output:\n",
      "6\n",
      "\n",
      "Execution Time:\n",
      "0.118 ms\n",
      "\n",
      "Test Result:\n",
      "\u001b[92mPASSED\u001b[0m\n",
      "\n",
      "\n",
      "\u001b[1mTEST CASE #4\u001b[0m\n",
      "Low: 0 , Mid: 0 , High: 0 , Mid number: 31 , Query: 31\n",
      "\n",
      "Input:\n",
      "{'cards': [31], 'query': 31}\n",
      "\n",
      "Expected Output:\n",
      "0\n",
      "\n",
      "\n",
      "Actual Output:\n",
      "0\n",
      "\n",
      "Execution Time:\n",
      "0.039 ms\n",
      "\n",
      "Test Result:\n",
      "\u001b[92mPASSED\u001b[0m\n",
      "\n",
      "\n",
      "\u001b[1mTEST CASE #5\u001b[0m\n",
      "Low: 0 , Mid: 2 , High: 4 , Mid number: 5 , Query: 4\n",
      "Low: 3 , Mid: 3 , High: 4 , Mid number: 2 , Query: 4\n",
      "\n",
      "Input:\n",
      "{'cards': [9, 7, 5, 2, -2], 'query': 4}\n",
      "\n",
      "Expected Output:\n",
      "-1\n",
      "\n",
      "\n",
      "Actual Output:\n",
      "-1\n",
      "\n",
      "Execution Time:\n",
      "0.09 ms\n",
      "\n",
      "Test Result:\n",
      "\u001b[92mPASSED\u001b[0m\n",
      "\n",
      "\n",
      "\u001b[1mTEST CASE #6\u001b[0m\n",
      "\n",
      "Input:\n",
      "{'cards': [], 'query': 7}\n",
      "\n",
      "Expected Output:\n",
      "-1\n",
      "\n",
      "\n",
      "Actual Output:\n",
      "-1\n",
      "\n",
      "Execution Time:\n",
      "0.003 ms\n",
      "\n",
      "Test Result:\n",
      "\u001b[92mPASSED\u001b[0m\n",
      "\n",
      "\n",
      "\u001b[1mTEST CASE #7\u001b[0m\n",
      "Low: 0 , Mid: 6 , High: 12 , Mid number: 5 , Query: 5\n",
      "\n",
      "Input:\n",
      "{'cards': [8, 8, 6, 6, 6, 6, 5, 2, 2, 1, 0, 0, 0], 'query': 5}\n",
      "\n",
      "Expected Output:\n",
      "6\n",
      "\n",
      "\n",
      "Actual Output:\n",
      "6\n",
      "\n",
      "Execution Time:\n",
      "0.044 ms\n",
      "\n",
      "Test Result:\n",
      "\u001b[92mPASSED\u001b[0m\n",
      "\n",
      "\n",
      "\u001b[1mTEST CASE #8\u001b[0m\n",
      "Low: 0 , Mid: 7 , High: 15 , Mid number: 4 , Query: 4\n",
      "\n",
      "Input:\n",
      "{'cards': [8, 8, 6, 6, 5, 5, 4, 4, 4, 4, 3, 1, 0, -1, -12, -31], 'query': 4}\n",
      "\n",
      "Expected Output:\n",
      "6\n",
      "\n",
      "\n",
      "Actual Output:\n",
      "7\n",
      "\n",
      "Execution Time:\n",
      "0.037 ms\n",
      "\n",
      "Test Result:\n",
      "\u001b[91mFAILED\u001b[0m\n",
      "\n",
      "\n",
      "\u001b[1mSUMMARY\u001b[0m\n",
      "\n",
      "TOTAL: 9, \u001b[92mPASSED\u001b[0m: 8, \u001b[91mFAILED\u001b[0m: 1\n"
     ]
    },
    {
     "data": {
      "text/plain": [
       "[(3, True, 0.052),\n",
       " (6, True, 0.135),\n",
       " (0, True, 0.11),\n",
       " (6, True, 0.118),\n",
       " (0, True, 0.039),\n",
       " (-1, True, 0.09),\n",
       " (-1, True, 0.003),\n",
       " (6, True, 0.044),\n",
       " (7, False, 0.037)]"
      ]
     },
     "execution_count": 32,
     "metadata": {},
     "output_type": "execute_result"
    }
   ],
   "source": [
    "evaluate_test_cases(locate_card_binary, tests)"
   ]
  },
  {
   "cell_type": "code",
   "execution_count": 36,
   "id": "6282b279",
   "metadata": {},
   "outputs": [
    {
     "name": "stdout",
     "output_type": "stream",
     "text": [
      "\n",
      "Input:\n",
      "{'cards': [8, 8, 6, 6, 5, 5, 4, 4, 4, 4, 3, 1, 0, -1, -12, -31], 'query': 4}\n",
      "\n",
      "Expected Output:\n",
      "6\n",
      "\n",
      "Low: 0 , Mid: 7 , High: 15 , Mid number: 4 , Query: 4\n",
      "\n",
      "Actual Output:\n",
      "7\n",
      "\n",
      "Execution Time:\n",
      "0.051 ms\n",
      "\n",
      "Test Result:\n",
      "\u001b[91mFAILED\u001b[0m\n",
      "\n"
     ]
    },
    {
     "data": {
      "text/plain": [
       "(7, False, 0.051)"
      ]
     },
     "execution_count": 36,
     "metadata": {},
     "output_type": "execute_result"
    }
   ],
   "source": [
    "evaluate_test_case(locate_card_binary, tests[8])"
   ]
  },
  {
   "cell_type": "markdown",
   "id": "114cec28",
   "metadata": {},
   "source": [
    "# Modifying Binary Search code for occurance of query multiple times in list"
   ]
  },
  {
   "cell_type": "markdown",
   "id": "ca5a9406",
   "metadata": {},
   "source": [
    "# This Binary Search function prioratizes the 1st occurance of query"
   ]
  },
  {
   "cell_type": "code",
   "execution_count": 37,
   "id": "a59e526e",
   "metadata": {},
   "outputs": [],
   "source": [
    "def test_location(cards, query, mid):\n",
    "    mid_number = cards[mid]\n",
    "    print(\"Mid:\", mid, \", Mid number:\", mid_number, ', Query:', query)\n",
    "    \n",
    "    if mid_number == query:                        # if mid number matches with query \n",
    "        if mid-1 >= 0 and cards[mid-1] == query:   # check the element before mid \n",
    "            return 'left'                          # if its same as query; go to left\n",
    "        else:\n",
    "            return 'found'\n",
    "    elif mid_number < query:\n",
    "        return 'left'\n",
    "    else:\n",
    "        return 'right'"
   ]
  },
  {
   "cell_type": "code",
   "execution_count": 38,
   "id": "6ce25840",
   "metadata": {},
   "outputs": [],
   "source": [
    "def locate_card_binary(cards, query):\n",
    "    lo, hi = 0, len(cards) - 1\n",
    "    \n",
    "    while lo <= hi:\n",
    "        mid = (lo + hi) // 2\n",
    "        print('Low:', lo, ', High:', hi)\n",
    "        \n",
    "        result = test_location(cards, query, mid)    # store value returned by test_location function in result\n",
    "        \n",
    "        # if found; return mid\n",
    "        if(result == 'found'):\n",
    "            return mid\n",
    "        \n",
    "        # if left; bring high before mid\n",
    "        elif(result == 'left'):\n",
    "            hi = mid - 1\n",
    "            \n",
    "        # if right; bring low after mid\n",
    "        elif(result == 'right'):\n",
    "            lo = mid + 1\n",
    "    \n",
    "    return -1"
   ]
  },
  {
   "cell_type": "code",
   "execution_count": 40,
   "id": "793c6f67",
   "metadata": {},
   "outputs": [
    {
     "name": "stdout",
     "output_type": "stream",
     "text": [
      "\n",
      "Input:\n",
      "{'cards': [8, 8, 6, 6, 5, 5, 4, 4, 4, 4, 3, 1, 0, -1, -12, -31], 'query': 4}\n",
      "\n",
      "Expected Output:\n",
      "6\n",
      "\n",
      "Low: 0 , High: 15\n",
      "Mid: 7 , Mid number: 4 , Query: 4\n",
      "Low: 0 , High: 6\n",
      "Mid: 3 , Mid number: 6 , Query: 4\n",
      "Low: 4 , High: 6\n",
      "Mid: 5 , Mid number: 5 , Query: 4\n",
      "Low: 6 , High: 6\n",
      "Mid: 6 , Mid number: 4 , Query: 4\n",
      "\n",
      "Actual Output:\n",
      "6\n",
      "\n",
      "Execution Time:\n",
      "0.126 ms\n",
      "\n",
      "Test Result:\n",
      "\u001b[92mPASSED\u001b[0m\n",
      "\n"
     ]
    },
    {
     "data": {
      "text/plain": [
       "(6, True, 0.126)"
      ]
     },
     "execution_count": 40,
     "metadata": {},
     "output_type": "execute_result"
    }
   ],
   "source": [
    "evaluate_test_case(locate_card_binary, tests[8])"
   ]
  },
  {
   "cell_type": "code",
   "execution_count": 41,
   "id": "57be826b",
   "metadata": {},
   "outputs": [
    {
     "name": "stdout",
     "output_type": "stream",
     "text": [
      "\n",
      "\u001b[1mTEST CASE #0\u001b[0m\n",
      "Low: 0 , High: 7\n",
      "Mid: 3 , Mid number: 7 , Query: 7\n",
      "\n",
      "Input:\n",
      "{'cards': [13, 11, 10, 7, 4, 3, 1, 0], 'query': 7}\n",
      "\n",
      "Expected Output:\n",
      "3\n",
      "\n",
      "\n",
      "Actual Output:\n",
      "3\n",
      "\n",
      "Execution Time:\n",
      "0.052 ms\n",
      "\n",
      "Test Result:\n",
      "\u001b[92mPASSED\u001b[0m\n",
      "\n",
      "\n",
      "\u001b[1mTEST CASE #1\u001b[0m\n",
      "Low: 0 , High: 7\n",
      "Mid: 3 , Mid number: 7 , Query: 1\n",
      "Low: 4 , High: 7\n",
      "Mid: 5 , Mid number: 3 , Query: 1\n",
      "Low: 6 , High: 7\n",
      "Mid: 6 , Mid number: 1 , Query: 1\n",
      "\n",
      "Input:\n",
      "{'cards': [13, 11, 10, 7, 4, 3, 1, 0], 'query': 1}\n",
      "\n",
      "Expected Output:\n",
      "6\n",
      "\n",
      "\n",
      "Actual Output:\n",
      "6\n",
      "\n",
      "Execution Time:\n",
      "0.12 ms\n",
      "\n",
      "Test Result:\n",
      "\u001b[92mPASSED\u001b[0m\n",
      "\n",
      "\n",
      "\u001b[1mTEST CASE #2\u001b[0m\n",
      "Low: 0 , High: 5\n",
      "Mid: 2 , Mid number: 10 , Query: 13\n",
      "Low: 0 , High: 1\n",
      "Mid: 0 , Mid number: 13 , Query: 13\n",
      "\n",
      "Input:\n",
      "{'cards': [13, 11, 10, 7, 1, -1], 'query': 13}\n",
      "\n",
      "Expected Output:\n",
      "0\n",
      "\n",
      "\n",
      "Actual Output:\n",
      "0\n",
      "\n",
      "Execution Time:\n",
      "0.061 ms\n",
      "\n",
      "Test Result:\n",
      "\u001b[92mPASSED\u001b[0m\n",
      "\n",
      "\n",
      "\u001b[1mTEST CASE #3\u001b[0m\n",
      "Low: 0 , High: 6\n",
      "Mid: 3 , Mid number: 7 , Query: -13\n",
      "Low: 4 , High: 6\n",
      "Mid: 5 , Mid number: -1 , Query: -13\n",
      "Low: 6 , High: 6\n",
      "Mid: 6 , Mid number: -13 , Query: -13\n",
      "\n",
      "Input:\n",
      "{'cards': [13, 11, 10, 7, 5, -1, -13], 'query': -13}\n",
      "\n",
      "Expected Output:\n",
      "6\n",
      "\n",
      "\n",
      "Actual Output:\n",
      "6\n",
      "\n",
      "Execution Time:\n",
      "0.122 ms\n",
      "\n",
      "Test Result:\n",
      "\u001b[92mPASSED\u001b[0m\n",
      "\n",
      "\n",
      "\u001b[1mTEST CASE #4\u001b[0m\n",
      "Low: 0 , High: 0\n",
      "Mid: 0 , Mid number: 31 , Query: 31\n",
      "\n",
      "Input:\n",
      "{'cards': [31], 'query': 31}\n",
      "\n",
      "Expected Output:\n",
      "0\n",
      "\n",
      "\n",
      "Actual Output:\n",
      "0\n",
      "\n",
      "Execution Time:\n",
      "0.046 ms\n",
      "\n",
      "Test Result:\n",
      "\u001b[92mPASSED\u001b[0m\n",
      "\n",
      "\n",
      "\u001b[1mTEST CASE #5\u001b[0m\n",
      "Low: 0 , High: 4\n",
      "Mid: 2 , Mid number: 5 , Query: 4\n",
      "Low: 3 , High: 4\n",
      "Mid: 3 , Mid number: 2 , Query: 4\n",
      "\n",
      "Input:\n",
      "{'cards': [9, 7, 5, 2, -2], 'query': 4}\n",
      "\n",
      "Expected Output:\n",
      "-1\n",
      "\n",
      "\n",
      "Actual Output:\n",
      "-1\n",
      "\n",
      "Execution Time:\n",
      "0.1 ms\n",
      "\n",
      "Test Result:\n",
      "\u001b[92mPASSED\u001b[0m\n",
      "\n",
      "\n",
      "\u001b[1mTEST CASE #6\u001b[0m\n",
      "\n",
      "Input:\n",
      "{'cards': [], 'query': 7}\n",
      "\n",
      "Expected Output:\n",
      "-1\n",
      "\n",
      "\n",
      "Actual Output:\n",
      "-1\n",
      "\n",
      "Execution Time:\n",
      "0.004 ms\n",
      "\n",
      "Test Result:\n",
      "\u001b[92mPASSED\u001b[0m\n",
      "\n",
      "\n",
      "\u001b[1mTEST CASE #7\u001b[0m\n",
      "Low: 0 , High: 12\n",
      "Mid: 6 , Mid number: 5 , Query: 5\n",
      "\n",
      "Input:\n",
      "{'cards': [8, 8, 6, 6, 6, 6, 5, 2, 2, 1, 0, 0, 0], 'query': 5}\n",
      "\n",
      "Expected Output:\n",
      "6\n",
      "\n",
      "\n",
      "Actual Output:\n",
      "6\n",
      "\n",
      "Execution Time:\n",
      "0.045 ms\n",
      "\n",
      "Test Result:\n",
      "\u001b[92mPASSED\u001b[0m\n",
      "\n",
      "\n",
      "\u001b[1mTEST CASE #8\u001b[0m\n",
      "Low: 0 , High: 15\n",
      "Mid: 7 , Mid number: 4 , Query: 4\n",
      "Low: 0 , High: 6\n",
      "Mid: 3 , Mid number: 6 , Query: 4\n",
      "Low: 4 , High: 6\n",
      "Mid: 5 , Mid number: 5 , Query: 4\n",
      "Low: 6 , High: 6\n",
      "Mid: 6 , Mid number: 4 , Query: 4\n",
      "\n",
      "Input:\n",
      "{'cards': [8, 8, 6, 6, 5, 5, 4, 4, 4, 4, 3, 1, 0, -1, -12, -31], 'query': 4}\n",
      "\n",
      "Expected Output:\n",
      "6\n",
      "\n",
      "\n",
      "Actual Output:\n",
      "6\n",
      "\n",
      "Execution Time:\n",
      "0.165 ms\n",
      "\n",
      "Test Result:\n",
      "\u001b[92mPASSED\u001b[0m\n",
      "\n",
      "\n",
      "\u001b[1mSUMMARY\u001b[0m\n",
      "\n",
      "TOTAL: 9, \u001b[92mPASSED\u001b[0m: 9, \u001b[91mFAILED\u001b[0m: 0\n"
     ]
    },
    {
     "data": {
      "text/plain": [
       "[(3, True, 0.052),\n",
       " (6, True, 0.12),\n",
       " (0, True, 0.061),\n",
       " (6, True, 0.122),\n",
       " (0, True, 0.046),\n",
       " (-1, True, 0.1),\n",
       " (-1, True, 0.004),\n",
       " (6, True, 0.045),\n",
       " (6, True, 0.165)]"
      ]
     },
     "execution_count": 41,
     "metadata": {},
     "output_type": "execute_result"
    }
   ],
   "source": [
    "evaluate_test_cases(locate_card_binary, tests)"
   ]
  },
  {
   "cell_type": "code",
   "execution_count": 42,
   "id": "8983cf25",
   "metadata": {},
   "outputs": [],
   "source": [
    "def test_location(cards, query, mid):\n",
    "    mid_number = cards[mid]\n",
    "    \n",
    "    if mid_number == query:\n",
    "        if mid-1 >= 0 and cards[mid-1] == query:\n",
    "            return 'left'\n",
    "        else:\n",
    "            return 'found'\n",
    "    \n",
    "    elif mid_number < query:\n",
    "        return 'left'\n",
    "    \n",
    "    else:\n",
    "        return 'right'"
   ]
  },
  {
   "cell_type": "code",
   "execution_count": 43,
   "id": "0fd42e8c",
   "metadata": {},
   "outputs": [],
   "source": [
    "def locate_card_binary(cards, query):\n",
    "    lo, hi = 0, len(cards) - 1\n",
    "    \n",
    "    while lo <= hi:\n",
    "        mid = (lo + hi) // 2\n",
    "        result = test_location(cards, query, mid)\n",
    "        \n",
    "        if(result == 'found'):\n",
    "            return mid\n",
    "        elif(result == 'left'):\n",
    "            hi = mid - 1\n",
    "        elif(result == 'right'):\n",
    "            lo = mid + 1\n",
    "    \n",
    "    return -1"
   ]
  },
  {
   "cell_type": "code",
   "execution_count": 44,
   "id": "b2ed1d27",
   "metadata": {},
   "outputs": [
    {
     "name": "stdout",
     "output_type": "stream",
     "text": [
      "\n",
      "\u001b[1mTEST CASE #0\u001b[0m\n",
      "\n",
      "Input:\n",
      "{'cards': [13, 11, 10, 7, 4, 3, 1, 0], 'query': 7}\n",
      "\n",
      "Expected Output:\n",
      "3\n",
      "\n",
      "\n",
      "Actual Output:\n",
      "3\n",
      "\n",
      "Execution Time:\n",
      "0.009 ms\n",
      "\n",
      "Test Result:\n",
      "\u001b[92mPASSED\u001b[0m\n",
      "\n",
      "\n",
      "\u001b[1mTEST CASE #1\u001b[0m\n",
      "\n",
      "Input:\n",
      "{'cards': [13, 11, 10, 7, 4, 3, 1, 0], 'query': 1}\n",
      "\n",
      "Expected Output:\n",
      "6\n",
      "\n",
      "\n",
      "Actual Output:\n",
      "6\n",
      "\n",
      "Execution Time:\n",
      "0.004 ms\n",
      "\n",
      "Test Result:\n",
      "\u001b[92mPASSED\u001b[0m\n",
      "\n",
      "\n",
      "\u001b[1mTEST CASE #2\u001b[0m\n",
      "\n",
      "Input:\n",
      "{'cards': [13, 11, 10, 7, 1, -1], 'query': 13}\n",
      "\n",
      "Expected Output:\n",
      "0\n",
      "\n",
      "\n",
      "Actual Output:\n",
      "0\n",
      "\n",
      "Execution Time:\n",
      "0.003 ms\n",
      "\n",
      "Test Result:\n",
      "\u001b[92mPASSED\u001b[0m\n",
      "\n",
      "\n",
      "\u001b[1mTEST CASE #3\u001b[0m\n",
      "\n",
      "Input:\n",
      "{'cards': [13, 11, 10, 7, 5, -1, -13], 'query': -13}\n",
      "\n",
      "Expected Output:\n",
      "6\n",
      "\n",
      "\n",
      "Actual Output:\n",
      "6\n",
      "\n",
      "Execution Time:\n",
      "0.004 ms\n",
      "\n",
      "Test Result:\n",
      "\u001b[92mPASSED\u001b[0m\n",
      "\n",
      "\n",
      "\u001b[1mTEST CASE #4\u001b[0m\n",
      "\n",
      "Input:\n",
      "{'cards': [31], 'query': 31}\n",
      "\n",
      "Expected Output:\n",
      "0\n",
      "\n",
      "\n",
      "Actual Output:\n",
      "0\n",
      "\n",
      "Execution Time:\n",
      "0.003 ms\n",
      "\n",
      "Test Result:\n",
      "\u001b[92mPASSED\u001b[0m\n",
      "\n",
      "\n",
      "\u001b[1mTEST CASE #5\u001b[0m\n",
      "\n",
      "Input:\n",
      "{'cards': [9, 7, 5, 2, -2], 'query': 4}\n",
      "\n",
      "Expected Output:\n",
      "-1\n",
      "\n",
      "\n",
      "Actual Output:\n",
      "-1\n",
      "\n",
      "Execution Time:\n",
      "0.003 ms\n",
      "\n",
      "Test Result:\n",
      "\u001b[92mPASSED\u001b[0m\n",
      "\n",
      "\n",
      "\u001b[1mTEST CASE #6\u001b[0m\n",
      "\n",
      "Input:\n",
      "{'cards': [], 'query': 7}\n",
      "\n",
      "Expected Output:\n",
      "-1\n",
      "\n",
      "\n",
      "Actual Output:\n",
      "-1\n",
      "\n",
      "Execution Time:\n",
      "0.002 ms\n",
      "\n",
      "Test Result:\n",
      "\u001b[92mPASSED\u001b[0m\n",
      "\n",
      "\n",
      "\u001b[1mTEST CASE #7\u001b[0m\n",
      "\n",
      "Input:\n",
      "{'cards': [8, 8, 6, 6, 6, 6, 5, 2, 2, 1, 0, 0, 0], 'query': 5}\n",
      "\n",
      "Expected Output:\n",
      "6\n",
      "\n",
      "\n",
      "Actual Output:\n",
      "6\n",
      "\n",
      "Execution Time:\n",
      "0.003 ms\n",
      "\n",
      "Test Result:\n",
      "\u001b[92mPASSED\u001b[0m\n",
      "\n",
      "\n",
      "\u001b[1mTEST CASE #8\u001b[0m\n",
      "\n",
      "Input:\n",
      "{'cards': [8, 8, 6, 6, 5, 5, 4, 4, 4, 4, 3, 1, 0, -1, -12, -31], 'query': 4}\n",
      "\n",
      "Expected Output:\n",
      "6\n",
      "\n",
      "\n",
      "Actual Output:\n",
      "6\n",
      "\n",
      "Execution Time:\n",
      "0.004 ms\n",
      "\n",
      "Test Result:\n",
      "\u001b[92mPASSED\u001b[0m\n",
      "\n",
      "\n",
      "\u001b[1mSUMMARY\u001b[0m\n",
      "\n",
      "TOTAL: 9, \u001b[92mPASSED\u001b[0m: 9, \u001b[91mFAILED\u001b[0m: 0\n"
     ]
    },
    {
     "data": {
      "text/plain": [
       "[(3, True, 0.009),\n",
       " (6, True, 0.004),\n",
       " (0, True, 0.003),\n",
       " (6, True, 0.004),\n",
       " (0, True, 0.003),\n",
       " (-1, True, 0.003),\n",
       " (-1, True, 0.002),\n",
       " (6, True, 0.003),\n",
       " (6, True, 0.004)]"
      ]
     },
     "execution_count": 44,
     "metadata": {},
     "output_type": "execute_result"
    }
   ],
   "source": [
    "evaluate_test_cases(locate_card_binary, tests)"
   ]
  },
  {
   "cell_type": "code",
   "execution_count": 45,
   "id": "68f6961b",
   "metadata": {},
   "outputs": [
    {
     "data": {
      "application/javascript": [
       "window.require && require([\"base/js/namespace\"],function(Jupyter){Jupyter.notebook.save_checkpoint()})"
      ],
      "text/plain": [
       "<IPython.core.display.Javascript object>"
      ]
     },
     "metadata": {},
     "output_type": "display_data"
    },
    {
     "name": "stdout",
     "output_type": "stream",
     "text": [
      "[jovian] Updating notebook \"rohangoswami1134/01-linear-binary-search\" on https://jovian.com/\u001b[0m\n",
      "[jovian] Committed successfully! https://jovian.com/rohangoswami1134/01-linear-binary-search\u001b[0m\n"
     ]
    },
    {
     "data": {
      "text/plain": [
       "'https://jovian.com/rohangoswami1134/01-linear-binary-search'"
      ]
     },
     "execution_count": 45,
     "metadata": {},
     "output_type": "execute_result"
    }
   ],
   "source": [
    "jovian.commit()"
   ]
  },
  {
   "cell_type": "markdown",
   "id": "932d677e",
   "metadata": {},
   "source": [
    "# Binary Search VS Linear Search"
   ]
  },
  {
   "cell_type": "code",
   "execution_count": 46,
   "id": "2b2acc43",
   "metadata": {},
   "outputs": [],
   "source": [
    "def locate_card_linear(cards, query):\n",
    "    position = 0\n",
    "    while position < len(cards):\n",
    "        if cards[position] == query:\n",
    "            return position\n",
    "        position += 1\n",
    "    return -1"
   ]
  },
  {
   "cell_type": "code",
   "execution_count": 47,
   "id": "c5c8952a",
   "metadata": {},
   "outputs": [],
   "source": [
    "large_test = {\n",
    "    'input': {\n",
    "        'cards':list(range(10000000, 0, -1)),\n",
    "        'query':2\n",
    "    },\n",
    "    'output': 9999998\n",
    "}"
   ]
  },
  {
   "cell_type": "code",
   "execution_count": 48,
   "id": "327e3524",
   "metadata": {},
   "outputs": [],
   "source": [
    "# NEW LEARNING"
   ]
  },
  {
   "cell_type": "code",
   "execution_count": 49,
   "id": "5f24c42f",
   "metadata": {},
   "outputs": [
    {
     "name": "stdout",
     "output_type": "stream",
     "text": [
      "Result: 9999998\n",
      "Passed: True\n",
      "Execution time: 2818.217 ms\n"
     ]
    }
   ],
   "source": [
    "# result using OG linear search\n",
    "result, passed, runtime = evaluate_test_case(locate_card_linear, large_test, display = False)\n",
    "print(\"Result: {}\\nPassed: {}\\nExecution time: {} ms\".format(result, passed, runtime))"
   ]
  },
  {
   "cell_type": "code",
   "execution_count": 52,
   "id": "70d53950",
   "metadata": {},
   "outputs": [
    {
     "name": "stdout",
     "output_type": "stream",
     "text": [
      "Result: 9999998\n",
      "Passed: True\n",
      "Execution time: 1429.413 ms\n"
     ]
    }
   ],
   "source": [
    "# result using modified linear search\n",
    "resultL, passed, runtime = evaluate_test_case(locate_card, large_test, display = False)\n",
    "print(\"Result: {}\\nPassed: {}\\nExecution time: {} ms\".format(result, passed, runtime))"
   ]
  },
  {
   "cell_type": "code",
   "execution_count": 53,
   "id": "d7875793",
   "metadata": {},
   "outputs": [
    {
     "name": "stdout",
     "output_type": "stream",
     "text": [
      "Result: 9999998\n",
      "Passed: True\n",
      "Execution time: 0.021 ms\n"
     ]
    }
   ],
   "source": [
    "# result using binary search\n",
    "resultBinary, passed, runtime = evaluate_test_case(locate_card_binary, large_test, display = False)\n",
    "print(\"Result: {}\\nPassed: {}\\nExecution time: {} ms\".format(result, passed, runtime))"
   ]
  },
  {
   "cell_type": "markdown",
   "id": "ecf14ea9",
   "metadata": {},
   "source": [
    "# Generic Code"
   ]
  },
  {
   "cell_type": "code",
   "execution_count": 54,
   "id": "22be43a2",
   "metadata": {},
   "outputs": [],
   "source": [
    "def binary_search(low, high, condition):\n",
    "    while low < high:\n",
    "        mid = (low +high) // 2\n",
    "        result = condition(mid)\n",
    "        \n",
    "        if result == 'Found':\n",
    "            return mid\n",
    "        elif result == 'left':\n",
    "            high = mid - 1\n",
    "        else:\n",
    "            low = mid + 1\n",
    "            \n",
    "    return -1"
   ]
  },
  {
   "cell_type": "code",
   "execution_count": 55,
   "id": "348edafb",
   "metadata": {},
   "outputs": [],
   "source": [
    "def locate_card(cards, query):\n",
    "    \n",
    "    def condition(mid):\n",
    "        if cards[mid] == query:\n",
    "            if mid > 0 and cards[mid - 1] == query:\n",
    "                return 'left'\n",
    "            else:\n",
    "                return 'found'\n",
    "        elif cards[mid] < query:\n",
    "            return 'left'\n",
    "        else:\n",
    "            return 'right'\n",
    "    \n",
    "    return binary_search(0, len(cards) - 1, condition)"
   ]
  },
  {
   "cell_type": "code",
   "execution_count": 56,
   "id": "7e48acd5",
   "metadata": {},
   "outputs": [
    {
     "name": "stdout",
     "output_type": "stream",
     "text": [
      "\n",
      "\u001b[1mTEST CASE #0\u001b[0m\n",
      "\n",
      "Input:\n",
      "{'cards': [13, 11, 10, 7, 4, 3, 1, 0], 'query': 7}\n",
      "\n",
      "Expected Output:\n",
      "3\n",
      "\n",
      "\n",
      "Actual Output:\n",
      "3\n",
      "\n",
      "Execution Time:\n",
      "0.006 ms\n",
      "\n",
      "Test Result:\n",
      "\u001b[92mPASSED\u001b[0m\n",
      "\n",
      "\n",
      "\u001b[1mTEST CASE #1\u001b[0m\n",
      "\n",
      "Input:\n",
      "{'cards': [13, 11, 10, 7, 4, 3, 1, 0], 'query': 1}\n",
      "\n",
      "Expected Output:\n",
      "6\n",
      "\n",
      "\n",
      "Actual Output:\n",
      "6\n",
      "\n",
      "Execution Time:\n",
      "0.006 ms\n",
      "\n",
      "Test Result:\n",
      "\u001b[92mPASSED\u001b[0m\n",
      "\n",
      "\n",
      "\u001b[1mTEST CASE #2\u001b[0m\n",
      "\n",
      "Input:\n",
      "{'cards': [13, 11, 10, 7, 1, -1], 'query': 13}\n",
      "\n",
      "Expected Output:\n",
      "0\n",
      "\n",
      "\n",
      "Actual Output:\n",
      "0\n",
      "\n",
      "Execution Time:\n",
      "0.004 ms\n",
      "\n",
      "Test Result:\n",
      "\u001b[92mPASSED\u001b[0m\n",
      "\n",
      "\n",
      "\u001b[1mTEST CASE #3\u001b[0m\n",
      "\n",
      "Input:\n",
      "{'cards': [13, 11, 10, 7, 5, -1, -13], 'query': -13}\n",
      "\n",
      "Expected Output:\n",
      "6\n",
      "\n",
      "\n",
      "Actual Output:\n",
      "6\n",
      "\n",
      "Execution Time:\n",
      "0.005 ms\n",
      "\n",
      "Test Result:\n",
      "\u001b[92mPASSED\u001b[0m\n",
      "\n",
      "\n",
      "\u001b[1mTEST CASE #4\u001b[0m\n",
      "\n",
      "Input:\n",
      "{'cards': [31], 'query': 31}\n",
      "\n",
      "Expected Output:\n",
      "0\n",
      "\n",
      "\n",
      "Actual Output:\n",
      "0\n",
      "\n",
      "Execution Time:\n",
      "0.003 ms\n",
      "\n",
      "Test Result:\n",
      "\u001b[92mPASSED\u001b[0m\n",
      "\n",
      "\n",
      "\u001b[1mTEST CASE #5\u001b[0m\n",
      "\n",
      "Input:\n",
      "{'cards': [9, 7, 5, 2, -2], 'query': 4}\n",
      "\n",
      "Expected Output:\n",
      "-1\n",
      "\n",
      "\n",
      "Actual Output:\n",
      "-1\n",
      "\n",
      "Execution Time:\n",
      "0.004 ms\n",
      "\n",
      "Test Result:\n",
      "\u001b[92mPASSED\u001b[0m\n",
      "\n",
      "\n",
      "\u001b[1mTEST CASE #6\u001b[0m\n",
      "\n",
      "Input:\n",
      "{'cards': [], 'query': 7}\n",
      "\n",
      "Expected Output:\n",
      "-1\n",
      "\n",
      "\n",
      "Actual Output:\n",
      "-1\n",
      "\n",
      "Execution Time:\n",
      "0.002 ms\n",
      "\n",
      "Test Result:\n",
      "\u001b[92mPASSED\u001b[0m\n",
      "\n",
      "\n",
      "\u001b[1mTEST CASE #7\u001b[0m\n",
      "\n",
      "Input:\n",
      "{'cards': [8, 8, 6, 6, 6, 6, 5, 2, 2, 1, 0, 0, 0], 'query': 5}\n",
      "\n",
      "Expected Output:\n",
      "6\n",
      "\n",
      "\n",
      "Actual Output:\n",
      "6\n",
      "\n",
      "Execution Time:\n",
      "0.003 ms\n",
      "\n",
      "Test Result:\n",
      "\u001b[92mPASSED\u001b[0m\n",
      "\n",
      "\n",
      "\u001b[1mTEST CASE #8\u001b[0m\n",
      "\n",
      "Input:\n",
      "{'cards': [8, 8, 6, 6, 5, 5, 4, 4, 4, 4, 3, 1, 0, -1, -12, -31], 'query': 4}\n",
      "\n",
      "Expected Output:\n",
      "6\n",
      "\n",
      "\n",
      "Actual Output:\n",
      "6\n",
      "\n",
      "Execution Time:\n",
      "0.005 ms\n",
      "\n",
      "Test Result:\n",
      "\u001b[92mPASSED\u001b[0m\n",
      "\n",
      "\n",
      "\u001b[1mSUMMARY\u001b[0m\n",
      "\n",
      "TOTAL: 9, \u001b[92mPASSED\u001b[0m: 9, \u001b[91mFAILED\u001b[0m: 0\n"
     ]
    },
    {
     "data": {
      "text/plain": [
       "[(3, True, 0.006),\n",
       " (6, True, 0.006),\n",
       " (0, True, 0.004),\n",
       " (6, True, 0.005),\n",
       " (0, True, 0.003),\n",
       " (-1, True, 0.004),\n",
       " (-1, True, 0.002),\n",
       " (6, True, 0.003),\n",
       " (6, True, 0.005)]"
      ]
     },
     "execution_count": 56,
     "metadata": {},
     "output_type": "execute_result"
    }
   ],
   "source": [
    "evaluate_test_cases(locate_card_binary, tests)"
   ]
  },
  {
   "cell_type": "code",
   "execution_count": 57,
   "id": "cd12c11b",
   "metadata": {},
   "outputs": [
    {
     "data": {
      "application/javascript": [
       "window.require && require([\"base/js/namespace\"],function(Jupyter){Jupyter.notebook.save_checkpoint()})"
      ],
      "text/plain": [
       "<IPython.core.display.Javascript object>"
      ]
     },
     "metadata": {},
     "output_type": "display_data"
    },
    {
     "name": "stdout",
     "output_type": "stream",
     "text": [
      "[jovian] Updating notebook \"rohangoswami1134/01-linear-binary-search\" on https://jovian.com/\u001b[0m\n",
      "[jovian] Committed successfully! https://jovian.com/rohangoswami1134/01-linear-binary-search\u001b[0m\n"
     ]
    },
    {
     "data": {
      "text/plain": [
       "'https://jovian.com/rohangoswami1134/01-linear-binary-search'"
      ]
     },
     "execution_count": 57,
     "metadata": {},
     "output_type": "execute_result"
    }
   ],
   "source": [
    "jovian.commit()"
   ]
  },
  {
   "cell_type": "code",
   "execution_count": null,
   "id": "17af8b33",
   "metadata": {},
   "outputs": [],
   "source": []
  }
 ],
 "metadata": {
  "kernelspec": {
   "display_name": "Python 3 (ipykernel)",
   "language": "python",
   "name": "python3"
  },
  "language_info": {
   "codemirror_mode": {
    "name": "ipython",
    "version": 3
   },
   "file_extension": ".py",
   "mimetype": "text/x-python",
   "name": "python",
   "nbconvert_exporter": "python",
   "pygments_lexer": "ipython3",
   "version": "3.11.5"
  }
 },
 "nbformat": 4,
 "nbformat_minor": 5
}
